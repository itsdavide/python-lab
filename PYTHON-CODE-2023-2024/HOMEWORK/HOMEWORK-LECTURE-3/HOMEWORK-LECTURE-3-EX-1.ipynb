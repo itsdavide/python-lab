{
 "cells": [
  {
   "cell_type": "code",
   "execution_count": 1,
   "id": "23735e72-4210-4be6-9e2c-67a8bd577080",
   "metadata": {},
   "outputs": [],
   "source": [
    "# Import libraries\n",
    "import numpy as np\n",
    "from scipy.stats import norm"
   ]
  },
  {
   "cell_type": "code",
   "execution_count": 2,
   "id": "89afd4a6-0cb7-4559-adc0-28af5ca2005e",
   "metadata": {},
   "outputs": [],
   "source": [
    "# List of tuples of normal parameters\n",
    "normals = [(10, 0.8), (9, 0.3), (9, 0.4), (10, 0.5), (11, 0.6)]"
   ]
  },
  {
   "cell_type": "code",
   "execution_count": 3,
   "id": "7279d9e1-f388-4939-89bf-74af6078a673",
   "metadata": {},
   "outputs": [],
   "source": [
    "# Set the alpha value\n",
    "alpha = 0.05"
   ]
  },
  {
   "cell_type": "code",
   "execution_count": 4,
   "id": "275958c8-9b06-4ff3-82e1-f4eaa63c136a",
   "metadata": {},
   "outputs": [],
   "source": [
    "# Create an empty list of quantiles\n",
    "quantiles = []"
   ]
  },
  {
   "cell_type": "code",
   "execution_count": 5,
   "id": "d686e0d0-5029-40ae-8934-f3f1f4e9a9d6",
   "metadata": {},
   "outputs": [],
   "source": [
    "# Compute the aplha-quantile for every normal\n",
    "for (mu, sigma) in normals:\n",
    "    q = norm.ppf(alpha, mu, sigma)\n",
    "    quantiles.append(q)"
   ]
  },
  {
   "cell_type": "code",
   "execution_count": 6,
   "id": "90ae2c19-081f-4671-8ccf-f7dc49954810",
   "metadata": {},
   "outputs": [
    {
     "data": {
      "text/plain": [
       "[8.684117098438822,\n",
       " 8.506543911914559,\n",
       " 8.342058549219411,\n",
       " 9.177573186524263,\n",
       " 10.013087823829116]"
      ]
     },
     "execution_count": 6,
     "metadata": {},
     "output_type": "execute_result"
    }
   ],
   "source": [
    "quantiles"
   ]
  },
  {
   "cell_type": "code",
   "execution_count": 7,
   "id": "755c937c-6646-45f6-923c-8df1042c7721",
   "metadata": {},
   "outputs": [],
   "source": [
    "# Minimum and maximum quantiles\n",
    "min_q = min(quantiles)\n",
    "max_q = max(quantiles)"
   ]
  },
  {
   "cell_type": "code",
   "execution_count": 8,
   "id": "c640c4a8-6bd3-4e9e-8013-bd0f2a7dc339",
   "metadata": {},
   "outputs": [],
   "source": [
    "# Indices of minimum and maximum quantiles\n",
    "i_min = quantiles.index(min_q)\n",
    "i_max = quantiles.index(max_q)"
   ]
  },
  {
   "cell_type": "code",
   "execution_count": 9,
   "id": "c7691696-3a65-4279-8e02-318c5883e6bf",
   "metadata": {},
   "outputs": [
    {
     "name": "stdout",
     "output_type": "stream",
     "text": [
      "For alpha = 0.05 the minimum quantile is: 8.342058549219411\n",
      "The alpha = 0.05 the maximum quantile is: 10.013087823829116\n"
     ]
    }
   ],
   "source": [
    "# Print the minimum and maximum quantiles\n",
    "print('For alpha =', alpha, 'the minimum quantile is:', quantiles[i_min])\n",
    "print('The alpha =', alpha, 'the maximum quantile is:', quantiles[i_max])"
   ]
  },
  {
   "cell_type": "code",
   "execution_count": 10,
   "id": "f81b176b-a772-4894-a74b-5b09a1f43590",
   "metadata": {},
   "outputs": [],
   "source": [
    "# Set the alpha value\n",
    "alpha = 0.95"
   ]
  },
  {
   "cell_type": "code",
   "execution_count": 11,
   "id": "d67261f6-5886-4045-95f8-e900a81a25fa",
   "metadata": {},
   "outputs": [],
   "source": [
    "# Create an empty list of quantiles\n",
    "quantiles = []"
   ]
  },
  {
   "cell_type": "code",
   "execution_count": 12,
   "id": "ae372164-c286-464c-95d1-00617df51211",
   "metadata": {},
   "outputs": [],
   "source": [
    "# Compute the aplha-quantile for every normal\n",
    "for (mu, sigma) in normals:\n",
    "    q = norm.ppf(alpha, mu, sigma)\n",
    "    quantiles.append(q)"
   ]
  },
  {
   "cell_type": "code",
   "execution_count": 13,
   "id": "5ced033d-caa8-4376-87ac-417d7ddc0778",
   "metadata": {},
   "outputs": [
    {
     "data": {
      "text/plain": [
       "[11.315882901561178,\n",
       " 9.493456088085441,\n",
       " 9.657941450780589,\n",
       " 10.822426813475737,\n",
       " 11.986912176170883]"
      ]
     },
     "execution_count": 13,
     "metadata": {},
     "output_type": "execute_result"
    }
   ],
   "source": [
    "quantiles"
   ]
  },
  {
   "cell_type": "code",
   "execution_count": 14,
   "id": "05a1b1c6-9252-48fb-ada8-32db649f3e7f",
   "metadata": {},
   "outputs": [],
   "source": [
    "# Minimum and maximum quantiles\n",
    "min_q = min(quantiles)\n",
    "max_q = max(quantiles)"
   ]
  },
  {
   "cell_type": "code",
   "execution_count": 15,
   "id": "73cee1f7-9bd2-462a-a399-a378a3d6c055",
   "metadata": {},
   "outputs": [],
   "source": [
    "# Indices of minimum and maximum quantiles\n",
    "i_min = quantiles.index(min_q)\n",
    "i_max = quantiles.index(max_q)"
   ]
  },
  {
   "cell_type": "code",
   "execution_count": 16,
   "id": "392c365c-18df-4fa5-8d48-0ab7a1db2092",
   "metadata": {},
   "outputs": [
    {
     "name": "stdout",
     "output_type": "stream",
     "text": [
      "For alpha = 0.95 the minimum quantile is: 9.493456088085441\n",
      "The alpha = 0.95 the maximum quantile is: 11.986912176170883\n"
     ]
    }
   ],
   "source": [
    "# Print the minimum and maximum quantiles\n",
    "print('For alpha =', alpha, 'the minimum quantile is:', quantiles[i_min])\n",
    "print('The alpha =', alpha, 'the maximum quantile is:', quantiles[i_max])"
   ]
  },
  {
   "cell_type": "code",
   "execution_count": null,
   "id": "408b2b29-8866-416c-89b2-4e26ff3eb578",
   "metadata": {},
   "outputs": [],
   "source": []
  }
 ],
 "metadata": {
  "kernelspec": {
   "display_name": "Python 3 (ipykernel)",
   "language": "python",
   "name": "python3"
  },
  "language_info": {
   "codemirror_mode": {
    "name": "ipython",
    "version": 3
   },
   "file_extension": ".py",
   "mimetype": "text/x-python",
   "name": "python",
   "nbconvert_exporter": "python",
   "pygments_lexer": "ipython3",
   "version": "3.10.11"
  }
 },
 "nbformat": 4,
 "nbformat_minor": 5
}
