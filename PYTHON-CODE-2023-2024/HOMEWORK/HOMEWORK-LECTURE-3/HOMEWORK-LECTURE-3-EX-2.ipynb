{
 "cells": [
  {
   "cell_type": "code",
   "execution_count": 1,
   "id": "7cdfa452-de49-4206-a224-425417f06994",
   "metadata": {},
   "outputs": [],
   "source": [
    "# Import the libraries\n",
    "import numpy as np\n",
    "import itertools"
   ]
  },
  {
   "cell_type": "code",
   "execution_count": 2,
   "id": "b8d85ecd-c3d5-40d5-a691-cd17d7bd2ae5",
   "metadata": {},
   "outputs": [
    {
     "data": {
      "text/plain": [
       "array([[1, 2, 3],\n",
       "       [1, 2, 5],\n",
       "       [1, 2, 1]])"
      ]
     },
     "execution_count": 2,
     "metadata": {},
     "output_type": "execute_result"
    }
   ],
   "source": [
    "A = np.array([[1, 2, 3], [1, 2, 5], [1, 2, 1]])\n",
    "A"
   ]
  },
  {
   "cell_type": "code",
   "execution_count": 3,
   "id": "e6f3f17b-e722-4b8c-887f-5ddbc12eba24",
   "metadata": {},
   "outputs": [],
   "source": [
    "# Find a subset of r linearly independet columns of A (if it exists)\n",
    "def non_redundant(A, r):\n",
    "    rows, cols = A.shape\n",
    "    indices = range(cols) #[0, 1, ..., cols-1]\n",
    "    \n",
    "    # Iterate among all subsets of r columns\n",
    "    for subcols in itertools.combinations(indices, r):\n",
    "        # Extract a submatrix with r columns\n",
    "        subA = A[:, subcols]\n",
    "        # Compute the rank of the submatrix with r columns\n",
    "        r_subA = np.linalg.matrix_rank(subA)\n",
    "        if r_subA == r:\n",
    "            return subA\n",
    "    "
   ]
  },
  {
   "cell_type": "code",
   "execution_count": 4,
   "id": "8523727b-f360-49f5-ad98-78743ae0d935",
   "metadata": {},
   "outputs": [
    {
     "data": {
      "text/plain": [
       "array([[1],\n",
       "       [1],\n",
       "       [1]])"
      ]
     },
     "execution_count": 4,
     "metadata": {},
     "output_type": "execute_result"
    }
   ],
   "source": [
    "non_redundant(A, 1)"
   ]
  },
  {
   "cell_type": "code",
   "execution_count": 5,
   "id": "5c232732-bbf4-4249-8385-7328fa6e17d8",
   "metadata": {},
   "outputs": [
    {
     "data": {
      "text/plain": [
       "array([[1, 3],\n",
       "       [1, 5],\n",
       "       [1, 1]])"
      ]
     },
     "execution_count": 5,
     "metadata": {},
     "output_type": "execute_result"
    }
   ],
   "source": [
    "non_redundant(A, 2)"
   ]
  },
  {
   "cell_type": "code",
   "execution_count": 6,
   "id": "3c942fe5-1e70-4995-a566-1650469d9f10",
   "metadata": {},
   "outputs": [],
   "source": [
    "# The function return nothing since there are no 3 linerly independent columns\n",
    "non_redundant(A, 3)"
   ]
  },
  {
   "cell_type": "code",
   "execution_count": null,
   "id": "dd2827c9-ef0b-466b-9d1d-4ccf9d7b0e7e",
   "metadata": {},
   "outputs": [],
   "source": []
  }
 ],
 "metadata": {
  "kernelspec": {
   "display_name": "Python 3 (ipykernel)",
   "language": "python",
   "name": "python3"
  },
  "language_info": {
   "codemirror_mode": {
    "name": "ipython",
    "version": 3
   },
   "file_extension": ".py",
   "mimetype": "text/x-python",
   "name": "python",
   "nbconvert_exporter": "python",
   "pygments_lexer": "ipython3",
   "version": "3.10.11"
  }
 },
 "nbformat": 4,
 "nbformat_minor": 5
}
