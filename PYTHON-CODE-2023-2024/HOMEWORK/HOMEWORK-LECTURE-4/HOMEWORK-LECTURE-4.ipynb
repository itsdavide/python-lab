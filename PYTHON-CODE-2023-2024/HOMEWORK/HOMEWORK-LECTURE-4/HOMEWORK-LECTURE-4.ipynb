{
 "cells": [
  {
   "cell_type": "code",
   "execution_count": 1,
   "id": "3e8216fd-c7e9-4069-91a3-31a2f29f3a43",
   "metadata": {},
   "outputs": [],
   "source": [
    "# Import libraries\n",
    "import numpy as np\n",
    "import itertools"
   ]
  },
  {
   "cell_type": "code",
   "execution_count": 2,
   "id": "712323b6-a1be-4181-802b-8c363be6e422",
   "metadata": {},
   "outputs": [],
   "source": [
    "# Find a subset of r linearly independent columns of A (if it exists)\n",
    "def non_redundant(A, r):\n",
    "    rows, cols = A.shape\n",
    "    indices = range(cols) #[0, 1, ..., cols-1]\n",
    "    \n",
    "    # Iterate among all subsets of r columns\n",
    "    for subcols in itertools.combinations(indices, r):\n",
    "        subA = A[:, subcols]\n",
    "        r_subA = np.linalg.matrix_rank(subA)\n",
    "        if r_subA == r:\n",
    "            return subA"
   ]
  },
  {
   "cell_type": "code",
   "execution_count": 3,
   "id": "069458c8-5e24-4a71-afba-3a4a971babab",
   "metadata": {},
   "outputs": [],
   "source": [
    "# Build the market\n",
    "# Bond\n",
    "B1 = np.array([10, 10, 10])\n",
    "B0 = 10\n",
    "\n",
    "# Stock 1\n",
    "S1_1 = np.array([30, 20, 10])\n",
    "S1_0 = 20\n",
    "\n",
    "# Stock 2\n",
    "S2_1 = np.array([15, 5, 0])\n",
    "S2_0 = 6\n",
    "\n",
    "# Stock 3\n",
    "S3_1 = np.array([60, 40, 20])\n",
    "S3_0 = 40"
   ]
  },
  {
   "cell_type": "code",
   "execution_count": 4,
   "id": "26552e4c-f03e-494c-9379-e468f9259c1c",
   "metadata": {},
   "outputs": [
    {
     "data": {
      "text/plain": [
       "array([[10, 30, 15, 60],\n",
       "       [10, 20,  5, 40],\n",
       "       [10, 10,  0, 20]])"
      ]
     },
     "execution_count": 4,
     "metadata": {},
     "output_type": "execute_result"
    }
   ],
   "source": [
    "# Payoffs at time T = 1\n",
    "M1 = np.array([B1, S1_1, S2_1, S3_1]).T\n",
    "M1"
   ]
  },
  {
   "cell_type": "code",
   "execution_count": 5,
   "id": "d1c54ec6-88c9-4526-9dea-6215b2f5e673",
   "metadata": {},
   "outputs": [
    {
     "data": {
      "text/plain": [
       "array([[10, 20,  6, 40]])"
      ]
     },
     "execution_count": 5,
     "metadata": {},
     "output_type": "execute_result"
    }
   ],
   "source": [
    "# Prices at time t = 0\n",
    "M0 = np.array([B0, S1_0, S2_0, S3_0]).reshape(1, 4)\n",
    "M0"
   ]
  },
  {
   "cell_type": "code",
   "execution_count": 6,
   "id": "cb10a367-2303-476f-a585-5bfc07bba25c",
   "metadata": {},
   "outputs": [
    {
     "data": {
      "text/plain": [
       "array([[10, 30, 15],\n",
       "       [10, 20,  5],\n",
       "       [10, 10,  0]])"
      ]
     },
     "execution_count": 6,
     "metadata": {},
     "output_type": "execute_result"
    }
   ],
   "source": [
    "# Point 1.\n",
    "# Extract the submarket with 3 non-redundant assets\n",
    "M1s = non_redundant(M1, 3)\n",
    "M1s"
   ]
  },
  {
   "cell_type": "code",
   "execution_count": 7,
   "id": "5bbb8885-acef-48bc-8ac2-7ed166099189",
   "metadata": {},
   "outputs": [
    {
     "data": {
      "text/plain": [
       "array([[10, 20,  6]])"
      ]
     },
     "execution_count": 7,
     "metadata": {},
     "output_type": "execute_result"
    }
   ],
   "source": [
    "# Create the corresponding sub-vector of prices\n",
    "M0s = np.array([B0, S1_0, S2_0]).reshape(1, 3)\n",
    "M0s"
   ]
  },
  {
   "cell_type": "code",
   "execution_count": 8,
   "id": "0a0d50b8-ab88-4275-b874-eff2df381f68",
   "metadata": {},
   "outputs": [
    {
     "name": "stdout",
     "output_type": "stream",
     "text": [
      "The market is complete\n",
      "No redundant assets\n"
     ]
    }
   ],
   "source": [
    "# Point 2.\n",
    "# Verify that the submarket is complete\n",
    "r = np.linalg.matrix_rank(M1s)\n",
    "rows, cols = M1s.shape\n",
    "\n",
    "if r == rows:\n",
    "    print('The market is complete')\n",
    "else:\n",
    "    print('The market is incomplete')\n",
    "    \n",
    "if r == rows and r == cols:\n",
    "    print('No redundant assets')"
   ]
  },
  {
   "cell_type": "code",
   "execution_count": 9,
   "id": "257aaf95-c60e-4f42-954a-138214f01727",
   "metadata": {},
   "outputs": [
    {
     "data": {
      "text/plain": [
       "array([ 0,  1,  2,  3,  4,  5,  6,  7,  8,  9, 10, 11, 12, 13, 14, 15, 16,\n",
       "       17, 18, 19, 20])"
      ]
     },
     "execution_count": 9,
     "metadata": {},
     "output_type": "execute_result"
    }
   ],
   "source": [
    "# Point 3.\n",
    "# Create an array of strike prices for a call option\n",
    "K = np.arange(0, 21)\n",
    "K"
   ]
  },
  {
   "cell_type": "code",
   "execution_count": 10,
   "id": "575948d7-7636-4db9-b034-765ab5daafc7",
   "metadata": {},
   "outputs": [],
   "source": [
    "# Create an empty list of call prices\n",
    "C0_prices = []"
   ]
  },
  {
   "cell_type": "code",
   "execution_count": 11,
   "id": "15f4f72e-dbf4-4ee9-88d9-43f1e4ff169e",
   "metadata": {},
   "outputs": [],
   "source": [
    "# For each strike price\n",
    "for i in range(len(K)):\n",
    "    # Create the payoff of the call with the current K[i]\n",
    "    C1 = np.maximum(S1_1 - K[i], 0)\n",
    "    C1 = C1.reshape(3, 1)\n",
    "    \n",
    "    # Build the replicating portfolio\n",
    "    M1sinv = np.linalg.inv(M1s)\n",
    "    theta = M1sinv @ C1\n",
    "    \n",
    "    # Compute the no-arbitrage price of the call\n",
    "    C0 = M0s @ theta\n",
    "    C0 = C0[0, 0]\n",
    "    \n",
    "    # Insert the current call price in the list of call prices\n",
    "    C0_prices.append(C0)"
   ]
  },
  {
   "cell_type": "code",
   "execution_count": 12,
   "id": "4961cfd4-4412-4b82-b806-a5ee5208df50",
   "metadata": {},
   "outputs": [
    {
     "data": {
      "text/plain": [
       "[19.99999999999998,\n",
       " 18.999999999999982,\n",
       " 17.99999999999997,\n",
       " 16.99999999999998,\n",
       " 15.999999999999977,\n",
       " 14.999999999999984,\n",
       " 13.999999999999993,\n",
       " 12.999999999999982,\n",
       " 11.999999999999984,\n",
       " 10.99999999999999,\n",
       " 9.999999999999986,\n",
       " 9.199999999999983,\n",
       " 8.399999999999991,\n",
       " 7.599999999999995,\n",
       " 6.799999999999992,\n",
       " 5.999999999999993,\n",
       " 5.199999999999995,\n",
       " 4.399999999999995,\n",
       " 3.599999999999997,\n",
       " 2.799999999999999,\n",
       " 2.0]"
      ]
     },
     "execution_count": 12,
     "metadata": {},
     "output_type": "execute_result"
    }
   ],
   "source": [
    "C0_prices"
   ]
  },
  {
   "cell_type": "code",
   "execution_count": 13,
   "id": "a261e864-b536-41a8-922c-971c5a6d97d1",
   "metadata": {},
   "outputs": [
    {
     "data": {
      "text/plain": [
       "Text(0.5, 1.0, 'Call price as a function of K')"
      ]
     },
     "execution_count": 13,
     "metadata": {},
     "output_type": "execute_result"
    },
    {
     "data": {
      "image/png": "[encoded data removed]",
      "text/plain": [
       "<Figure size 640x480 with 1 Axes>"
      ]
     },
     "metadata": {},
     "output_type": "display_data"
    }
   ],
   "source": [
    "# Point 4.\n",
    "# Plot the graph of call price as a function of K\n",
    "# K is on the x axis and C0 on the y axis\n",
    "import matplotlib.pyplot as plt\n",
    "\n",
    "plt.plot(K, C0_prices)\n",
    "plt.title('Call price as a function of K')"
   ]
  },
  {
   "cell_type": "code",
   "execution_count": null,
   "id": "beb95bad-6d9a-4b2e-83a8-9078a4bd998c",
   "metadata": {},
   "outputs": [],
   "source": []
  }
 ],
 "metadata": {
  "kernelspec": {
   "display_name": "Python 3 (ipykernel)",
   "language": "python",
   "name": "python3"
  },
  "language_info": {
   "codemirror_mode": {
    "name": "ipython",
    "version": 3
   },
   "file_extension": ".py",
   "mimetype": "text/x-python",
   "name": "python",
   "nbconvert_exporter": "python",
   "pygments_lexer": "ipython3",
   "version": "3.10.11"
  }
 },
 "nbformat": 4,
 "nbformat_minor": 5
}
