{
 "cells": [
  {
   "cell_type": "code",
   "execution_count": 1,
   "id": "4a4fc5ec-2185-4bf3-8236-52ac3228d8e6",
   "metadata": {},
   "outputs": [],
   "source": [
    "# Import libraries\n",
    "import numpy as np\n",
    "import yfinance as yf\n",
    "from scipy.stats import norm\n",
    "import matplotlib.pyplot as plt\n",
    "from scipy.stats import multivariate_normal"
   ]
  },
  {
   "cell_type": "code",
   "execution_count": 2,
   "id": "eaab6d2c-f90b-47ce-adaa-1682201c296b",
   "metadata": {},
   "outputs": [
    {
     "name": "stdout",
     "output_type": "stream",
     "text": [
      "[*********************100%***********************]  2 of 2 completed\n"
     ]
    },
    {
     "data": {
      "text/html": [
       "<div>\n",
       "<style scoped>\n",
       "    .dataframe tbody tr th:only-of-type {\n",
       "        vertical-align: middle;\n",
       "    }\n",
       "\n",
       "    .dataframe tbody tr th {\n",
       "        vertical-align: top;\n",
       "    }\n",
       "\n",
       "    .dataframe thead th {\n",
       "        text-align: right;\n",
       "    }\n",
       "</style>\n",
       "<table border=\"1\" class=\"dataframe\">\n",
       "  <thead>\n",
       "    <tr style=\"text-align: right;\">\n",
       "      <th></th>\n",
       "      <th>META</th>\n",
       "      <th>TSLA</th>\n",
       "    </tr>\n",
       "    <tr>\n",
       "      <th>Date</th>\n",
       "      <th></th>\n",
       "      <th></th>\n",
       "    </tr>\n",
       "  </thead>\n",
       "  <tbody>\n",
       "    <tr>\n",
       "      <th>2021-05-17</th>\n",
       "      <td>315.125641</td>\n",
       "      <td>192.276672</td>\n",
       "    </tr>\n",
       "    <tr>\n",
       "      <th>2021-05-18</th>\n",
       "      <td>309.631470</td>\n",
       "      <td>192.623337</td>\n",
       "    </tr>\n",
       "    <tr>\n",
       "      <th>2021-05-19</th>\n",
       "      <td>313.257629</td>\n",
       "      <td>187.820007</td>\n",
       "    </tr>\n",
       "    <tr>\n",
       "      <th>2021-05-20</th>\n",
       "      <td>318.272308</td>\n",
       "      <td>195.593338</td>\n",
       "    </tr>\n",
       "    <tr>\n",
       "      <th>2021-05-21</th>\n",
       "      <td>315.894836</td>\n",
       "      <td>193.626663</td>\n",
       "    </tr>\n",
       "    <tr>\n",
       "      <th>...</th>\n",
       "      <td>...</td>\n",
       "      <td>...</td>\n",
       "    </tr>\n",
       "    <tr>\n",
       "      <th>2024-05-13</th>\n",
       "      <td>468.010010</td>\n",
       "      <td>171.889999</td>\n",
       "    </tr>\n",
       "    <tr>\n",
       "      <th>2024-05-14</th>\n",
       "      <td>471.850006</td>\n",
       "      <td>177.550003</td>\n",
       "    </tr>\n",
       "    <tr>\n",
       "      <th>2024-05-15</th>\n",
       "      <td>481.540009</td>\n",
       "      <td>173.990005</td>\n",
       "    </tr>\n",
       "    <tr>\n",
       "      <th>2024-05-16</th>\n",
       "      <td>473.230011</td>\n",
       "      <td>174.839996</td>\n",
       "    </tr>\n",
       "    <tr>\n",
       "      <th>2024-05-17</th>\n",
       "      <td>471.829987</td>\n",
       "      <td>177.011200</td>\n",
       "    </tr>\n",
       "  </tbody>\n",
       "</table>\n",
       "<p>757 rows × 2 columns</p>\n",
       "</div>"
      ],
      "text/plain": [
       "                  META        TSLA\n",
       "Date                              \n",
       "2021-05-17  315.125641  192.276672\n",
       "2021-05-18  309.631470  192.623337\n",
       "2021-05-19  313.257629  187.820007\n",
       "2021-05-20  318.272308  195.593338\n",
       "2021-05-21  315.894836  193.626663\n",
       "...                ...         ...\n",
       "2024-05-13  468.010010  171.889999\n",
       "2024-05-14  471.850006  177.550003\n",
       "2024-05-15  481.540009  173.990005\n",
       "2024-05-16  473.230011  174.839996\n",
       "2024-05-17  471.829987  177.011200\n",
       "\n",
       "[757 rows x 2 columns]"
      ]
     },
     "execution_count": 2,
     "metadata": {},
     "output_type": "execute_result"
    }
   ],
   "source": [
    "# Point 1.\n",
    "# Donwload a joint dataset of closing prices for the last 3 years\n",
    "tickers = ['META', 'TSLA']\n",
    "stocks = yf.Tickers(tickers)\n",
    "hist_data = stocks.history(period='3y')['Close']\n",
    "# Delete rows (if any) with NaN\n",
    "hist_data = hist_data.dropna()\n",
    "hist_data"
   ]
  },
  {
   "cell_type": "code",
   "execution_count": 3,
   "id": "8de62f34-c4e3-42db-90c0-344b305467df",
   "metadata": {},
   "outputs": [
    {
     "data": {
      "text/plain": [
       "471.8299865722656"
      ]
     },
     "execution_count": 3,
     "metadata": {},
     "output_type": "execute_result"
    }
   ],
   "source": [
    "# Point 2.\n",
    "# Extract the last available prices\n",
    "on_date = '2024-05-17'\n",
    "S1_0 = hist_data['META'][on_date]\n",
    "S1_0"
   ]
  },
  {
   "cell_type": "code",
   "execution_count": 4,
   "id": "9c9bd579-c129-4bdd-98f7-61f316b5daf8",
   "metadata": {},
   "outputs": [
    {
     "data": {
      "text/plain": [
       "177.01119995117188"
      ]
     },
     "execution_count": 4,
     "metadata": {},
     "output_type": "execute_result"
    }
   ],
   "source": [
    "S2_0 = hist_data['TSLA'][on_date]\n",
    "S2_0"
   ]
  },
  {
   "cell_type": "code",
   "execution_count": 5,
   "id": "1f21ffa9-1a5d-476f-8d99-db75855c7e0e",
   "metadata": {},
   "outputs": [],
   "source": [
    "# Create an array of current share prices\n",
    "share_prices = np.array([S1_0, S2_0])"
   ]
  },
  {
   "cell_type": "code",
   "execution_count": 6,
   "id": "d8ebaa8a-14df-4728-9ea9-25165a5c13ae",
   "metadata": {},
   "outputs": [],
   "source": [
    "# Point 3.\n",
    "# Create an array of shares\n",
    "theta = np.array([3000, 2000])"
   ]
  },
  {
   "cell_type": "code",
   "execution_count": 7,
   "id": "668e5ee5-962b-4272-a2a8-9d0d256ad587",
   "metadata": {},
   "outputs": [
    {
     "data": {
      "text/plain": [
       "1769512.3596191406"
      ]
     },
     "execution_count": 7,
     "metadata": {},
     "output_type": "execute_result"
    }
   ],
   "source": [
    "# Point 4.\n",
    "# Compute the price of the portfolio (.dot is the scalar product of vectors)\n",
    "initial_investment = theta.dot(share_prices)\n",
    "initial_investment"
   ]
  },
  {
   "cell_type": "code",
   "execution_count": 8,
   "id": "36e777c4-105a-4c38-bcaf-c12cdf072779",
   "metadata": {},
   "outputs": [
    {
     "data": {
      "text/plain": [
       "array([0.79993223, 0.20006777])"
      ]
     },
     "execution_count": 8,
     "metadata": {},
     "output_type": "execute_result"
    }
   ],
   "source": [
    "# Point 5.\n",
    "# Compute the array of weights (* is the component-wise product of vectors)\n",
    "weights = (theta * share_prices) / initial_investment\n",
    "weights"
   ]
  },
  {
   "cell_type": "code",
   "execution_count": 9,
   "id": "f3aa1916-4327-4b5c-ab04-b22753f3f742",
   "metadata": {},
   "outputs": [
    {
     "data": {
      "text/html": [
       "<div>\n",
       "<style scoped>\n",
       "    .dataframe tbody tr th:only-of-type {\n",
       "        vertical-align: middle;\n",
       "    }\n",
       "\n",
       "    .dataframe tbody tr th {\n",
       "        vertical-align: top;\n",
       "    }\n",
       "\n",
       "    .dataframe thead th {\n",
       "        text-align: right;\n",
       "    }\n",
       "</style>\n",
       "<table border=\"1\" class=\"dataframe\">\n",
       "  <thead>\n",
       "    <tr style=\"text-align: right;\">\n",
       "      <th></th>\n",
       "      <th>META</th>\n",
       "      <th>TSLA</th>\n",
       "    </tr>\n",
       "    <tr>\n",
       "      <th>Date</th>\n",
       "      <th></th>\n",
       "      <th></th>\n",
       "    </tr>\n",
       "  </thead>\n",
       "  <tbody>\n",
       "    <tr>\n",
       "      <th>2021-05-18</th>\n",
       "      <td>-0.017435</td>\n",
       "      <td>0.001803</td>\n",
       "    </tr>\n",
       "    <tr>\n",
       "      <th>2021-05-19</th>\n",
       "      <td>0.011711</td>\n",
       "      <td>-0.024936</td>\n",
       "    </tr>\n",
       "    <tr>\n",
       "      <th>2021-05-20</th>\n",
       "      <td>0.016008</td>\n",
       "      <td>0.041387</td>\n",
       "    </tr>\n",
       "    <tr>\n",
       "      <th>2021-05-21</th>\n",
       "      <td>-0.007470</td>\n",
       "      <td>-0.010055</td>\n",
       "    </tr>\n",
       "    <tr>\n",
       "      <th>2021-05-24</th>\n",
       "      <td>0.026563</td>\n",
       "      <td>0.044002</td>\n",
       "    </tr>\n",
       "    <tr>\n",
       "      <th>...</th>\n",
       "      <td>...</td>\n",
       "      <td>...</td>\n",
       "    </tr>\n",
       "    <tr>\n",
       "      <th>2024-05-13</th>\n",
       "      <td>-0.017199</td>\n",
       "      <td>0.020300</td>\n",
       "    </tr>\n",
       "    <tr>\n",
       "      <th>2024-05-14</th>\n",
       "      <td>0.008205</td>\n",
       "      <td>0.032928</td>\n",
       "    </tr>\n",
       "    <tr>\n",
       "      <th>2024-05-15</th>\n",
       "      <td>0.020536</td>\n",
       "      <td>-0.020051</td>\n",
       "    </tr>\n",
       "    <tr>\n",
       "      <th>2024-05-16</th>\n",
       "      <td>-0.017257</td>\n",
       "      <td>0.004885</td>\n",
       "    </tr>\n",
       "    <tr>\n",
       "      <th>2024-05-17</th>\n",
       "      <td>-0.002958</td>\n",
       "      <td>0.012418</td>\n",
       "    </tr>\n",
       "  </tbody>\n",
       "</table>\n",
       "<p>756 rows × 2 columns</p>\n",
       "</div>"
      ],
      "text/plain": [
       "                META      TSLA\n",
       "Date                          \n",
       "2021-05-18 -0.017435  0.001803\n",
       "2021-05-19  0.011711 -0.024936\n",
       "2021-05-20  0.016008  0.041387\n",
       "2021-05-21 -0.007470 -0.010055\n",
       "2021-05-24  0.026563  0.044002\n",
       "...              ...       ...\n",
       "2024-05-13 -0.017199  0.020300\n",
       "2024-05-14  0.008205  0.032928\n",
       "2024-05-15  0.020536 -0.020051\n",
       "2024-05-16 -0.017257  0.004885\n",
       "2024-05-17 -0.002958  0.012418\n",
       "\n",
       "[756 rows x 2 columns]"
      ]
     },
     "execution_count": 9,
     "metadata": {},
     "output_type": "execute_result"
    }
   ],
   "source": [
    "# Point 6.\n",
    "# Compute daily return rates\n",
    "return_rates = hist_data.pct_change()\n",
    "return_rates = return_rates.dropna()\n",
    "return_rates"
   ]
  },
  {
   "cell_type": "code",
   "execution_count": 10,
   "id": "dec81f31-cefd-465a-9da6-07404210bedc",
   "metadata": {},
   "outputs": [
    {
     "data": {
      "text/plain": [
       "META    0.001007\n",
       "TSLA    0.000545\n",
       "dtype: float64"
      ]
     },
     "execution_count": 10,
     "metadata": {},
     "output_type": "execute_result"
    }
   ],
   "source": [
    "# Point 7.\n",
    "# Compute the mean of return rates\n",
    "mean_return_rates = return_rates.mean()\n",
    "mean_return_rates"
   ]
  },
  {
   "cell_type": "code",
   "execution_count": 11,
   "id": "0449df16-c81d-49d1-b265-ab99d5c31844",
   "metadata": {},
   "outputs": [
    {
     "data": {
      "text/html": [
       "<div>\n",
       "<style scoped>\n",
       "    .dataframe tbody tr th:only-of-type {\n",
       "        vertical-align: middle;\n",
       "    }\n",
       "\n",
       "    .dataframe tbody tr th {\n",
       "        vertical-align: top;\n",
       "    }\n",
       "\n",
       "    .dataframe thead th {\n",
       "        text-align: right;\n",
       "    }\n",
       "</style>\n",
       "<table border=\"1\" class=\"dataframe\">\n",
       "  <thead>\n",
       "    <tr style=\"text-align: right;\">\n",
       "      <th></th>\n",
       "      <th>META</th>\n",
       "      <th>TSLA</th>\n",
       "    </tr>\n",
       "  </thead>\n",
       "  <tbody>\n",
       "    <tr>\n",
       "      <th>META</th>\n",
       "      <td>0.000931</td>\n",
       "      <td>0.000350</td>\n",
       "    </tr>\n",
       "    <tr>\n",
       "      <th>TSLA</th>\n",
       "      <td>0.000350</td>\n",
       "      <td>0.001308</td>\n",
       "    </tr>\n",
       "  </tbody>\n",
       "</table>\n",
       "</div>"
      ],
      "text/plain": [
       "          META      TSLA\n",
       "META  0.000931  0.000350\n",
       "TSLA  0.000350  0.001308"
      ]
     },
     "execution_count": 11,
     "metadata": {},
     "output_type": "execute_result"
    }
   ],
   "source": [
    "# Generate the variance-covariance matrix\n",
    "cov_matrix = return_rates.cov()\n",
    "cov_matrix"
   ]
  },
  {
   "cell_type": "code",
   "execution_count": 12,
   "id": "a889d2f4-02bd-4ce3-84dd-68760446318d",
   "metadata": {},
   "outputs": [
    {
     "data": {
      "text/plain": [
       "0.0009145724996632721"
      ]
     },
     "execution_count": 12,
     "metadata": {},
     "output_type": "execute_result"
    }
   ],
   "source": [
    "# Point 8.\n",
    "# Compute the mean of portfolio r.r.\n",
    "mean_port = mean_return_rates.dot(weights)\n",
    "mean_port"
   ]
  },
  {
   "cell_type": "code",
   "execution_count": 13,
   "id": "92a1e60f-9aef-4454-8f77-c29596acc204",
   "metadata": {},
   "outputs": [
    {
     "data": {
      "text/plain": [
       "0.027566698876310088"
      ]
     },
     "execution_count": 13,
     "metadata": {},
     "output_type": "execute_result"
    }
   ],
   "source": [
    "# Compute the standard deviation of portfolio r.r.\n",
    "std_port = np.sqrt(weights.T.dot(cov_matrix).dot(weights))\n",
    "std_port"
   ]
  },
  {
   "cell_type": "code",
   "execution_count": 14,
   "id": "c4dfbe76-d1b1-46d4-aadc-48c341780219",
   "metadata": {},
   "outputs": [
    {
     "data": {
      "text/plain": [
       "-2.3263478740408408"
      ]
     },
     "execution_count": 14,
     "metadata": {},
     "output_type": "execute_result"
    }
   ],
   "source": [
    "# Point 9.\n",
    "# Compute the z-value\n",
    "alpha = 0.99\n",
    "z_value = norm.ppf(1 - alpha)\n",
    "z_value"
   ]
  },
  {
   "cell_type": "code",
   "execution_count": 15,
   "id": "6d0408c5-40bb-4f3b-8342-c0049bffe555",
   "metadata": {},
   "outputs": [
    {
     "data": {
      "text/plain": [
       "-0.06321515882556474"
      ]
     },
     "execution_count": 15,
     "metadata": {},
     "output_type": "execute_result"
    }
   ],
   "source": [
    "# Compute the (1- alpha)th quantile\n",
    "quantile = mean_port + std_port * z_value\n",
    "quantile"
   ]
  },
  {
   "cell_type": "code",
   "execution_count": 16,
   "id": "837d3f6c-99c0-4cf7-a87f-594f98b84b76",
   "metadata": {},
   "outputs": [
    {
     "name": "stdout",
     "output_type": "stream",
     "text": [
      "The VaR of the portfolio is: 111860.0048571238\n"
     ]
    }
   ],
   "source": [
    "# Compute the (absolute) VaR of the portfolio\n",
    "VaR_port = - initial_investment * quantile\n",
    "print('The VaR of the portfolio is:', VaR_port)"
   ]
  },
  {
   "cell_type": "code",
   "execution_count": 17,
   "id": "173249ca-e387-46c5-9ae5-5a64b8822079",
   "metadata": {},
   "outputs": [],
   "source": [
    "# Point 10.\n",
    "# Compute the VaR enlarging the time horizon\n",
    "VaR_days = []\n",
    "\n",
    "horizons = range(1, 16)\n",
    "\n",
    "for k in horizons: # k = 1, 2, ..., 15\n",
    "    VaR_k = np.sqrt(k) * VaR_port\n",
    "    VaR_days.append(VaR_k)"
   ]
  },
  {
   "cell_type": "code",
   "execution_count": 18,
   "id": "8f46b34d-2e0b-44f3-ab94-ecf6fd9b475d",
   "metadata": {},
   "outputs": [
    {
     "data": {
      "text/plain": [
       "[111860.0048571238,\n",
       " 158193.9359560648,\n",
       " 193747.2117474398,\n",
       " 223720.0097142476,\n",
       " 250126.5748239855,\n",
       " 273999.9345252012,\n",
       " 295953.7545064268,\n",
       " 316387.8719121296,\n",
       " 335580.0145713714,\n",
       " 353732.39442600904,\n",
       " 370997.66515841224,\n",
       " 387494.4234948796,\n",
       " 403316.98318601074,\n",
       " 418541.8134582262,\n",
       " 433231.93591832125]"
      ]
     },
     "execution_count": 18,
     "metadata": {},
     "output_type": "execute_result"
    }
   ],
   "source": [
    "VaR_days"
   ]
  },
  {
   "cell_type": "code",
   "execution_count": 19,
   "id": "6ffae4b4-3269-46e6-bf06-c6e433699b7a",
   "metadata": {},
   "outputs": [
    {
     "data": {
      "text/plain": [
       "[<matplotlib.lines.Line2D at 0x7f8b1c27bc10>]"
      ]
     },
     "execution_count": 19,
     "metadata": {},
     "output_type": "execute_result"
    },
    {
     "data": {
      "image/png": "[encoded data removed]",
      "text/plain": [
       "<Figure size 640x480 with 1 Axes>"
      ]
     },
     "metadata": {},
     "output_type": "display_data"
    }
   ],
   "source": [
    "# Plot VaR as a function of the horizon\n",
    "import matplotlib.pyplot as plt\n",
    "\n",
    "plt.xlabel('Horizon in days')\n",
    "plt.ylabel('VaR')\n",
    "plt.title('VaR as a function of the horizon')\n",
    "plt.plot(horizons, VaR_days, color='red')"
   ]
  },
  {
   "cell_type": "code",
   "execution_count": null,
   "id": "16c429c0-8bf5-4b74-8935-ec54546d2e05",
   "metadata": {},
   "outputs": [],
   "source": []
  }
 ],
 "metadata": {
  "kernelspec": {
   "display_name": "Python 3 (ipykernel)",
   "language": "python",
   "name": "python3"
  },
  "language_info": {
   "codemirror_mode": {
    "name": "ipython",
    "version": 3
   },
   "file_extension": ".py",
   "mimetype": "text/x-python",
   "name": "python",
   "nbconvert_exporter": "python",
   "pygments_lexer": "ipython3",
   "version": "3.10.11"
  }
 },
 "nbformat": 4,
 "nbformat_minor": 5
}
