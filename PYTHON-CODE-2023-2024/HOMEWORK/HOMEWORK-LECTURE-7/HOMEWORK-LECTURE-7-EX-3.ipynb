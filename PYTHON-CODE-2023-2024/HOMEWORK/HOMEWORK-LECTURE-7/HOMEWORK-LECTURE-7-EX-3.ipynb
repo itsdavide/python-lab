{
 "cells": [
  {
   "cell_type": "code",
   "execution_count": 1,
   "id": "602ed337-160f-4207-9811-3f5287b6d6b0",
   "metadata": {},
   "outputs": [],
   "source": [
    "# Import the libraries\n",
    "import numpy as np\n",
    "import pandas as pd"
   ]
  },
  {
   "cell_type": "code",
   "execution_count": 2,
   "id": "3fe7e967-d932-4b9b-a507-373a94140a9b",
   "metadata": {},
   "outputs": [],
   "source": [
    "# Fix the pricing parameters\n",
    "S0 = 100\n",
    "T = 1\n",
    "K = 101\n",
    "r = 0.05\n",
    "sigma = 0.3"
   ]
  },
  {
   "cell_type": "code",
   "execution_count": 3,
   "id": "1a1b6694-b752-4e14-b971-1d693590e1f2",
   "metadata": {},
   "outputs": [],
   "source": [
    "# Import NumPy's generator\n",
    "from numpy.random import default_rng"
   ]
  },
  {
   "cell_type": "code",
   "execution_count": 4,
   "id": "0bcee761-8c94-43d6-b447-f5caf771df98",
   "metadata": {},
   "outputs": [],
   "source": [
    "# Create the generator\n",
    "rng = default_rng(100)"
   ]
  },
  {
   "cell_type": "code",
   "execution_count": 5,
   "id": "0910cd0c-b61c-4e22-a329-2058654c3a2b",
   "metadata": {},
   "outputs": [],
   "source": [
    "# Generate the standard normal numbers\n",
    "M = 1000000\n",
    "epsilons = rng.standard_normal(M)"
   ]
  },
  {
   "cell_type": "code",
   "execution_count": 6,
   "id": "3f281b6e-f74d-43e4-bf73-9a8fb914a933",
   "metadata": {},
   "outputs": [],
   "source": [
    "# Generate ST\n",
    "ST = S0 * np.exp((r - sigma**2 / 2) * T +\n",
    "                sigma * np.sqrt(T) * epsilons)"
   ]
  },
  {
   "cell_type": "code",
   "execution_count": 7,
   "id": "2d56a17e-7e99-463b-8242-ce36535ba5c8",
   "metadata": {},
   "outputs": [],
   "source": [
    "# Generate the payoff of contingent claim\n",
    "YT = np.minimum(ST, K / 2)"
   ]
  },
  {
   "cell_type": "code",
   "execution_count": 8,
   "id": "1e257407-7fee-4576-a673-923a7a8cc5a9",
   "metadata": {},
   "outputs": [
    {
     "data": {
      "text/plain": [
       "47.988007945120984"
      ]
     },
     "execution_count": 8,
     "metadata": {},
     "output_type": "execute_result"
    }
   ],
   "source": [
    "# Compute the Monte Carlo price\n",
    "Y0_MC = np.exp(-r * T) * YT.mean()\n",
    "Y0_MC"
   ]
  },
  {
   "cell_type": "code",
   "execution_count": 9,
   "id": "5721e197-df89-47dd-8a13-3d155aa3d4be",
   "metadata": {},
   "outputs": [],
   "source": [
    "# Define the payoff function\n",
    "def phi(x):\n",
    "    return np.minimum(x, K / 2)"
   ]
  },
  {
   "cell_type": "code",
   "execution_count": 10,
   "id": "1a398aca-0e63-4b3a-80be-8e624438a0d3",
   "metadata": {},
   "outputs": [],
   "source": [
    "# Define the lognormal density\n",
    "mu_t = np.log(S0) + (r - sigma**2 / 2) * T\n",
    "\n",
    "sigma_t = sigma * np.sqrt(T)\n",
    "\n",
    "from scipy.stats import lognorm\n",
    "\n",
    "def l(x):\n",
    "    return lognorm.pdf(x, s=sigma_t, scale=np.exp(mu_t))"
   ]
  },
  {
   "cell_type": "code",
   "execution_count": 11,
   "id": "b535605d-fd1a-4bfa-91b2-77dcbdc07ea1",
   "metadata": {},
   "outputs": [],
   "source": [
    "# Define the integrand function\n",
    "def f_int(x):\n",
    "    return phi(x) * l(x)"
   ]
  },
  {
   "cell_type": "code",
   "execution_count": 12,
   "id": "c22ed039-e50d-4e6e-b7e8-ecaf168c1fa5",
   "metadata": {},
   "outputs": [
    {
     "data": {
      "text/plain": [
       "50.44844188402967"
      ]
     },
     "execution_count": 12,
     "metadata": {},
     "output_type": "execute_result"
    }
   ],
   "source": [
    "# Compute the integral\n",
    "from scipy.integrate import quad\n",
    "\n",
    "I = quad(f_int, -np.infty, np.infty)[0]\n",
    "I"
   ]
  },
  {
   "cell_type": "code",
   "execution_count": 13,
   "id": "d7392568-d301-418a-a9fd-9bbee1e772ab",
   "metadata": {},
   "outputs": [
    {
     "data": {
      "text/plain": [
       "47.98804234030326"
      ]
     },
     "execution_count": 13,
     "metadata": {},
     "output_type": "execute_result"
    }
   ],
   "source": [
    "# Compute the integral price\n",
    "Y0_int = np.exp(-r * T) * I\n",
    "Y0_int"
   ]
  },
  {
   "cell_type": "code",
   "execution_count": 14,
   "id": "d6d19007-ff64-43f7-897f-e5813dca2d07",
   "metadata": {},
   "outputs": [
    {
     "data": {
      "text/plain": [
       "50.44844188402967"
      ]
     },
     "execution_count": 14,
     "metadata": {},
     "output_type": "execute_result"
    }
   ],
   "source": [
    "# Compute the integral with lower extreme point 0\n",
    "I = quad(f_int, 0, np.infty)[0]\n",
    "I"
   ]
  },
  {
   "cell_type": "code",
   "execution_count": 15,
   "id": "62ea6d7e-4b75-4e68-a7c1-9ba4075300b2",
   "metadata": {},
   "outputs": [
    {
     "data": {
      "text/plain": [
       "47.98804234030326"
      ]
     },
     "execution_count": 15,
     "metadata": {},
     "output_type": "execute_result"
    }
   ],
   "source": [
    "# Compute the integral price with lower extreme point 0\n",
    "Y0_int = np.exp(-r * T) * I\n",
    "Y0_int"
   ]
  },
  {
   "cell_type": "code",
   "execution_count": null,
   "id": "09c698f1-91ab-49ff-8280-4f5325521155",
   "metadata": {},
   "outputs": [],
   "source": []
  }
 ],
 "metadata": {
  "kernelspec": {
   "display_name": "Python 3 (ipykernel)",
   "language": "python",
   "name": "python3"
  },
  "language_info": {
   "codemirror_mode": {
    "name": "ipython",
    "version": 3
   },
   "file_extension": ".py",
   "mimetype": "text/x-python",
   "name": "python",
   "nbconvert_exporter": "python",
   "pygments_lexer": "ipython3",
   "version": "3.10.11"
  }
 },
 "nbformat": 4,
 "nbformat_minor": 5
}
