{
 "cells": [
  {
   "cell_type": "code",
   "execution_count": 1,
   "id": "85216b75-f92c-4d87-bde9-da219d4fc544",
   "metadata": {},
   "outputs": [],
   "source": [
    "# Import the libraries\n",
    "import numpy as np\n",
    "import pandas as pd\n",
    "from scipy.stats import norm"
   ]
  },
  {
   "cell_type": "code",
   "execution_count": 2,
   "id": "1be3eb02-8a98-4b95-8b6d-cd8913ae5d03",
   "metadata": {},
   "outputs": [],
   "source": [
    "# Define a function to compute BS formula\n",
    "def put_BS(S0, K, T, r, sigma):\n",
    "    d1 = (np.log(S0 / K) +\n",
    "         (r + sigma**2 / 2) * T) / (sigma * np.sqrt(T))\n",
    "    \n",
    "    d2 = d1 - sigma * np.sqrt(T)\n",
    "\n",
    "    return  K * np.exp(-r * T) * norm.cdf(-d2) - S0 * norm.cdf(-d1)"
   ]
  },
  {
   "cell_type": "code",
   "execution_count": 3,
   "id": "1787e4f8-c987-4a03-a8e1-ffac4e9bfb97",
   "metadata": {},
   "outputs": [],
   "source": [
    "# Fix the pricing parameters\n",
    "S0 = 100\n",
    "T = 1\n",
    "K = 101\n",
    "r = 0.05\n",
    "sigma = 0.3"
   ]
  },
  {
   "cell_type": "code",
   "execution_count": 4,
   "id": "dd8801f8-7d2f-404d-a854-269048688a91",
   "metadata": {},
   "outputs": [
    {
     "data": {
      "text/plain": [
       "9.829790971709542"
      ]
     },
     "execution_count": 4,
     "metadata": {},
     "output_type": "execute_result"
    }
   ],
   "source": [
    "# Compute the BS price of the put\n",
    "P0_BS = put_BS(S0, K, T, r, sigma)\n",
    "P0_BS"
   ]
  },
  {
   "cell_type": "code",
   "execution_count": 5,
   "id": "60e3d11b-4734-47a6-a0ee-278b79a730d8",
   "metadata": {},
   "outputs": [],
   "source": [
    "# Import NumPy's pseudo-random generator\n",
    "from numpy.random import default_rng"
   ]
  },
  {
   "cell_type": "code",
   "execution_count": 6,
   "id": "0ec234c3-3d2f-4391-b5d4-77a9fc08ca8e",
   "metadata": {},
   "outputs": [],
   "source": [
    "# Create the generator\n",
    "rng = default_rng(100)"
   ]
  },
  {
   "cell_type": "code",
   "execution_count": 7,
   "id": "de146702-9523-4a00-bdad-492d964d4792",
   "metadata": {},
   "outputs": [],
   "source": [
    "# Generate the standard normal numbers\n",
    "M = 1000000\n",
    "epsilons = rng.standard_normal(M)"
   ]
  },
  {
   "cell_type": "code",
   "execution_count": 8,
   "id": "bb577838-ad24-4a4c-a06b-9ea312efc93a",
   "metadata": {},
   "outputs": [],
   "source": [
    "# Generate ST\n",
    "ST = S0 * np.exp((r - sigma**2 / 2) * T +\n",
    "                sigma * np.sqrt(T) * epsilons)"
   ]
  },
  {
   "cell_type": "code",
   "execution_count": 9,
   "id": "07c3b105-5e22-42b9-b77f-088fe56459e3",
   "metadata": {},
   "outputs": [],
   "source": [
    "# Generate the payoff of the put\n",
    "PT = np.maximum(K - ST, 0)"
   ]
  },
  {
   "cell_type": "code",
   "execution_count": 10,
   "id": "151c7021-0494-4388-bc7d-53430e282639",
   "metadata": {},
   "outputs": [
    {
     "data": {
      "text/plain": [
       "9.838236547547348"
      ]
     },
     "execution_count": 10,
     "metadata": {},
     "output_type": "execute_result"
    }
   ],
   "source": [
    "# Compute the Monte Carlo price\n",
    "P0_MC = np.exp(-r * T) * PT.mean()\n",
    "P0_MC"
   ]
  },
  {
   "cell_type": "code",
   "execution_count": 11,
   "id": "47ec1014-9194-4909-a989-cfdccf626221",
   "metadata": {},
   "outputs": [],
   "source": [
    "# Define the payoff function\n",
    "def phi(x):\n",
    "    return np.maximum(K - x, 0)"
   ]
  },
  {
   "cell_type": "code",
   "execution_count": 12,
   "id": "be0e2250-02b0-4f00-81bb-9353293b49fc",
   "metadata": {},
   "outputs": [],
   "source": [
    "# Define the lognormal density\n",
    "mu_t = np.log(S0) + (r - sigma**2 / 2) * T\n",
    "\n",
    "sigma_t = sigma * np.sqrt(T)\n",
    "\n",
    "from scipy.stats import lognorm\n",
    "\n",
    "def l(x):\n",
    "    return lognorm.pdf(x, s=sigma_t, scale=np.exp(mu_t))"
   ]
  },
  {
   "cell_type": "code",
   "execution_count": 13,
   "id": "6e89d99c-51be-40ca-8d15-514919d7ab3e",
   "metadata": {},
   "outputs": [],
   "source": [
    "# Define the integrand function\n",
    "def f_int(x):\n",
    "    return phi(x) * l(x)"
   ]
  },
  {
   "cell_type": "code",
   "execution_count": 14,
   "id": "e83904f1-dff0-4bf3-bb73-02d7ee205f01",
   "metadata": {},
   "outputs": [
    {
     "data": {
      "text/plain": [
       "10.333775133348153"
      ]
     },
     "execution_count": 14,
     "metadata": {},
     "output_type": "execute_result"
    }
   ],
   "source": [
    "# Compute the integral\n",
    "from scipy.integrate import quad\n",
    "\n",
    "I = quad(f_int, -np.infty, np.infty)[0]\n",
    "I"
   ]
  },
  {
   "cell_type": "code",
   "execution_count": 15,
   "id": "41a1565d-21f6-4673-b185-68227e8e604a",
   "metadata": {},
   "outputs": [
    {
     "data": {
      "text/plain": [
       "9.829790973014553"
      ]
     },
     "execution_count": 15,
     "metadata": {},
     "output_type": "execute_result"
    }
   ],
   "source": [
    "# Compute the integral price\n",
    "P0_int = np.exp(-r * T) * I\n",
    "P0_int"
   ]
  },
  {
   "cell_type": "code",
   "execution_count": null,
   "id": "ac32aa89-679f-40a7-a61f-a225dbdbd5c7",
   "metadata": {},
   "outputs": [],
   "source": []
  }
 ],
 "metadata": {
  "kernelspec": {
   "display_name": "Python 3 (ipykernel)",
   "language": "python",
   "name": "python3"
  },
  "language_info": {
   "codemirror_mode": {
    "name": "ipython",
    "version": 3
   },
   "file_extension": ".py",
   "mimetype": "text/x-python",
   "name": "python",
   "nbconvert_exporter": "python",
   "pygments_lexer": "ipython3",
   "version": "3.10.14"
  }
 },
 "nbformat": 4,
 "nbformat_minor": 5
}
