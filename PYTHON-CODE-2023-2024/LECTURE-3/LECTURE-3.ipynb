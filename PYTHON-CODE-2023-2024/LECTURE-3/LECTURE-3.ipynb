{
 "cells": [
  {
   "cell_type": "code",
   "execution_count": 1,
   "id": "73762c52-f31d-4cdf-8bea-9a272ee69263",
   "metadata": {},
   "outputs": [],
   "source": [
    "# Import the libraries\n",
    "import numpy as np\n",
    "from scipy.stats import norm\n",
    "from scipy.integrate import quad\n",
    "\n",
    "# Generic normal density function\n",
    "def f(x, mu, sigma):\n",
    "    return norm.pdf(x, mu, sigma)\n",
    "\n",
    "# Exponential utility function\n",
    "def u(x, a):\n",
    "    return - np.exp(-a * x)\n",
    "\n",
    "# Expected utility integrand\n",
    "def f_eu(x, mu, sigma, a):\n",
    "    return u(x, a) * f(x, mu, sigma)\n",
    "\n",
    "# Expected utility\n",
    "def expected_utility(mu, sigma, a):\n",
    "    I, err = quad(f_eu, -np.infty, +np.infty, args=(mu, sigma, a))\n",
    "    \n",
    "    return I"
   ]
  },
  {
   "cell_type": "code",
   "execution_count": 2,
   "id": "792d70e0-eaeb-4eeb-9726-ce4325f8b529",
   "metadata": {},
   "outputs": [],
   "source": [
    "# List of tuples of normal parameters\n",
    "normals = [(10, 0.8), (9, 0.3), (9, 0.4), (10, 0.5), (11, 0.6)]"
   ]
  },
  {
   "cell_type": "code",
   "execution_count": 3,
   "id": "7b3156f0-2191-4584-9754-cb08a8cc7ccb",
   "metadata": {},
   "outputs": [],
   "source": [
    "# Exponential utility parameter\n",
    "a = 0.1"
   ]
  },
  {
   "cell_type": "code",
   "execution_count": 4,
   "id": "13ab78a1-8ece-4ea2-aa43-c72e34279aad",
   "metadata": {},
   "outputs": [],
   "source": [
    "# List for EU values\n",
    "eus = []"
   ]
  },
  {
   "cell_type": "code",
   "execution_count": 5,
   "id": "3e82a994-37f0-45fe-a19e-26e66b93991c",
   "metadata": {},
   "outputs": [
    {
     "data": {
      "text/plain": [
       "[-0.3690585409369097,\n",
       " -0.40675265725894194,\n",
       " -0.4068950456053837,\n",
       " -0.3683395779992368,\n",
       " -0.33347079122364953]"
      ]
     },
     "execution_count": 5,
     "metadata": {},
     "output_type": "execute_result"
    }
   ],
   "source": [
    "# Compute the expected utility\n",
    "for (mu, sigma) in normals:\n",
    "    eu = expected_utility(mu, sigma, a)\n",
    "    eus.append(eu)\n",
    "    \n",
    "eus"
   ]
  },
  {
   "cell_type": "code",
   "execution_count": 6,
   "id": "f182c453-63d5-4088-9a84-caabf68c5b13",
   "metadata": {},
   "outputs": [
    {
     "data": {
      "text/plain": [
       "-0.33347079122364953"
      ]
     },
     "execution_count": 6,
     "metadata": {},
     "output_type": "execute_result"
    }
   ],
   "source": [
    "# Maximum expected utility\n",
    "m = max(eus)\n",
    "m"
   ]
  },
  {
   "cell_type": "code",
   "execution_count": 7,
   "id": "8f8948d5-43a6-4501-a12c-c76038da9f2d",
   "metadata": {},
   "outputs": [
    {
     "data": {
      "text/plain": [
       "4"
      ]
     },
     "execution_count": 7,
     "metadata": {},
     "output_type": "execute_result"
    }
   ],
   "source": [
    "# Index of the maximum EU\n",
    "i = eus.index(m)\n",
    "i"
   ]
  },
  {
   "cell_type": "code",
   "execution_count": 8,
   "id": "11f13486-effe-4d17-a182-fc3da3de1cc3",
   "metadata": {},
   "outputs": [
    {
     "name": "stdout",
     "output_type": "stream",
     "text": [
      "Choose: (11, 0.6)\n"
     ]
    }
   ],
   "source": [
    "print('Choose:', normals[i])"
   ]
  },
  {
   "cell_type": "code",
   "execution_count": 9,
   "id": "674ddd3d-1c37-49a5-b08f-769ab71b93c1",
   "metadata": {},
   "outputs": [],
   "source": [
    "# Plot the utility function\n",
    "import matplotlib.pyplot as plt"
   ]
  },
  {
   "cell_type": "code",
   "execution_count": 10,
   "id": "7084a1d3-0e6d-4be2-8c8f-9cb303ff6dd9",
   "metadata": {},
   "outputs": [
    {
     "data": {
      "text/plain": [
       "array([-2.71828183, -2.66391802, -2.61064146, -2.55843038, -2.5072635 ,\n",
       "       -2.45711992, -2.40797917, -2.35982121, -2.31262638, -2.26637541,\n",
       "       -2.22104942, -2.17662993, -2.1330988 , -2.09043826, -2.0486309 ,\n",
       "       -2.00765966, -1.96750782, -1.92815899, -1.88959711, -1.85180644,\n",
       "       -1.81477156, -1.77847735, -1.742909  , -1.70805199, -1.6738921 ,\n",
       "       -1.64041539, -1.60760818, -1.5754571 , -1.54394902, -1.51307108,\n",
       "       -1.48281068, -1.45315546, -1.42409333, -1.39561243, -1.36770112,\n",
       "       -1.34034801, -1.31354196, -1.287272  , -1.26152743, -1.23629773,\n",
       "       -1.21157261, -1.18734197, -1.16359593, -1.1403248 , -1.11751907,\n",
       "       -1.09516944, -1.07326679, -1.05180218, -1.03076684, -1.0101522 ,\n",
       "       -0.98994983, -0.9701515 , -0.95074913, -0.93173478, -0.91310072,\n",
       "       -0.89483932, -0.87694313, -0.85940486, -0.84221734, -0.82537356,\n",
       "       -0.80886665, -0.79268986, -0.7768366 , -0.76130039, -0.74607489,\n",
       "       -0.7311539 , -0.71653131, -0.70220117, -0.68815762, -0.67439493,\n",
       "       -0.66090748, -0.64768978, -0.63473642, -0.62204212, -0.60960169,\n",
       "       -0.59741007, -0.58546227, -0.57375342, -0.56227874, -0.55103354,\n",
       "       -0.54001324, -0.52921334, -0.51862943, -0.50825719, -0.49809239,\n",
       "       -0.48813088, -0.47836859, -0.46880154, -0.45942582, -0.45023762,\n",
       "       -0.44123317, -0.4324088 , -0.42376092, -0.41528598, -0.40698054,\n",
       "       -0.39884121, -0.39086465, -0.38304762, -0.37538693, -0.36787944])"
      ]
     },
     "execution_count": 10,
     "metadata": {},
     "output_type": "execute_result"
    }
   ],
   "source": [
    "x = np.linspace(-10, 10, 100)\n",
    "y = u(x, a)\n",
    "y"
   ]
  },
  {
   "cell_type": "code",
   "execution_count": 11,
   "id": "a2889003-2ac1-4e33-8d6c-d5d2aee91a9d",
   "metadata": {},
   "outputs": [
    {
     "data": {
      "text/plain": [
       "[<matplotlib.lines.Line2D at 0x7f7d7c5001f0>]"
      ]
     },
     "execution_count": 11,
     "metadata": {},
     "output_type": "execute_result"
    },
    {
     "data": {
      "image/png": "[encoded data removed]",
      "text/plain": [
       "<Figure size 640x480 with 1 Axes>"
      ]
     },
     "metadata": {},
     "output_type": "display_data"
    }
   ],
   "source": [
    "plt.title('Utility function')\n",
    "plt.xlabel('$x$')\n",
    "plt.ylabel('$u(x)$')\n",
    "\n",
    "plt.plot(x, y)"
   ]
  },
  {
   "cell_type": "code",
   "execution_count": 12,
   "id": "f9b7cdd5-10bf-4528-b7c8-03033ac64145",
   "metadata": {},
   "outputs": [
    {
     "data": {
      "text/plain": [
       "<Figure size 640x480 with 0 Axes>"
      ]
     },
     "metadata": {},
     "output_type": "display_data"
    }
   ],
   "source": [
    "# Clear the plot\n",
    "plt.clf()"
   ]
  },
  {
   "cell_type": "code",
   "execution_count": 13,
   "id": "1f6e3aba-baf2-48f0-a31c-3f7112e1f6f9",
   "metadata": {},
   "outputs": [
    {
     "data": {
      "image/png": "[encoded data removed]",
      "text/plain": [
       "<Figure size 640x480 with 1 Axes>"
      ]
     },
     "metadata": {},
     "output_type": "display_data"
    }
   ],
   "source": [
    "# Plot the normal densities\n",
    "x = np.linspace(5, 15, 200)\n",
    "\n",
    "plt.title('Normal densities')\n",
    "plt.xlabel('x')\n",
    "\n",
    "for (mu, sigma) in normals:\n",
    "    label = '$\\mu = $' + str(mu) + ', $\\sigma = $' + str(sigma)\n",
    "    \n",
    "    y = f(x, mu, sigma)\n",
    "    plt.plot(x, y, label=label)\n",
    "\n",
    "plt.legend()\n",
    "plt.show()"
   ]
  },
  {
   "cell_type": "code",
   "execution_count": 14,
   "id": "e376e8d9-d331-4bfb-85e9-702867da6129",
   "metadata": {},
   "outputs": [],
   "source": [
    "# Import NumPy library\n",
    "import numpy as np"
   ]
  },
  {
   "cell_type": "code",
   "execution_count": 15,
   "id": "f73a2682-3dd9-4b77-b576-998e7895ac03",
   "metadata": {},
   "outputs": [
    {
     "data": {
      "text/plain": [
       "numpy.ndarray"
      ]
     },
     "execution_count": 15,
     "metadata": {},
     "output_type": "execute_result"
    }
   ],
   "source": [
    "# Create an array from a list\n",
    "a = np.array([5, 6, 1])\n",
    "\n",
    "type(a)"
   ]
  },
  {
   "cell_type": "code",
   "execution_count": 16,
   "id": "2dc05dbf-10d3-4a1e-bbc1-7cc9e6fc084b",
   "metadata": {},
   "outputs": [
    {
     "data": {
      "text/plain": [
       "array([5, 6, 1])"
      ]
     },
     "execution_count": 16,
     "metadata": {},
     "output_type": "execute_result"
    }
   ],
   "source": [
    "a"
   ]
  },
  {
   "cell_type": "code",
   "execution_count": 17,
   "id": "f3657530-ab62-4c5e-9885-563c9b34cdfe",
   "metadata": {},
   "outputs": [
    {
     "data": {
      "text/plain": [
       "array([10, 12,  2])"
      ]
     },
     "execution_count": 17,
     "metadata": {},
     "output_type": "execute_result"
    }
   ],
   "source": [
    "a * 2"
   ]
  },
  {
   "cell_type": "code",
   "execution_count": 18,
   "id": "09a0ffc1-d7f5-4362-b2bc-fa33d40655b7",
   "metadata": {},
   "outputs": [
    {
     "data": {
      "text/plain": [
       "array([125, 216,   1])"
      ]
     },
     "execution_count": 18,
     "metadata": {},
     "output_type": "execute_result"
    }
   ],
   "source": [
    "a ** 3"
   ]
  },
  {
   "cell_type": "code",
   "execution_count": 19,
   "id": "e886ba1a-8e46-41f7-9328-83ab075f821f",
   "metadata": {},
   "outputs": [
    {
     "data": {
      "text/plain": [
       "array([5, 6, 1])"
      ]
     },
     "execution_count": 19,
     "metadata": {},
     "output_type": "execute_result"
    }
   ],
   "source": [
    "a"
   ]
  },
  {
   "cell_type": "code",
   "execution_count": 20,
   "id": "27b246f3-d696-42ac-8bad-c02f382b8ea5",
   "metadata": {},
   "outputs": [
    {
     "data": {
      "text/plain": [
       "array([False, False,  True])"
      ]
     },
     "execution_count": 20,
     "metadata": {},
     "output_type": "execute_result"
    }
   ],
   "source": [
    "a == (a ** 3)"
   ]
  },
  {
   "cell_type": "code",
   "execution_count": 21,
   "id": "0d133216-5f9d-4857-af08-84fdc213a735",
   "metadata": {},
   "outputs": [],
   "source": [
    "b = np.array([-1, 5, 7])"
   ]
  },
  {
   "cell_type": "code",
   "execution_count": 22,
   "id": "99d5f7d2-d35f-4c91-8ee9-89b0a1a60ed0",
   "metadata": {},
   "outputs": [
    {
     "data": {
      "text/plain": [
       "array([ 13,  -3, -19])"
      ]
     },
     "execution_count": 22,
     "metadata": {},
     "output_type": "execute_result"
    }
   ],
   "source": [
    "# Linear combination (arrays of same size)\n",
    "c = 2 * a - 3 * b\n",
    "c"
   ]
  },
  {
   "cell_type": "code",
   "execution_count": 23,
   "id": "6b8aa7a5-0a2a-40ab-9ac7-cf09109578c8",
   "metadata": {},
   "outputs": [
    {
     "data": {
      "text/plain": [
       "12"
      ]
     },
     "execution_count": 23,
     "metadata": {},
     "output_type": "execute_result"
    }
   ],
   "source": [
    "# Built-in methods of arrays\n",
    "a.sum()"
   ]
  },
  {
   "cell_type": "code",
   "execution_count": 24,
   "id": "c2d26dc8-41e5-414c-bc90-05521f9d527e",
   "metadata": {},
   "outputs": [
    {
     "data": {
      "text/plain": [
       "4.0"
      ]
     },
     "execution_count": 24,
     "metadata": {},
     "output_type": "execute_result"
    }
   ],
   "source": [
    "a.mean()"
   ]
  },
  {
   "cell_type": "code",
   "execution_count": 25,
   "id": "debd833a-0ae9-4775-9b16-bf9398ea3729",
   "metadata": {},
   "outputs": [
    {
     "data": {
      "text/plain": [
       "2.160246899469287"
      ]
     },
     "execution_count": 25,
     "metadata": {},
     "output_type": "execute_result"
    }
   ],
   "source": [
    "a.std()"
   ]
  },
  {
   "cell_type": "code",
   "execution_count": 26,
   "id": "6e3a4c8f-4ed0-420e-bb2a-d0f714629e6b",
   "metadata": {},
   "outputs": [],
   "source": [
    "# Compute the weighted mean\n",
    "marks = np.array([27, 28, 30, 29, 25])\n",
    "cfus = np.array([9, 6, 6, 9, 6])"
   ]
  },
  {
   "cell_type": "code",
   "execution_count": 27,
   "id": "b47a23da-aad3-4d49-bd10-2ab1189c739a",
   "metadata": {},
   "outputs": [
    {
     "name": "stdout",
     "output_type": "stream",
     "text": [
      "Weighted mean: 27.83\n"
     ]
    }
   ],
   "source": [
    "wmean = np.dot(marks, cfus) / cfus.sum()\n",
    "\n",
    "print('Weighted mean:', round(wmean, 2))"
   ]
  },
  {
   "cell_type": "code",
   "execution_count": 28,
   "id": "d6cfa0cc-6c6e-444a-a30a-02aa7e6fad4e",
   "metadata": {},
   "outputs": [
    {
     "data": {
      "text/plain": [
       "array([1, 2, 3])"
      ]
     },
     "execution_count": 28,
     "metadata": {},
     "output_type": "execute_result"
    }
   ],
   "source": [
    "# Special arrays\n",
    "np.arange(1, 4)"
   ]
  },
  {
   "cell_type": "code",
   "execution_count": 29,
   "id": "719623ae-5889-4990-8ae1-153080e02157",
   "metadata": {},
   "outputs": [
    {
     "data": {
      "text/plain": [
       "array([4, 3, 2])"
      ]
     },
     "execution_count": 29,
     "metadata": {},
     "output_type": "execute_result"
    }
   ],
   "source": [
    "np.arange(4, 1, -1)"
   ]
  },
  {
   "cell_type": "code",
   "execution_count": 30,
   "id": "2b95af61-89b3-47f4-b0f9-01502d7fbeb5",
   "metadata": {},
   "outputs": [
    {
     "data": {
      "text/plain": [
       "array([1, 3])"
      ]
     },
     "execution_count": 30,
     "metadata": {},
     "output_type": "execute_result"
    }
   ],
   "source": [
    "np.arange(1, 4, 2)"
   ]
  },
  {
   "cell_type": "code",
   "execution_count": 31,
   "id": "cb2cfc7f-fbd3-4bdc-9b60-55294ed4dae2",
   "metadata": {},
   "outputs": [
    {
     "data": {
      "text/plain": [
       "array([4, 2])"
      ]
     },
     "execution_count": 31,
     "metadata": {},
     "output_type": "execute_result"
    }
   ],
   "source": [
    "np.arange(4, 1, -2)"
   ]
  },
  {
   "cell_type": "code",
   "execution_count": 32,
   "id": "350866c6-1bf1-4288-9f69-71d0c198405f",
   "metadata": {},
   "outputs": [
    {
     "data": {
      "text/plain": [
       "array([1. , 1.5, 2. , 2.5, 3. , 3.5])"
      ]
     },
     "execution_count": 32,
     "metadata": {},
     "output_type": "execute_result"
    }
   ],
   "source": [
    "np.arange(1, 4, 0.5)"
   ]
  },
  {
   "cell_type": "code",
   "execution_count": 33,
   "id": "6b4eb21e-a6ed-44a3-b57f-0702fe66d423",
   "metadata": {},
   "outputs": [
    {
     "data": {
      "text/plain": [
       "array([0., 0., 0., 0., 0.])"
      ]
     },
     "execution_count": 33,
     "metadata": {},
     "output_type": "execute_result"
    }
   ],
   "source": [
    "np.zeros(5)"
   ]
  },
  {
   "cell_type": "code",
   "execution_count": 34,
   "id": "e70948f6-7808-43d0-a5ec-84270bcd5a40",
   "metadata": {},
   "outputs": [
    {
     "data": {
      "text/plain": [
       "array([1., 1., 1., 1., 1.])"
      ]
     },
     "execution_count": 34,
     "metadata": {},
     "output_type": "execute_result"
    }
   ],
   "source": [
    "np.ones(5)"
   ]
  },
  {
   "cell_type": "code",
   "execution_count": 35,
   "id": "26807cb1-b80e-495f-8b30-46d592638bb5",
   "metadata": {},
   "outputs": [
    {
     "data": {
      "text/plain": [
       "array([13., 13., 13., 13., 13.])"
      ]
     },
     "execution_count": 35,
     "metadata": {},
     "output_type": "execute_result"
    }
   ],
   "source": [
    "13 * np.ones(5)"
   ]
  },
  {
   "cell_type": "code",
   "execution_count": 36,
   "id": "8bea3ca3-bf97-41d5-b392-863924ab5e4c",
   "metadata": {},
   "outputs": [
    {
     "data": {
      "text/plain": [
       "array([13, 13, 13, 13, 13])"
      ]
     },
     "execution_count": 36,
     "metadata": {},
     "output_type": "execute_result"
    }
   ],
   "source": [
    "np.full(5, 13)"
   ]
  },
  {
   "cell_type": "code",
   "execution_count": 37,
   "id": "4554a883-e01b-4a4e-903b-6de548715a45",
   "metadata": {},
   "outputs": [
    {
     "data": {
      "text/plain": [
       "array([0.  , 0.25, 0.5 , 0.75, 1.  ])"
      ]
     },
     "execution_count": 37,
     "metadata": {},
     "output_type": "execute_result"
    }
   ],
   "source": [
    "np.linspace(0, 1, 5)"
   ]
  },
  {
   "cell_type": "code",
   "execution_count": 38,
   "id": "8134d151-039b-4ab4-9c99-952bb04ea28b",
   "metadata": {},
   "outputs": [
    {
     "data": {
      "text/plain": [
       "array([0.        , 0.01010101, 0.02020202, 0.03030303, 0.04040404,\n",
       "       0.05050505, 0.06060606, 0.07070707, 0.08080808, 0.09090909,\n",
       "       0.1010101 , 0.11111111, 0.12121212, 0.13131313, 0.14141414,\n",
       "       0.15151515, 0.16161616, 0.17171717, 0.18181818, 0.19191919,\n",
       "       0.2020202 , 0.21212121, 0.22222222, 0.23232323, 0.24242424,\n",
       "       0.25252525, 0.26262626, 0.27272727, 0.28282828, 0.29292929,\n",
       "       0.3030303 , 0.31313131, 0.32323232, 0.33333333, 0.34343434,\n",
       "       0.35353535, 0.36363636, 0.37373737, 0.38383838, 0.39393939,\n",
       "       0.4040404 , 0.41414141, 0.42424242, 0.43434343, 0.44444444,\n",
       "       0.45454545, 0.46464646, 0.47474747, 0.48484848, 0.49494949,\n",
       "       0.50505051, 0.51515152, 0.52525253, 0.53535354, 0.54545455,\n",
       "       0.55555556, 0.56565657, 0.57575758, 0.58585859, 0.5959596 ,\n",
       "       0.60606061, 0.61616162, 0.62626263, 0.63636364, 0.64646465,\n",
       "       0.65656566, 0.66666667, 0.67676768, 0.68686869, 0.6969697 ,\n",
       "       0.70707071, 0.71717172, 0.72727273, 0.73737374, 0.74747475,\n",
       "       0.75757576, 0.76767677, 0.77777778, 0.78787879, 0.7979798 ,\n",
       "       0.80808081, 0.81818182, 0.82828283, 0.83838384, 0.84848485,\n",
       "       0.85858586, 0.86868687, 0.87878788, 0.88888889, 0.8989899 ,\n",
       "       0.90909091, 0.91919192, 0.92929293, 0.93939394, 0.94949495,\n",
       "       0.95959596, 0.96969697, 0.97979798, 0.98989899, 1.        ])"
      ]
     },
     "execution_count": 38,
     "metadata": {},
     "output_type": "execute_result"
    }
   ],
   "source": [
    "np.linspace(0, 1, 100)"
   ]
  },
  {
   "cell_type": "code",
   "execution_count": 39,
   "id": "f66a0d03-15ff-4c26-b6ad-480b17518c29",
   "metadata": {},
   "outputs": [
    {
     "data": {
      "text/plain": [
       "array([[10, -1,  5],\n",
       "       [ 0, 12,  7],\n",
       "       [ 5, -3,  8]])"
      ]
     },
     "execution_count": 39,
     "metadata": {},
     "output_type": "execute_result"
    }
   ],
   "source": [
    "# Create a matrix\n",
    "A = np.array([[10, -1, 5], [0, 12, 7], [5, -3, 8]])\n",
    "A"
   ]
  },
  {
   "cell_type": "code",
   "execution_count": 40,
   "id": "83dc2d90-6078-442e-a149-6058e539b1f9",
   "metadata": {},
   "outputs": [
    {
     "data": {
      "text/plain": [
       "(3, 3)"
      ]
     },
     "execution_count": 40,
     "metadata": {},
     "output_type": "execute_result"
    }
   ],
   "source": [
    "# Print the shape of the matrix\n",
    "A.shape"
   ]
  },
  {
   "cell_type": "code",
   "execution_count": 41,
   "id": "1fc7ae2e-a57c-4bbd-aa4a-90bf0fc08bfb",
   "metadata": {},
   "outputs": [
    {
     "data": {
      "text/plain": [
       "7"
      ]
     },
     "execution_count": 41,
     "metadata": {},
     "output_type": "execute_result"
    }
   ],
   "source": [
    "# Element at row 1 and column 2\n",
    "A[1, 2]"
   ]
  },
  {
   "cell_type": "code",
   "execution_count": 42,
   "id": "202b4a10-4292-4ee9-973f-49276d009d47",
   "metadata": {},
   "outputs": [
    {
     "data": {
      "text/plain": [
       "array([-1,  5,  7])"
      ]
     },
     "execution_count": 42,
     "metadata": {},
     "output_type": "execute_result"
    }
   ],
   "source": [
    "b"
   ]
  },
  {
   "cell_type": "code",
   "execution_count": 43,
   "id": "747dd437-0339-4f9a-b943-1862b1e27220",
   "metadata": {},
   "outputs": [
    {
     "data": {
      "text/plain": [
       "(3,)"
      ]
     },
     "execution_count": 43,
     "metadata": {},
     "output_type": "execute_result"
    }
   ],
   "source": [
    "b.shape"
   ]
  },
  {
   "cell_type": "code",
   "execution_count": 44,
   "id": "656256c9-d061-410b-a34c-b8417f22b706",
   "metadata": {},
   "outputs": [
    {
     "data": {
      "text/plain": [
       "array([[-1],\n",
       "       [ 5],\n",
       "       [ 7]])"
      ]
     },
     "execution_count": 44,
     "metadata": {},
     "output_type": "execute_result"
    }
   ],
   "source": [
    "# We make the 1d array a 3 x 1 matrix\n",
    "b = b.reshape(3, 1)\n",
    "b"
   ]
  },
  {
   "cell_type": "code",
   "execution_count": 45,
   "id": "23b53602-a61b-4a4e-833b-58c87778ffae",
   "metadata": {},
   "outputs": [
    {
     "data": {
      "text/plain": [
       "array([[ 1,  2,  6],\n",
       "       [-1,  0,  7]])"
      ]
     },
     "execution_count": 45,
     "metadata": {},
     "output_type": "execute_result"
    }
   ],
   "source": [
    "B = np.array([[1, 2, 6], [-1, 0, 7]])\n",
    "B"
   ]
  },
  {
   "cell_type": "code",
   "execution_count": 46,
   "id": "5facab45-48e4-4ba9-858e-cc705cfe8306",
   "metadata": {},
   "outputs": [
    {
     "data": {
      "text/plain": [
       "array([[ 1, -1],\n",
       "       [ 2,  0],\n",
       "       [ 6,  7]])"
      ]
     },
     "execution_count": 46,
     "metadata": {},
     "output_type": "execute_result"
    }
   ],
   "source": [
    "# Create the transpose of B\n",
    "C = B.T\n",
    "C"
   ]
  },
  {
   "cell_type": "code",
   "execution_count": 47,
   "id": "27ded6dc-0589-474d-95ff-c810fe4f5d43",
   "metadata": {},
   "outputs": [
    {
     "ename": "ValueError",
     "evalue": "matmul: Input operand 1 has a mismatch in its core dimension 0, with gufunc signature (n?,k),(k,m?)->(n?,m?) (size 2 is different from 3)",
     "output_type": "error",
     "traceback": [
      "\u001b[0;31m---------------------------------------------------------------------------\u001b[0m",
      "\u001b[0;31mValueError\u001b[0m                                Traceback (most recent call last)",
      "Cell \u001b[0;32mIn[47], line 2\u001b[0m\n\u001b[1;32m      1\u001b[0m \u001b[38;5;66;03m# Compute the matrix multiplication (row by column)\u001b[39;00m\n\u001b[0;32m----> 2\u001b[0m \u001b[43mnp\u001b[49m\u001b[38;5;241;43m.\u001b[39;49m\u001b[43mmatmul\u001b[49m\u001b[43m(\u001b[49m\u001b[43mA\u001b[49m\u001b[43m,\u001b[49m\u001b[43m \u001b[49m\u001b[43mB\u001b[49m\u001b[43m)\u001b[49m\n",
      "\u001b[0;31mValueError\u001b[0m: matmul: Input operand 1 has a mismatch in its core dimension 0, with gufunc signature (n?,k),(k,m?)->(n?,m?) (size 2 is different from 3)"
     ]
    }
   ],
   "source": [
    "# Compute the matrix multiplication (row by column)\n",
    "# We\n",
    "np.matmul(A, B)"
   ]
  },
  {
   "cell_type": "code",
   "execution_count": 48,
   "id": "be2ab1dd-c2b4-4b6d-9eba-50150aba0640",
   "metadata": {},
   "outputs": [
    {
     "ename": "ValueError",
     "evalue": "matmul: Input operand 1 has a mismatch in its core dimension 0, with gufunc signature (n?,k),(k,m?)->(n?,m?) (size 2 is different from 3)",
     "output_type": "error",
     "traceback": [
      "\u001b[0;31m---------------------------------------------------------------------------\u001b[0m",
      "\u001b[0;31mValueError\u001b[0m                                Traceback (most recent call last)",
      "Cell \u001b[0;32mIn[48], line 1\u001b[0m\n\u001b[0;32m----> 1\u001b[0m \u001b[43mA\u001b[49m\u001b[43m \u001b[49m\u001b[38;5;241;43m@\u001b[39;49m\u001b[43m \u001b[49m\u001b[43mB\u001b[49m\n",
      "\u001b[0;31mValueError\u001b[0m: matmul: Input operand 1 has a mismatch in its core dimension 0, with gufunc signature (n?,k),(k,m?)->(n?,m?) (size 2 is different from 3)"
     ]
    }
   ],
   "source": [
    "A @ B"
   ]
  },
  {
   "cell_type": "code",
   "execution_count": 49,
   "id": "f081f672-8cf1-4587-b081-2a9af11f4cc9",
   "metadata": {},
   "outputs": [
    {
     "data": {
      "text/plain": [
       "array([[38, 25],\n",
       "       [66, 49],\n",
       "       [47, 51]])"
      ]
     },
     "execution_count": 49,
     "metadata": {},
     "output_type": "execute_result"
    }
   ],
   "source": [
    "A @ C"
   ]
  },
  {
   "cell_type": "code",
   "execution_count": 50,
   "id": "009b445a-6226-448f-a3af-5debed6be8f5",
   "metadata": {},
   "outputs": [
    {
     "data": {
      "text/plain": [
       "array([[0., 0., 0.],\n",
       "       [0., 0., 0.]])"
      ]
     },
     "execution_count": 50,
     "metadata": {},
     "output_type": "execute_result"
    }
   ],
   "source": [
    "# Special matrices\n",
    "np.zeros((2, 3))"
   ]
  },
  {
   "cell_type": "code",
   "execution_count": 51,
   "id": "efec914d-e9d3-4199-a63f-36ac15b986b3",
   "metadata": {},
   "outputs": [
    {
     "data": {
      "text/plain": [
       "array([[1., 1., 1.],\n",
       "       [1., 1., 1.]])"
      ]
     },
     "execution_count": 51,
     "metadata": {},
     "output_type": "execute_result"
    }
   ],
   "source": [
    "np.ones((2, 3))"
   ]
  },
  {
   "cell_type": "code",
   "execution_count": 52,
   "id": "5f8fa5a3-deaa-4f1b-a3c4-475d939e4914",
   "metadata": {},
   "outputs": [
    {
     "data": {
      "text/plain": [
       "array([[1., 0., 0.],\n",
       "       [0., 1., 0.],\n",
       "       [0., 0., 1.]])"
      ]
     },
     "execution_count": 52,
     "metadata": {},
     "output_type": "execute_result"
    }
   ],
   "source": [
    "np.identity(3)"
   ]
  },
  {
   "cell_type": "code",
   "execution_count": 53,
   "id": "cba55958-b73a-45b0-874c-b34e70c8f56e",
   "metadata": {},
   "outputs": [],
   "source": [
    "# Create a rectangular matrix\n",
    "import numpy as np"
   ]
  },
  {
   "cell_type": "code",
   "execution_count": 54,
   "id": "f936ce6a-a064-4d1a-b752-0326116df356",
   "metadata": {},
   "outputs": [
    {
     "data": {
      "text/plain": [
       "array([[ 87,  96,  70],\n",
       "       [100,  87,  90],\n",
       "       [ 94,  77,  90],\n",
       "       [100,  81,  82]])"
      ]
     },
     "execution_count": 54,
     "metadata": {},
     "output_type": "execute_result"
    }
   ],
   "source": [
    "A = np.array([[87, 96, 70], [100, 87, 90], [94, 77, 90], [100, 81, 82]])\n",
    "A"
   ]
  },
  {
   "cell_type": "code",
   "execution_count": 55,
   "id": "15326f57-94ec-4d71-98db-fb144f5ea0df",
   "metadata": {},
   "outputs": [
    {
     "data": {
      "text/plain": [
       "array([100,  87,  90])"
      ]
     },
     "execution_count": 55,
     "metadata": {},
     "output_type": "execute_result"
    }
   ],
   "source": [
    "# Submatrices\n",
    "# Only row 1\n",
    "A[1]"
   ]
  },
  {
   "cell_type": "code",
   "execution_count": 56,
   "id": "296677c0-74b8-4a5d-8edd-b32e0fff3c8f",
   "metadata": {},
   "outputs": [
    {
     "data": {
      "text/plain": [
       "array([[ 87,  96,  70],\n",
       "       [100,  87,  90]])"
      ]
     },
     "execution_count": 56,
     "metadata": {},
     "output_type": "execute_result"
    }
   ],
   "source": [
    "# Only rows 0 and 1\n",
    "A[0:2]"
   ]
  },
  {
   "cell_type": "code",
   "execution_count": 57,
   "id": "ce229ea9-65b9-41af-af02-d8636fe25f51",
   "metadata": {},
   "outputs": [
    {
     "data": {
      "text/plain": [
       "array([[100,  87,  90],\n",
       "       [100,  81,  82]])"
      ]
     },
     "execution_count": 57,
     "metadata": {},
     "output_type": "execute_result"
    }
   ],
   "source": [
    "# Only rows 1 and 3\n",
    "A[[1, 3]]"
   ]
  },
  {
   "cell_type": "code",
   "execution_count": 58,
   "id": "2cd607f0-7cf3-484b-bfdb-a86265d5cf4f",
   "metadata": {},
   "outputs": [
    {
     "data": {
      "text/plain": [
       "(3,)"
      ]
     },
     "execution_count": 58,
     "metadata": {},
     "output_type": "execute_result"
    }
   ],
   "source": [
    "A[1].shape"
   ]
  },
  {
   "cell_type": "code",
   "execution_count": 59,
   "id": "1e20f6df-134a-4e44-8b43-7b1193c82683",
   "metadata": {},
   "outputs": [
    {
     "data": {
      "text/plain": [
       "array([[100,  87,  90]])"
      ]
     },
     "execution_count": 59,
     "metadata": {},
     "output_type": "execute_result"
    }
   ],
   "source": [
    "A[[1]]"
   ]
  },
  {
   "cell_type": "code",
   "execution_count": 60,
   "id": "f66298ce-fa4a-44a6-ba33-c334551d5be5",
   "metadata": {},
   "outputs": [
    {
     "data": {
      "text/plain": [
       "(1, 3)"
      ]
     },
     "execution_count": 60,
     "metadata": {},
     "output_type": "execute_result"
    }
   ],
   "source": [
    "A[[1]].shape"
   ]
  },
  {
   "cell_type": "code",
   "execution_count": 61,
   "id": "7a53b2de-2d08-4a77-afdb-1c7ca63b6a1a",
   "metadata": {},
   "outputs": [
    {
     "data": {
      "text/plain": [
       "array([ 87, 100,  94, 100])"
      ]
     },
     "execution_count": 61,
     "metadata": {},
     "output_type": "execute_result"
    }
   ],
   "source": [
    "# Only column 0\n",
    "A[:, 0]"
   ]
  },
  {
   "cell_type": "code",
   "execution_count": 62,
   "id": "e511f058-35c4-491d-bcab-97ffc4079143",
   "metadata": {},
   "outputs": [
    {
     "data": {
      "text/plain": [
       "array([[ 87],\n",
       "       [100],\n",
       "       [ 94],\n",
       "       [100]])"
      ]
     },
     "execution_count": 62,
     "metadata": {},
     "output_type": "execute_result"
    }
   ],
   "source": [
    "A[:, [0]]"
   ]
  },
  {
   "cell_type": "code",
   "execution_count": 63,
   "id": "a51e45da-6f69-42a5-87c1-a1da81b55c2e",
   "metadata": {},
   "outputs": [
    {
     "data": {
      "text/plain": [
       "array([[96, 70],\n",
       "       [87, 90],\n",
       "       [77, 90],\n",
       "       [81, 82]])"
      ]
     },
     "execution_count": 63,
     "metadata": {},
     "output_type": "execute_result"
    }
   ],
   "source": [
    "# Only columns 1 and 2\n",
    "A[:, 1:3]"
   ]
  },
  {
   "cell_type": "code",
   "execution_count": 64,
   "id": "51c49e4e-4a36-41d9-970b-3caa9c31348f",
   "metadata": {},
   "outputs": [
    {
     "data": {
      "text/plain": [
       "array([[ 87,  70],\n",
       "       [100,  90],\n",
       "       [ 94,  90],\n",
       "       [100,  82]])"
      ]
     },
     "execution_count": 64,
     "metadata": {},
     "output_type": "execute_result"
    }
   ],
   "source": [
    "# Only columns 0 and 2\n",
    "A[:, [0, 2]]"
   ]
  },
  {
   "cell_type": "code",
   "execution_count": 65,
   "id": "2c4737b2-6cb1-41ed-96b3-c3813c08fa23",
   "metadata": {},
   "outputs": [
    {
     "data": {
      "text/plain": [
       "array([[10],\n",
       "       [ 2],\n",
       "       [50],\n",
       "       [ 3]])"
      ]
     },
     "execution_count": 65,
     "metadata": {},
     "output_type": "execute_result"
    }
   ],
   "source": [
    "# Create a new vector\n",
    "b = np.array([10, 2, 50, 3])\n",
    "b = b.reshape(4, 1)\n",
    "b"
   ]
  },
  {
   "cell_type": "code",
   "execution_count": 66,
   "id": "449fbbfc-1425-4c58-81bd-7c1055475ac2",
   "metadata": {},
   "outputs": [
    {
     "data": {
      "text/plain": [
       "array([[ 87,  96,  70,  10],\n",
       "       [100,  87,  90,   2],\n",
       "       [ 94,  77,  90,  50],\n",
       "       [100,  81,  82,   3]])"
      ]
     },
     "execution_count": 66,
     "metadata": {},
     "output_type": "execute_result"
    }
   ],
   "source": [
    "# Concatenate the column to A\n",
    "B = np.concatenate((A, b), axis=1)\n",
    "B"
   ]
  },
  {
   "cell_type": "code",
   "execution_count": 67,
   "id": "fa6cde01-0e26-4b11-8842-90e5e99312c8",
   "metadata": {},
   "outputs": [
    {
     "ename": "LinAlgError",
     "evalue": "Last 2 dimensions of the array must be square",
     "output_type": "error",
     "traceback": [
      "\u001b[0;31m---------------------------------------------------------------------------\u001b[0m",
      "\u001b[0;31mLinAlgError\u001b[0m                               Traceback (most recent call last)",
      "Cell \u001b[0;32mIn[67], line 2\u001b[0m\n\u001b[1;32m      1\u001b[0m \u001b[38;5;66;03m# Determinant of A (ERROR!)\u001b[39;00m\n\u001b[0;32m----> 2\u001b[0m \u001b[43mnp\u001b[49m\u001b[38;5;241;43m.\u001b[39;49m\u001b[43mlinalg\u001b[49m\u001b[38;5;241;43m.\u001b[39;49m\u001b[43mdet\u001b[49m\u001b[43m(\u001b[49m\u001b[43mA\u001b[49m\u001b[43m)\u001b[49m\n",
      "File \u001b[0;32m<__array_function__ internals>:180\u001b[0m, in \u001b[0;36mdet\u001b[0;34m(*args, **kwargs)\u001b[0m\n",
      "File \u001b[0;32m~/anaconda3/lib/python3.10/site-packages/numpy/linalg/linalg.py:2151\u001b[0m, in \u001b[0;36mdet\u001b[0;34m(a)\u001b[0m\n\u001b[1;32m   2149\u001b[0m a \u001b[38;5;241m=\u001b[39m asarray(a)\n\u001b[1;32m   2150\u001b[0m _assert_stacked_2d(a)\n\u001b[0;32m-> 2151\u001b[0m \u001b[43m_assert_stacked_square\u001b[49m\u001b[43m(\u001b[49m\u001b[43ma\u001b[49m\u001b[43m)\u001b[49m\n\u001b[1;32m   2152\u001b[0m t, result_t \u001b[38;5;241m=\u001b[39m _commonType(a)\n\u001b[1;32m   2153\u001b[0m signature \u001b[38;5;241m=\u001b[39m \u001b[38;5;124m'\u001b[39m\u001b[38;5;124mD->D\u001b[39m\u001b[38;5;124m'\u001b[39m \u001b[38;5;28;01mif\u001b[39;00m isComplexType(t) \u001b[38;5;28;01melse\u001b[39;00m \u001b[38;5;124m'\u001b[39m\u001b[38;5;124md->d\u001b[39m\u001b[38;5;124m'\u001b[39m\n",
      "File \u001b[0;32m~/anaconda3/lib/python3.10/site-packages/numpy/linalg/linalg.py:204\u001b[0m, in \u001b[0;36m_assert_stacked_square\u001b[0;34m(*arrays)\u001b[0m\n\u001b[1;32m    202\u001b[0m m, n \u001b[38;5;241m=\u001b[39m a\u001b[38;5;241m.\u001b[39mshape[\u001b[38;5;241m-\u001b[39m\u001b[38;5;241m2\u001b[39m:]\n\u001b[1;32m    203\u001b[0m \u001b[38;5;28;01mif\u001b[39;00m m \u001b[38;5;241m!=\u001b[39m n:\n\u001b[0;32m--> 204\u001b[0m     \u001b[38;5;28;01mraise\u001b[39;00m LinAlgError(\u001b[38;5;124m'\u001b[39m\u001b[38;5;124mLast 2 dimensions of the array must be square\u001b[39m\u001b[38;5;124m'\u001b[39m)\n",
      "\u001b[0;31mLinAlgError\u001b[0m: Last 2 dimensions of the array must be square"
     ]
    }
   ],
   "source": [
    "# Determinant of A (ERROR!)\n",
    "np.linalg.det(A)"
   ]
  },
  {
   "cell_type": "code",
   "execution_count": 68,
   "id": "9794cf44-0bf3-4b08-bc69-a9e02ac517bf",
   "metadata": {},
   "outputs": [
    {
     "data": {
      "text/plain": [
       "-1086840.0000000005"
      ]
     },
     "execution_count": 68,
     "metadata": {},
     "output_type": "execute_result"
    }
   ],
   "source": [
    "# Determinant of B\n",
    "np.linalg.det(B)"
   ]
  },
  {
   "cell_type": "code",
   "execution_count": 69,
   "id": "a9415f0a-6d00-4123-86d4-43d6b77de2c0",
   "metadata": {},
   "outputs": [
    {
     "data": {
      "text/plain": [
       "array([[-0.007865  , -0.10131206, -0.00155129,  0.11961282],\n",
       "       [ 0.03591697,  0.01460197, -0.00531633, -0.04085238],\n",
       "       [-0.02612528,  0.11024162,  0.00642873, -0.09355563],\n",
       "       [ 0.00649958, -0.03045526,  0.01953185,  0.00644069]])"
      ]
     },
     "execution_count": 69,
     "metadata": {},
     "output_type": "execute_result"
    }
   ],
   "source": [
    "# Inverse of matrix B\n",
    "Binv = np.linalg.inv(B)\n",
    "Binv"
   ]
  },
  {
   "cell_type": "code",
   "execution_count": 70,
   "id": "eb1b9574-6f5d-4036-b344-12b4a57ce73c",
   "metadata": {},
   "outputs": [
    {
     "data": {
      "text/plain": [
       "array([[ 1., -0.,  0.,  0.],\n",
       "       [ 0.,  1.,  0., -0.],\n",
       "       [ 0., -0.,  1., -0.],\n",
       "       [ 0.,  0.,  0.,  1.]])"
      ]
     },
     "execution_count": 70,
     "metadata": {},
     "output_type": "execute_result"
    }
   ],
   "source": [
    "np.round(B @ Binv, 2)"
   ]
  },
  {
   "cell_type": "code",
   "execution_count": 71,
   "id": "8e23ed03-7cdc-4b8d-b8a1-1fb5ee918255",
   "metadata": {},
   "outputs": [
    {
     "data": {
      "text/plain": [
       "array([[ 1., -0., -0.,  0.],\n",
       "       [-0.,  1., -0., -0.],\n",
       "       [ 0.,  0.,  1.,  0.],\n",
       "       [-0.,  0.,  0.,  1.]])"
      ]
     },
     "execution_count": 71,
     "metadata": {},
     "output_type": "execute_result"
    }
   ],
   "source": [
    "np.round(Binv @ B, 2)"
   ]
  },
  {
   "cell_type": "code",
   "execution_count": 72,
   "id": "9cfb6742-2212-4cc6-a7bb-3531af7ef264",
   "metadata": {},
   "outputs": [
    {
     "data": {
      "text/plain": [
       "array([[1, 2, 3],\n",
       "       [1, 2, 5],\n",
       "       [1, 2, 1]])"
      ]
     },
     "execution_count": 72,
     "metadata": {},
     "output_type": "execute_result"
    }
   ],
   "source": [
    "A = np.array([[1, 2, 3], [1, 2, 5], [1, 2, 1]])\n",
    "A"
   ]
  },
  {
   "cell_type": "code",
   "execution_count": 73,
   "id": "ddacf476-ccee-4338-b703-3925e89d0bbe",
   "metadata": {},
   "outputs": [
    {
     "data": {
      "text/plain": [
       "2"
      ]
     },
     "execution_count": 73,
     "metadata": {},
     "output_type": "execute_result"
    }
   ],
   "source": [
    "# Compute the rank of A\n",
    "np.linalg.matrix_rank(A)"
   ]
  },
  {
   "cell_type": "code",
   "execution_count": null,
   "id": "34b47faa-add5-4eca-af96-9cf0308a9acf",
   "metadata": {},
   "outputs": [],
   "source": []
  }
 ],
 "metadata": {
  "kernelspec": {
   "display_name": "Python 3 (ipykernel)",
   "language": "python",
   "name": "python3"
  },
  "language_info": {
   "codemirror_mode": {
    "name": "ipython",
    "version": 3
   },
   "file_extension": ".py",
   "mimetype": "text/x-python",
   "name": "python",
   "nbconvert_exporter": "python",
   "pygments_lexer": "ipython3",
   "version": "3.10.11"
  }
 },
 "nbformat": 4,
 "nbformat_minor": 5
}
