{
 "cells": [
  {
   "cell_type": "code",
   "execution_count": 1,
   "id": "b2d799a8-839d-47bc-aefe-8da279b3fe79",
   "metadata": {},
   "outputs": [],
   "source": [
    "# Import the libraries\n",
    "import numpy as np\n",
    "import pandas as pd\n",
    "from scipy.stats import norm"
   ]
  },
  {
   "cell_type": "code",
   "execution_count": 2,
   "id": "56e237f8-3a8f-49e6-8954-0218a3f9a0fb",
   "metadata": {},
   "outputs": [],
   "source": [
    "# Define a function to compute the BS formula\n",
    "def call_BS(S0, K, T, r, sigma):\n",
    "    d1 = (np.log(S0 / K) + (r + sigma**2 / 2) * T) / (sigma * np.sqrt(T))\n",
    "    d2 = d1 - sigma * np.sqrt(T)\n",
    "    C = S0 * norm.cdf(d1) - K * np.exp(-r * T) * norm.cdf(d2)\n",
    "    \n",
    "    return C"
   ]
  },
  {
   "cell_type": "code",
   "execution_count": 3,
   "id": "35370918-8804-4e41-9b88-bd0fade85c35",
   "metadata": {},
   "outputs": [],
   "source": [
    "# Fix the pricing parameters\n",
    "S0 = 100\n",
    "T = 1\n",
    "K = 101\n",
    "r = 0.05\n",
    "sigma = 0.3"
   ]
  },
  {
   "cell_type": "code",
   "execution_count": 4,
   "id": "ec7dbc91-443f-4ba1-9dce-36dae08a25b0",
   "metadata": {},
   "outputs": [
    {
     "data": {
      "text/plain": [
       "13.75561909713742"
      ]
     },
     "execution_count": 4,
     "metadata": {},
     "output_type": "execute_result"
    }
   ],
   "source": [
    "# Compute the BS price of the call\n",
    "C0_BS = call_BS(S0, K, T, r, sigma)\n",
    "C0_BS"
   ]
  },
  {
   "cell_type": "code",
   "execution_count": 5,
   "id": "bd90f4cf-e471-4bec-a98c-4960cbba4d20",
   "metadata": {},
   "outputs": [],
   "source": [
    "# Import the NumPy's pseudo-random generator\n",
    "from numpy.random import default_rng"
   ]
  },
  {
   "cell_type": "code",
   "execution_count": 6,
   "id": "b529992c-ccb5-4ca2-abc2-84fcabab6217",
   "metadata": {},
   "outputs": [],
   "source": [
    "# Create the generator\n",
    "rng = default_rng(100)"
   ]
  },
  {
   "cell_type": "code",
   "execution_count": 7,
   "id": "3dd9d905-e7ae-4d46-ab9c-b86090f0a3ed",
   "metadata": {},
   "outputs": [],
   "source": [
    "# Generate the standard normal numbers\n",
    "M = 1000000\n",
    "epsilons = rng.standard_normal(M)"
   ]
  },
  {
   "cell_type": "code",
   "execution_count": 8,
   "id": "73b6b4a0-60e7-4989-9064-a90000c624e7",
   "metadata": {},
   "outputs": [
    {
     "data": {
      "text/plain": [
       "array([ 71.01600626, 109.62845061, 127.03039731, ...,  90.06207808,\n",
       "        89.31650055,  88.48946422])"
      ]
     },
     "execution_count": 8,
     "metadata": {},
     "output_type": "execute_result"
    }
   ],
   "source": [
    "# Generate ST\n",
    "ST = S0 * np.exp((r - sigma**2 / 2) * T + sigma * np.sqrt(T) * epsilons)\n",
    "ST"
   ]
  },
  {
   "cell_type": "code",
   "execution_count": 9,
   "id": "970a733f-dd3a-4c6e-9272-5939213fd400",
   "metadata": {},
   "outputs": [
    {
     "data": {
      "text/plain": [
       "array([ 0.        ,  8.62845061, 26.03039731, ...,  0.        ,\n",
       "        0.        ,  0.        ])"
      ]
     },
     "execution_count": 9,
     "metadata": {},
     "output_type": "execute_result"
    }
   ],
   "source": [
    "# Generate the payoff of the call\n",
    "CT = np.maximum(ST - K, 0)\n",
    "CT"
   ]
  },
  {
   "cell_type": "code",
   "execution_count": 10,
   "id": "8f226695-82aa-4161-8688-47cef4aaa71c",
   "metadata": {},
   "outputs": [
    {
     "data": {
      "text/plain": [
       "13.738360638652495"
      ]
     },
     "execution_count": 10,
     "metadata": {},
     "output_type": "execute_result"
    }
   ],
   "source": [
    "# Compute the Monte Carlo price\n",
    "C0_MC = np.exp(-r * T) * CT.mean()\n",
    "C0_MC"
   ]
  },
  {
   "cell_type": "code",
   "execution_count": 11,
   "id": "adbd3faf-04e5-4775-85b3-4d0bbbadcc3c",
   "metadata": {},
   "outputs": [],
   "source": [
    "# Define the payoff function\n",
    "def phi(x):\n",
    "    return np.maximum(x - K, 0)"
   ]
  },
  {
   "cell_type": "code",
   "execution_count": 12,
   "id": "90c446b9-0521-4710-8d97-53650636e8db",
   "metadata": {},
   "outputs": [],
   "source": [
    "# Define the lognormal density\n",
    "mu_t = np.log(S0) + (r - sigma**2 / 2) * T\n",
    "sigma_t = sigma * np.sqrt(T)\n",
    "\n",
    "from scipy.stats import lognorm\n",
    "\n",
    "def l(x):\n",
    "    return lognorm.pdf(x, s=sigma_t, scale=np.exp(mu_t))"
   ]
  },
  {
   "cell_type": "code",
   "execution_count": 13,
   "id": "d64cc834-f59f-4b77-b9f2-383de44450b7",
   "metadata": {},
   "outputs": [],
   "source": [
    "# Define the integrand function\n",
    "def f_int(x):\n",
    "    return phi(x) * l(x)"
   ]
  },
  {
   "cell_type": "code",
   "execution_count": 14,
   "id": "84fe6d0a-67db-4b10-b7c4-e3f08f0df1e6",
   "metadata": {},
   "outputs": [
    {
     "data": {
      "text/plain": [
       "14.46088476822077"
      ]
     },
     "execution_count": 14,
     "metadata": {},
     "output_type": "execute_result"
    }
   ],
   "source": [
    "# Compute the integral\n",
    "from scipy.integrate import quad\n",
    "\n",
    "I = quad(f_int, -np.infty, np.infty)[0]\n",
    "I"
   ]
  },
  {
   "cell_type": "code",
   "execution_count": 15,
   "id": "4b8ba0a9-6534-4762-ad92-1159e607d09f",
   "metadata": {},
   "outputs": [
    {
     "data": {
      "text/plain": [
       "13.755619095845784"
      ]
     },
     "execution_count": 15,
     "metadata": {},
     "output_type": "execute_result"
    }
   ],
   "source": [
    "# Compute the integral price\n",
    "C0_int = np.exp(-r * T) * I\n",
    "C0_int"
   ]
  },
  {
   "cell_type": "code",
   "execution_count": 16,
   "id": "2e185b51-f95a-4cf5-a4f8-68072f740c02",
   "metadata": {},
   "outputs": [
    {
     "data": {
      "text/plain": [
       "Text(0.5, 1.0, 'Lognormal density')"
      ]
     },
     "execution_count": 16,
     "metadata": {},
     "output_type": "execute_result"
    },
    {
     "data": {
      "image/png": "[encoded data removed]",
      "text/plain": [
       "<Figure size 640x480 with 1 Axes>"
      ]
     },
     "metadata": {},
     "output_type": "display_data"
    }
   ],
   "source": [
    "# Plot the lognormal density\n",
    "import matplotlib.pyplot as plt\n",
    "\n",
    "x = np.linspace(0.01, 400, 100)\n",
    "y = l(x)\n",
    "\n",
    "plt.plot(x, y)\n",
    "plt.title('Lognormal density')"
   ]
  },
  {
   "cell_type": "code",
   "execution_count": 17,
   "id": "063405a0-878b-408b-b697-ff5fa909daf7",
   "metadata": {},
   "outputs": [
    {
     "data": {
      "text/html": [
       "<div>\n",
       "<style scoped>\n",
       "    .dataframe tbody tr th:only-of-type {\n",
       "        vertical-align: middle;\n",
       "    }\n",
       "\n",
       "    .dataframe tbody tr th {\n",
       "        vertical-align: top;\n",
       "    }\n",
       "\n",
       "    .dataframe thead th {\n",
       "        text-align: right;\n",
       "    }\n",
       "</style>\n",
       "<table border=\"1\" class=\"dataframe\">\n",
       "  <thead>\n",
       "    <tr style=\"text-align: right;\">\n",
       "      <th></th>\n",
       "      <th>Ticker</th>\n",
       "      <th>S0</th>\n",
       "      <th>Type</th>\n",
       "      <th>Val_Date</th>\n",
       "      <th>Expiration</th>\n",
       "      <th>K</th>\n",
       "      <th>sigma</th>\n",
       "      <th>Opt_Price</th>\n",
       "      <th>T</th>\n",
       "    </tr>\n",
       "  </thead>\n",
       "  <tbody>\n",
       "    <tr>\n",
       "      <th>0</th>\n",
       "      <td>EFX</td>\n",
       "      <td>141.29</td>\n",
       "      <td>call</td>\n",
       "      <td>2019-08-15</td>\n",
       "      <td>2019-08-23</td>\n",
       "      <td>137.0</td>\n",
       "      <td>0.2837</td>\n",
       "      <td>5.000</td>\n",
       "      <td>0.031746</td>\n",
       "    </tr>\n",
       "    <tr>\n",
       "      <th>1</th>\n",
       "      <td>TROW</td>\n",
       "      <td>105.46</td>\n",
       "      <td>call</td>\n",
       "      <td>2019-08-15</td>\n",
       "      <td>2019-09-13</td>\n",
       "      <td>95.0</td>\n",
       "      <td>0.3092</td>\n",
       "      <td>11.450</td>\n",
       "      <td>0.115079</td>\n",
       "    </tr>\n",
       "    <tr>\n",
       "      <th>2</th>\n",
       "      <td>GWW</td>\n",
       "      <td>264.81</td>\n",
       "      <td>call</td>\n",
       "      <td>2019-08-15</td>\n",
       "      <td>2019-08-30</td>\n",
       "      <td>265.0</td>\n",
       "      <td>0.3261</td>\n",
       "      <td>6.850</td>\n",
       "      <td>0.059524</td>\n",
       "    </tr>\n",
       "    <tr>\n",
       "      <th>3</th>\n",
       "      <td>SPOT</td>\n",
       "      <td>145.37</td>\n",
       "      <td>call</td>\n",
       "      <td>2019-08-15</td>\n",
       "      <td>2019-08-30</td>\n",
       "      <td>170.0</td>\n",
       "      <td>0.3855</td>\n",
       "      <td>0.100</td>\n",
       "      <td>0.059524</td>\n",
       "    </tr>\n",
       "    <tr>\n",
       "      <th>4</th>\n",
       "      <td>GS</td>\n",
       "      <td>196.18</td>\n",
       "      <td>call</td>\n",
       "      <td>2019-08-15</td>\n",
       "      <td>2020-01-17</td>\n",
       "      <td>190.0</td>\n",
       "      <td>0.2515</td>\n",
       "      <td>16.925</td>\n",
       "      <td>0.615079</td>\n",
       "    </tr>\n",
       "    <tr>\n",
       "      <th>...</th>\n",
       "      <td>...</td>\n",
       "      <td>...</td>\n",
       "      <td>...</td>\n",
       "      <td>...</td>\n",
       "      <td>...</td>\n",
       "      <td>...</td>\n",
       "      <td>...</td>\n",
       "      <td>...</td>\n",
       "      <td>...</td>\n",
       "    </tr>\n",
       "    <tr>\n",
       "      <th>99995</th>\n",
       "      <td>AMD</td>\n",
       "      <td>29.67</td>\n",
       "      <td>call</td>\n",
       "      <td>2019-08-15</td>\n",
       "      <td>2019-08-16</td>\n",
       "      <td>45.0</td>\n",
       "      <td>1.6415</td>\n",
       "      <td>0.005</td>\n",
       "      <td>0.003968</td>\n",
       "    </tr>\n",
       "    <tr>\n",
       "      <th>99996</th>\n",
       "      <td>VXX</td>\n",
       "      <td>29.70</td>\n",
       "      <td>call</td>\n",
       "      <td>2019-08-15</td>\n",
       "      <td>2020-03-20</td>\n",
       "      <td>28.0</td>\n",
       "      <td>0.7422</td>\n",
       "      <td>7.550</td>\n",
       "      <td>0.865079</td>\n",
       "    </tr>\n",
       "    <tr>\n",
       "      <th>99997</th>\n",
       "      <td>BYND</td>\n",
       "      <td>144.20</td>\n",
       "      <td>call</td>\n",
       "      <td>2019-08-15</td>\n",
       "      <td>2019-08-16</td>\n",
       "      <td>100.0</td>\n",
       "      <td>1.8239</td>\n",
       "      <td>44.350</td>\n",
       "      <td>0.003968</td>\n",
       "    </tr>\n",
       "    <tr>\n",
       "      <th>99998</th>\n",
       "      <td>CFR</td>\n",
       "      <td>82.12</td>\n",
       "      <td>call</td>\n",
       "      <td>2019-08-15</td>\n",
       "      <td>2019-10-18</td>\n",
       "      <td>125.0</td>\n",
       "      <td>0.3883</td>\n",
       "      <td>0.075</td>\n",
       "      <td>0.253968</td>\n",
       "    </tr>\n",
       "    <tr>\n",
       "      <th>99999</th>\n",
       "      <td>HLX</td>\n",
       "      <td>6.87</td>\n",
       "      <td>call</td>\n",
       "      <td>2019-08-15</td>\n",
       "      <td>2019-12-20</td>\n",
       "      <td>6.0</td>\n",
       "      <td>0.5266</td>\n",
       "      <td>1.325</td>\n",
       "      <td>0.503968</td>\n",
       "    </tr>\n",
       "  </tbody>\n",
       "</table>\n",
       "<p>100000 rows × 9 columns</p>\n",
       "</div>"
      ],
      "text/plain": [
       "      Ticker      S0  Type    Val_Date  Expiration      K   sigma  Opt_Price  \\\n",
       "0        EFX  141.29  call  2019-08-15  2019-08-23  137.0  0.2837      5.000   \n",
       "1       TROW  105.46  call  2019-08-15  2019-09-13   95.0  0.3092     11.450   \n",
       "2        GWW  264.81  call  2019-08-15  2019-08-30  265.0  0.3261      6.850   \n",
       "3       SPOT  145.37  call  2019-08-15  2019-08-30  170.0  0.3855      0.100   \n",
       "4         GS  196.18  call  2019-08-15  2020-01-17  190.0  0.2515     16.925   \n",
       "...      ...     ...   ...         ...         ...    ...     ...        ...   \n",
       "99995    AMD   29.67  call  2019-08-15  2019-08-16   45.0  1.6415      0.005   \n",
       "99996    VXX   29.70  call  2019-08-15  2020-03-20   28.0  0.7422      7.550   \n",
       "99997   BYND  144.20  call  2019-08-15  2019-08-16  100.0  1.8239     44.350   \n",
       "99998    CFR   82.12  call  2019-08-15  2019-10-18  125.0  0.3883      0.075   \n",
       "99999    HLX    6.87  call  2019-08-15  2019-12-20    6.0  0.5266      1.325   \n",
       "\n",
       "              T  \n",
       "0      0.031746  \n",
       "1      0.115079  \n",
       "2      0.059524  \n",
       "3      0.059524  \n",
       "4      0.615079  \n",
       "...         ...  \n",
       "99995  0.003968  \n",
       "99996  0.865079  \n",
       "99997  0.003968  \n",
       "99998  0.253968  \n",
       "99999  0.503968  \n",
       "\n",
       "[100000 rows x 9 columns]"
      ]
     },
     "execution_count": 17,
     "metadata": {},
     "output_type": "execute_result"
    }
   ],
   "source": [
    "# Load call prices from csv\n",
    "calls = pd.read_csv('Calls.csv')\n",
    "calls"
   ]
  },
  {
   "cell_type": "code",
   "execution_count": 18,
   "id": "060dc3d7-0bf0-4f89-8e1d-4269b4e77ae8",
   "metadata": {},
   "outputs": [],
   "source": [
    "# Fix the risk-free rate on the market\n",
    "r = 0.0195"
   ]
  },
  {
   "cell_type": "code",
   "execution_count": 20,
   "id": "440a46bd-0c62-418a-95d9-f5ce7b475e2a",
   "metadata": {},
   "outputs": [],
   "source": [
    "# Compute the BS price on every row\n",
    "calls['C0_BS'] = calls.apply(lambda row:\n",
    "                            call_BS(row['S0'],\n",
    "                                    row['K'],\n",
    "                                    row['T'],\n",
    "                                    r,\n",
    "                                    row['sigma']\n",
    "                                   ), axis=1)"
   ]
  },
  {
   "cell_type": "code",
   "execution_count": 21,
   "id": "d09da42f-c561-4ace-ad33-6a83de026f35",
   "metadata": {},
   "outputs": [
    {
     "data": {
      "text/html": [
       "<div>\n",
       "<style scoped>\n",
       "    .dataframe tbody tr th:only-of-type {\n",
       "        vertical-align: middle;\n",
       "    }\n",
       "\n",
       "    .dataframe tbody tr th {\n",
       "        vertical-align: top;\n",
       "    }\n",
       "\n",
       "    .dataframe thead th {\n",
       "        text-align: right;\n",
       "    }\n",
       "</style>\n",
       "<table border=\"1\" class=\"dataframe\">\n",
       "  <thead>\n",
       "    <tr style=\"text-align: right;\">\n",
       "      <th></th>\n",
       "      <th>Ticker</th>\n",
       "      <th>S0</th>\n",
       "      <th>Type</th>\n",
       "      <th>Val_Date</th>\n",
       "      <th>Expiration</th>\n",
       "      <th>K</th>\n",
       "      <th>sigma</th>\n",
       "      <th>Opt_Price</th>\n",
       "      <th>T</th>\n",
       "      <th>C0_BS</th>\n",
       "    </tr>\n",
       "  </thead>\n",
       "  <tbody>\n",
       "    <tr>\n",
       "      <th>0</th>\n",
       "      <td>EFX</td>\n",
       "      <td>141.29</td>\n",
       "      <td>call</td>\n",
       "      <td>2019-08-15</td>\n",
       "      <td>2019-08-23</td>\n",
       "      <td>137.0</td>\n",
       "      <td>0.2837</td>\n",
       "      <td>5.000</td>\n",
       "      <td>0.031746</td>\n",
       "      <td>5.518145</td>\n",
       "    </tr>\n",
       "    <tr>\n",
       "      <th>1</th>\n",
       "      <td>TROW</td>\n",
       "      <td>105.46</td>\n",
       "      <td>call</td>\n",
       "      <td>2019-08-15</td>\n",
       "      <td>2019-09-13</td>\n",
       "      <td>95.0</td>\n",
       "      <td>0.3092</td>\n",
       "      <td>11.450</td>\n",
       "      <td>0.115079</td>\n",
       "      <td>11.517641</td>\n",
       "    </tr>\n",
       "    <tr>\n",
       "      <th>2</th>\n",
       "      <td>GWW</td>\n",
       "      <td>264.81</td>\n",
       "      <td>call</td>\n",
       "      <td>2019-08-15</td>\n",
       "      <td>2019-08-30</td>\n",
       "      <td>265.0</td>\n",
       "      <td>0.3261</td>\n",
       "      <td>6.850</td>\n",
       "      <td>0.059524</td>\n",
       "      <td>8.459813</td>\n",
       "    </tr>\n",
       "    <tr>\n",
       "      <th>3</th>\n",
       "      <td>SPOT</td>\n",
       "      <td>145.37</td>\n",
       "      <td>call</td>\n",
       "      <td>2019-08-15</td>\n",
       "      <td>2019-08-30</td>\n",
       "      <td>170.0</td>\n",
       "      <td>0.3855</td>\n",
       "      <td>0.100</td>\n",
       "      <td>0.059524</td>\n",
       "      <td>0.303387</td>\n",
       "    </tr>\n",
       "    <tr>\n",
       "      <th>4</th>\n",
       "      <td>GS</td>\n",
       "      <td>196.18</td>\n",
       "      <td>call</td>\n",
       "      <td>2019-08-15</td>\n",
       "      <td>2020-01-17</td>\n",
       "      <td>190.0</td>\n",
       "      <td>0.2515</td>\n",
       "      <td>16.925</td>\n",
       "      <td>0.615079</td>\n",
       "      <td>19.675526</td>\n",
       "    </tr>\n",
       "    <tr>\n",
       "      <th>...</th>\n",
       "      <td>...</td>\n",
       "      <td>...</td>\n",
       "      <td>...</td>\n",
       "      <td>...</td>\n",
       "      <td>...</td>\n",
       "      <td>...</td>\n",
       "      <td>...</td>\n",
       "      <td>...</td>\n",
       "      <td>...</td>\n",
       "      <td>...</td>\n",
       "    </tr>\n",
       "    <tr>\n",
       "      <th>99995</th>\n",
       "      <td>AMD</td>\n",
       "      <td>29.67</td>\n",
       "      <td>call</td>\n",
       "      <td>2019-08-15</td>\n",
       "      <td>2019-08-16</td>\n",
       "      <td>45.0</td>\n",
       "      <td>1.6415</td>\n",
       "      <td>0.005</td>\n",
       "      <td>0.003968</td>\n",
       "      <td>0.000024</td>\n",
       "    </tr>\n",
       "    <tr>\n",
       "      <th>99996</th>\n",
       "      <td>VXX</td>\n",
       "      <td>29.70</td>\n",
       "      <td>call</td>\n",
       "      <td>2019-08-15</td>\n",
       "      <td>2020-03-20</td>\n",
       "      <td>28.0</td>\n",
       "      <td>0.7422</td>\n",
       "      <td>7.550</td>\n",
       "      <td>0.865079</td>\n",
       "      <td>8.855875</td>\n",
       "    </tr>\n",
       "    <tr>\n",
       "      <th>99997</th>\n",
       "      <td>BYND</td>\n",
       "      <td>144.20</td>\n",
       "      <td>call</td>\n",
       "      <td>2019-08-15</td>\n",
       "      <td>2019-08-16</td>\n",
       "      <td>100.0</td>\n",
       "      <td>1.8239</td>\n",
       "      <td>44.350</td>\n",
       "      <td>0.003968</td>\n",
       "      <td>44.210421</td>\n",
       "    </tr>\n",
       "    <tr>\n",
       "      <th>99998</th>\n",
       "      <td>CFR</td>\n",
       "      <td>82.12</td>\n",
       "      <td>call</td>\n",
       "      <td>2019-08-15</td>\n",
       "      <td>2019-10-18</td>\n",
       "      <td>125.0</td>\n",
       "      <td>0.3883</td>\n",
       "      <td>0.075</td>\n",
       "      <td>0.253968</td>\n",
       "      <td>0.120007</td>\n",
       "    </tr>\n",
       "    <tr>\n",
       "      <th>99999</th>\n",
       "      <td>HLX</td>\n",
       "      <td>6.87</td>\n",
       "      <td>call</td>\n",
       "      <td>2019-08-15</td>\n",
       "      <td>2019-12-20</td>\n",
       "      <td>6.0</td>\n",
       "      <td>0.5266</td>\n",
       "      <td>1.325</td>\n",
       "      <td>0.503968</td>\n",
       "      <td>1.483953</td>\n",
       "    </tr>\n",
       "  </tbody>\n",
       "</table>\n",
       "<p>100000 rows × 10 columns</p>\n",
       "</div>"
      ],
      "text/plain": [
       "      Ticker      S0  Type    Val_Date  Expiration      K   sigma  Opt_Price  \\\n",
       "0        EFX  141.29  call  2019-08-15  2019-08-23  137.0  0.2837      5.000   \n",
       "1       TROW  105.46  call  2019-08-15  2019-09-13   95.0  0.3092     11.450   \n",
       "2        GWW  264.81  call  2019-08-15  2019-08-30  265.0  0.3261      6.850   \n",
       "3       SPOT  145.37  call  2019-08-15  2019-08-30  170.0  0.3855      0.100   \n",
       "4         GS  196.18  call  2019-08-15  2020-01-17  190.0  0.2515     16.925   \n",
       "...      ...     ...   ...         ...         ...    ...     ...        ...   \n",
       "99995    AMD   29.67  call  2019-08-15  2019-08-16   45.0  1.6415      0.005   \n",
       "99996    VXX   29.70  call  2019-08-15  2020-03-20   28.0  0.7422      7.550   \n",
       "99997   BYND  144.20  call  2019-08-15  2019-08-16  100.0  1.8239     44.350   \n",
       "99998    CFR   82.12  call  2019-08-15  2019-10-18  125.0  0.3883      0.075   \n",
       "99999    HLX    6.87  call  2019-08-15  2019-12-20    6.0  0.5266      1.325   \n",
       "\n",
       "              T      C0_BS  \n",
       "0      0.031746   5.518145  \n",
       "1      0.115079  11.517641  \n",
       "2      0.059524   8.459813  \n",
       "3      0.059524   0.303387  \n",
       "4      0.615079  19.675526  \n",
       "...         ...        ...  \n",
       "99995  0.003968   0.000024  \n",
       "99996  0.865079   8.855875  \n",
       "99997  0.003968  44.210421  \n",
       "99998  0.253968   0.120007  \n",
       "99999  0.503968   1.483953  \n",
       "\n",
       "[100000 rows x 10 columns]"
      ]
     },
     "execution_count": 21,
     "metadata": {},
     "output_type": "execute_result"
    }
   ],
   "source": [
    "calls"
   ]
  },
  {
   "cell_type": "code",
   "execution_count": 22,
   "id": "b014593f-6a13-46c0-bcc0-0f1b297c4d0f",
   "metadata": {},
   "outputs": [
    {
     "data": {
      "text/plain": [
       "1.808959871452749"
      ]
     },
     "execution_count": 22,
     "metadata": {},
     "output_type": "execute_result"
    }
   ],
   "source": [
    "# Compute the MAE\n",
    "MAE = (np.abs(calls['Opt_Price'] - calls['C0_BS'])).mean()\n",
    "MAE"
   ]
  },
  {
   "cell_type": "code",
   "execution_count": 23,
   "id": "97b6a9ed-0381-43c4-803f-19925267d8ae",
   "metadata": {},
   "outputs": [
    {
     "data": {
      "text/plain": [
       "9.855462845916065"
      ]
     },
     "execution_count": 23,
     "metadata": {},
     "output_type": "execute_result"
    }
   ],
   "source": [
    "# Compute the RMSE\n",
    "RMSE = np.sqrt(((calls['Opt_Price'] - calls['C0_BS'])**2).mean())\n",
    "RMSE"
   ]
  },
  {
   "cell_type": "code",
   "execution_count": null,
   "id": "7e556e25-c332-4fef-8f0d-69b4e55e0e5d",
   "metadata": {},
   "outputs": [],
   "source": []
  }
 ],
 "metadata": {
  "kernelspec": {
   "display_name": "Python 3 (ipykernel)",
   "language": "python",
   "name": "python3"
  },
  "language_info": {
   "codemirror_mode": {
    "name": "ipython",
    "version": 3
   },
   "file_extension": ".py",
   "mimetype": "text/x-python",
   "name": "python",
   "nbconvert_exporter": "python",
   "pygments_lexer": "ipython3",
   "version": "3.10.11"
  }
 },
 "nbformat": 4,
 "nbformat_minor": 5
}
