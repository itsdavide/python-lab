{
 "cells": [
  {
   "cell_type": "code",
   "execution_count": 1,
   "id": "b9dd6ac9-3cb4-4397-9eac-6c118d88e79a",
   "metadata": {},
   "outputs": [
    {
     "name": "stdout",
     "output_type": "stream",
     "text": [
      "[*********************100%***********************]  4 of 4 completed\n"
     ]
    },
    {
     "data": {
      "text/html": [
       "<div>\n",
       "<style scoped>\n",
       "    .dataframe tbody tr th:only-of-type {\n",
       "        vertical-align: middle;\n",
       "    }\n",
       "\n",
       "    .dataframe tbody tr th {\n",
       "        vertical-align: top;\n",
       "    }\n",
       "\n",
       "    .dataframe thead th {\n",
       "        text-align: right;\n",
       "    }\n",
       "</style>\n",
       "<table border=\"1\" class=\"dataframe\">\n",
       "  <thead>\n",
       "    <tr style=\"text-align: right;\">\n",
       "      <th></th>\n",
       "      <th>AAPL</th>\n",
       "      <th>AMZN</th>\n",
       "      <th>GOOG</th>\n",
       "      <th>TSLA</th>\n",
       "    </tr>\n",
       "    <tr>\n",
       "      <th>Date</th>\n",
       "      <th></th>\n",
       "      <th></th>\n",
       "      <th></th>\n",
       "      <th></th>\n",
       "    </tr>\n",
       "  </thead>\n",
       "  <tbody>\n",
       "    <tr>\n",
       "      <th>2021-05-17</th>\n",
       "      <td>124.148102</td>\n",
       "      <td>163.519501</td>\n",
       "      <td>116.070503</td>\n",
       "      <td>192.276672</td>\n",
       "    </tr>\n",
       "    <tr>\n",
       "      <th>2021-05-18</th>\n",
       "      <td>122.751968</td>\n",
       "      <td>161.613998</td>\n",
       "      <td>115.171501</td>\n",
       "      <td>192.623337</td>\n",
       "    </tr>\n",
       "    <tr>\n",
       "      <th>2021-05-19</th>\n",
       "      <td>122.594681</td>\n",
       "      <td>161.589996</td>\n",
       "      <td>115.435501</td>\n",
       "      <td>187.820007</td>\n",
       "    </tr>\n",
       "    <tr>\n",
       "      <th>2021-05-20</th>\n",
       "      <td>125.170631</td>\n",
       "      <td>162.384003</td>\n",
       "      <td>117.804497</td>\n",
       "      <td>195.593338</td>\n",
       "    </tr>\n",
       "    <tr>\n",
       "      <th>2021-05-21</th>\n",
       "      <td>123.322227</td>\n",
       "      <td>160.154007</td>\n",
       "      <td>117.254997</td>\n",
       "      <td>193.626663</td>\n",
       "    </tr>\n",
       "    <tr>\n",
       "      <th>...</th>\n",
       "      <td>...</td>\n",
       "      <td>...</td>\n",
       "      <td>...</td>\n",
       "      <td>...</td>\n",
       "    </tr>\n",
       "    <tr>\n",
       "      <th>2024-05-09</th>\n",
       "      <td>184.320007</td>\n",
       "      <td>189.500000</td>\n",
       "      <td>171.580002</td>\n",
       "      <td>171.970001</td>\n",
       "    </tr>\n",
       "    <tr>\n",
       "      <th>2024-05-10</th>\n",
       "      <td>183.050003</td>\n",
       "      <td>187.479996</td>\n",
       "      <td>170.289993</td>\n",
       "      <td>168.470001</td>\n",
       "    </tr>\n",
       "    <tr>\n",
       "      <th>2024-05-13</th>\n",
       "      <td>186.279999</td>\n",
       "      <td>186.570007</td>\n",
       "      <td>170.899994</td>\n",
       "      <td>171.889999</td>\n",
       "    </tr>\n",
       "    <tr>\n",
       "      <th>2024-05-14</th>\n",
       "      <td>187.429993</td>\n",
       "      <td>187.070007</td>\n",
       "      <td>171.929993</td>\n",
       "      <td>177.550003</td>\n",
       "    </tr>\n",
       "    <tr>\n",
       "      <th>2024-05-15</th>\n",
       "      <td>190.115005</td>\n",
       "      <td>185.085007</td>\n",
       "      <td>173.729996</td>\n",
       "      <td>174.770004</td>\n",
       "    </tr>\n",
       "  </tbody>\n",
       "</table>\n",
       "<p>755 rows × 4 columns</p>\n",
       "</div>"
      ],
      "text/plain": [
       "                  AAPL        AMZN        GOOG        TSLA\n",
       "Date                                                      \n",
       "2021-05-17  124.148102  163.519501  116.070503  192.276672\n",
       "2021-05-18  122.751968  161.613998  115.171501  192.623337\n",
       "2021-05-19  122.594681  161.589996  115.435501  187.820007\n",
       "2021-05-20  125.170631  162.384003  117.804497  195.593338\n",
       "2021-05-21  123.322227  160.154007  117.254997  193.626663\n",
       "...                ...         ...         ...         ...\n",
       "2024-05-09  184.320007  189.500000  171.580002  171.970001\n",
       "2024-05-10  183.050003  187.479996  170.289993  168.470001\n",
       "2024-05-13  186.279999  186.570007  170.899994  171.889999\n",
       "2024-05-14  187.429993  187.070007  171.929993  177.550003\n",
       "2024-05-15  190.115005  185.085007  173.729996  174.770004\n",
       "\n",
       "[755 rows x 4 columns]"
      ]
     },
     "execution_count": 1,
     "metadata": {},
     "output_type": "execute_result"
    }
   ],
   "source": [
    "# Import libraries\n",
    "import yfinance as yf\n",
    "import numpy as np\n",
    "import pandas as pd\n",
    "from scipy.stats import norm\n",
    "\n",
    "# Create a portfolio of equities\n",
    "tickers = ['AMZN', 'TSLA', 'AAPL', 'GOOG']\n",
    "\n",
    "# Set the weights (summing up to 1)\n",
    "weights = np.array([0.25, 0.3, 0.15, 0.3])\n",
    "\n",
    "# Set the initial investment\n",
    "initial_investment = 1000000\n",
    "\n",
    "# Read all the tickers at once\n",
    "stocks = yf.Tickers(tickers)\n",
    "hist_data = stocks.history(period='3y')['Close']\n",
    "hist_data"
   ]
  },
  {
   "cell_type": "code",
   "execution_count": 2,
   "id": "aea3b7b6-f1fe-4bdc-9f35-2de1e3a95f9c",
   "metadata": {},
   "outputs": [],
   "source": [
    "# Delete rows (if any) with NaN\n",
    "hist_data = hist_data.dropna()"
   ]
  },
  {
   "cell_type": "code",
   "execution_count": 3,
   "id": "8290d760-5922-4c97-91b9-b6c2bf02e38b",
   "metadata": {},
   "outputs": [
    {
     "data": {
      "text/html": [
       "<div>\n",
       "<style scoped>\n",
       "    .dataframe tbody tr th:only-of-type {\n",
       "        vertical-align: middle;\n",
       "    }\n",
       "\n",
       "    .dataframe tbody tr th {\n",
       "        vertical-align: top;\n",
       "    }\n",
       "\n",
       "    .dataframe thead th {\n",
       "        text-align: right;\n",
       "    }\n",
       "</style>\n",
       "<table border=\"1\" class=\"dataframe\">\n",
       "  <thead>\n",
       "    <tr style=\"text-align: right;\">\n",
       "      <th></th>\n",
       "      <th>AAPL</th>\n",
       "      <th>AMZN</th>\n",
       "      <th>GOOG</th>\n",
       "      <th>TSLA</th>\n",
       "    </tr>\n",
       "    <tr>\n",
       "      <th>Date</th>\n",
       "      <th></th>\n",
       "      <th></th>\n",
       "      <th></th>\n",
       "      <th></th>\n",
       "    </tr>\n",
       "  </thead>\n",
       "  <tbody>\n",
       "    <tr>\n",
       "      <th>2021-05-18</th>\n",
       "      <td>-0.011246</td>\n",
       "      <td>-0.011653</td>\n",
       "      <td>-0.007745</td>\n",
       "      <td>0.001803</td>\n",
       "    </tr>\n",
       "    <tr>\n",
       "      <th>2021-05-19</th>\n",
       "      <td>-0.001281</td>\n",
       "      <td>-0.000149</td>\n",
       "      <td>0.002292</td>\n",
       "      <td>-0.024936</td>\n",
       "    </tr>\n",
       "    <tr>\n",
       "      <th>2021-05-20</th>\n",
       "      <td>0.021012</td>\n",
       "      <td>0.004914</td>\n",
       "      <td>0.020522</td>\n",
       "      <td>0.041387</td>\n",
       "    </tr>\n",
       "    <tr>\n",
       "      <th>2021-05-21</th>\n",
       "      <td>-0.014767</td>\n",
       "      <td>-0.013733</td>\n",
       "      <td>-0.004665</td>\n",
       "      <td>-0.010055</td>\n",
       "    </tr>\n",
       "    <tr>\n",
       "      <th>2021-05-24</th>\n",
       "      <td>0.013314</td>\n",
       "      <td>0.013084</td>\n",
       "      <td>0.026255</td>\n",
       "      <td>0.044002</td>\n",
       "    </tr>\n",
       "    <tr>\n",
       "      <th>...</th>\n",
       "      <td>...</td>\n",
       "      <td>...</td>\n",
       "      <td>...</td>\n",
       "      <td>...</td>\n",
       "    </tr>\n",
       "    <tr>\n",
       "      <th>2024-05-09</th>\n",
       "      <td>0.010014</td>\n",
       "      <td>0.007979</td>\n",
       "      <td>0.002454</td>\n",
       "      <td>-0.015739</td>\n",
       "    </tr>\n",
       "    <tr>\n",
       "      <th>2024-05-10</th>\n",
       "      <td>-0.006890</td>\n",
       "      <td>-0.010660</td>\n",
       "      <td>-0.007518</td>\n",
       "      <td>-0.020352</td>\n",
       "    </tr>\n",
       "    <tr>\n",
       "      <th>2024-05-13</th>\n",
       "      <td>0.017645</td>\n",
       "      <td>-0.004854</td>\n",
       "      <td>0.003582</td>\n",
       "      <td>0.020300</td>\n",
       "    </tr>\n",
       "    <tr>\n",
       "      <th>2024-05-14</th>\n",
       "      <td>0.006173</td>\n",
       "      <td>0.002680</td>\n",
       "      <td>0.006027</td>\n",
       "      <td>0.032928</td>\n",
       "    </tr>\n",
       "    <tr>\n",
       "      <th>2024-05-15</th>\n",
       "      <td>0.014325</td>\n",
       "      <td>-0.010611</td>\n",
       "      <td>0.010469</td>\n",
       "      <td>-0.015658</td>\n",
       "    </tr>\n",
       "  </tbody>\n",
       "</table>\n",
       "<p>754 rows × 4 columns</p>\n",
       "</div>"
      ],
      "text/plain": [
       "                AAPL      AMZN      GOOG      TSLA\n",
       "Date                                              \n",
       "2021-05-18 -0.011246 -0.011653 -0.007745  0.001803\n",
       "2021-05-19 -0.001281 -0.000149  0.002292 -0.024936\n",
       "2021-05-20  0.021012  0.004914  0.020522  0.041387\n",
       "2021-05-21 -0.014767 -0.013733 -0.004665 -0.010055\n",
       "2021-05-24  0.013314  0.013084  0.026255  0.044002\n",
       "...              ...       ...       ...       ...\n",
       "2024-05-09  0.010014  0.007979  0.002454 -0.015739\n",
       "2024-05-10 -0.006890 -0.010660 -0.007518 -0.020352\n",
       "2024-05-13  0.017645 -0.004854  0.003582  0.020300\n",
       "2024-05-14  0.006173  0.002680  0.006027  0.032928\n",
       "2024-05-15  0.014325 -0.010611  0.010469 -0.015658\n",
       "\n",
       "[754 rows x 4 columns]"
      ]
     },
     "execution_count": 3,
     "metadata": {},
     "output_type": "execute_result"
    }
   ],
   "source": [
    "# Compute daily return rates\n",
    "return_rates = hist_data.pct_change()\n",
    "return_rates = return_rates.dropna()\n",
    "return_rates"
   ]
  },
  {
   "cell_type": "code",
   "execution_count": 4,
   "id": "dc4f105b-3efb-4985-ae03-85069f61bfa6",
   "metadata": {},
   "outputs": [
    {
     "data": {
      "text/html": [
       "<div>\n",
       "<style scoped>\n",
       "    .dataframe tbody tr th:only-of-type {\n",
       "        vertical-align: middle;\n",
       "    }\n",
       "\n",
       "    .dataframe tbody tr th {\n",
       "        vertical-align: top;\n",
       "    }\n",
       "\n",
       "    .dataframe thead th {\n",
       "        text-align: right;\n",
       "    }\n",
       "</style>\n",
       "<table border=\"1\" class=\"dataframe\">\n",
       "  <thead>\n",
       "    <tr style=\"text-align: right;\">\n",
       "      <th></th>\n",
       "      <th>AAPL</th>\n",
       "      <th>AMZN</th>\n",
       "      <th>GOOG</th>\n",
       "      <th>TSLA</th>\n",
       "    </tr>\n",
       "  </thead>\n",
       "  <tbody>\n",
       "    <tr>\n",
       "      <th>AAPL</th>\n",
       "      <td>0.000289</td>\n",
       "      <td>0.000234</td>\n",
       "      <td>0.000219</td>\n",
       "      <td>0.000315</td>\n",
       "    </tr>\n",
       "    <tr>\n",
       "      <th>AMZN</th>\n",
       "      <td>0.000234</td>\n",
       "      <td>0.000556</td>\n",
       "      <td>0.000310</td>\n",
       "      <td>0.000363</td>\n",
       "    </tr>\n",
       "    <tr>\n",
       "      <th>GOOG</th>\n",
       "      <td>0.000219</td>\n",
       "      <td>0.000310</td>\n",
       "      <td>0.000401</td>\n",
       "      <td>0.000274</td>\n",
       "    </tr>\n",
       "    <tr>\n",
       "      <th>TSLA</th>\n",
       "      <td>0.000315</td>\n",
       "      <td>0.000363</td>\n",
       "      <td>0.000274</td>\n",
       "      <td>0.001311</td>\n",
       "    </tr>\n",
       "  </tbody>\n",
       "</table>\n",
       "</div>"
      ],
      "text/plain": [
       "          AAPL      AMZN      GOOG      TSLA\n",
       "AAPL  0.000289  0.000234  0.000219  0.000315\n",
       "AMZN  0.000234  0.000556  0.000310  0.000363\n",
       "GOOG  0.000219  0.000310  0.000401  0.000274\n",
       "TSLA  0.000315  0.000363  0.000274  0.001311"
      ]
     },
     "execution_count": 4,
     "metadata": {},
     "output_type": "execute_result"
    }
   ],
   "source": [
    "# Generate the variance-covariance matrix\n",
    "cov_matrix = return_rates.cov()\n",
    "cov_matrix"
   ]
  },
  {
   "cell_type": "code",
   "execution_count": 5,
   "id": "51c6412a-1156-462f-8332-7a24e943d9f6",
   "metadata": {},
   "outputs": [
    {
     "data": {
      "text/plain": [
       "AAPL    0.000709\n",
       "AMZN    0.000442\n",
       "GOOG    0.000736\n",
       "TSLA    0.000529\n",
       "dtype: float64"
      ]
     },
     "execution_count": 5,
     "metadata": {},
     "output_type": "execute_result"
    }
   ],
   "source": [
    "# Compute the mean of return rates\n",
    "mean_return_rates = return_rates.mean()\n",
    "mean_return_rates"
   ]
  },
  {
   "cell_type": "code",
   "execution_count": 6,
   "id": "263b6098-17dd-4f32-a240-bb805406996d",
   "metadata": {},
   "outputs": [
    {
     "data": {
      "text/plain": [
       "0.0005789251190398037"
      ]
     },
     "execution_count": 6,
     "metadata": {},
     "output_type": "execute_result"
    }
   ],
   "source": [
    "# Compute the mean of portfolio r.r.\n",
    "mean_port = mean_return_rates.dot(weights)\n",
    "mean_port"
   ]
  },
  {
   "cell_type": "code",
   "execution_count": 7,
   "id": "e2b16f24-d595-4738-ae54-206c1b352157",
   "metadata": {},
   "outputs": [
    {
     "data": {
      "text/plain": [
       "0.020297604184683873"
      ]
     },
     "execution_count": 7,
     "metadata": {},
     "output_type": "execute_result"
    }
   ],
   "source": [
    "# Compute the standard deviation of portfolio r.r.\n",
    "std_port = np.sqrt(weights.T.dot(cov_matrix).dot(weights))\n",
    "std_port"
   ]
  },
  {
   "cell_type": "code",
   "execution_count": 8,
   "id": "1368c0ef-c8c6-4aa9-b416-a4a9582141ae",
   "metadata": {},
   "outputs": [
    {
     "data": {
      "text/plain": [
       "-2.3263478740408408"
      ]
     },
     "execution_count": 8,
     "metadata": {},
     "output_type": "execute_result"
    }
   ],
   "source": [
    "# Compute the z-value\n",
    "alpha = 0.99\n",
    "z_value = norm.ppf(1 - alpha)\n",
    "z_value"
   ]
  },
  {
   "cell_type": "code",
   "execution_count": 9,
   "id": "a6c5a614-783c-4266-8bbc-bca29a9bebf3",
   "metadata": {},
   "outputs": [
    {
     "data": {
      "text/plain": [
       "-0.046640363224121996"
      ]
     },
     "execution_count": 9,
     "metadata": {},
     "output_type": "execute_result"
    }
   ],
   "source": [
    "# Compute the (1-alpha)th quantile\n",
    "quantile = mean_port + std_port * z_value\n",
    "quantile"
   ]
  },
  {
   "cell_type": "code",
   "execution_count": 10,
   "id": "2511a9fc-d415-4570-8dd3-cbaac95e71ba",
   "metadata": {},
   "outputs": [
    {
     "data": {
      "text/plain": [
       "-0.046640363224121996"
      ]
     },
     "execution_count": 10,
     "metadata": {},
     "output_type": "execute_result"
    }
   ],
   "source": [
    "# Alternatively, we can compute the quantile directly\n",
    "norm.ppf(1-alpha, mean_port, std_port)"
   ]
  },
  {
   "cell_type": "code",
   "execution_count": 11,
   "id": "c5a495a9-6b17-4798-89bf-30a76166960b",
   "metadata": {},
   "outputs": [
    {
     "name": "stdout",
     "output_type": "stream",
     "text": [
      "The VaR of the portfolio is: 46640.363224122\n"
     ]
    }
   ],
   "source": [
    "# Compute the (absolute) VaR of the portfolio\n",
    "VaR_port = - initial_investment * quantile\n",
    "print('The VaR of the portfolio is:', VaR_port)"
   ]
  },
  {
   "cell_type": "code",
   "execution_count": 12,
   "id": "c6b19384-a97b-4311-ae57-30678edd3437",
   "metadata": {},
   "outputs": [
    {
     "data": {
      "text/plain": [
       "[46640.363224122,\n",
       " 65959.43422556066,\n",
       " 80783.47878764627,\n",
       " 93280.726448244,\n",
       " 104291.02266441805,\n",
       " 114245.09131716858,\n",
       " 123398.8021487495,\n",
       " 131918.86845112132,\n",
       " 139921.08967236598,\n",
       " 147489.77868577983,\n",
       " 154688.5849003033,\n",
       " 161566.95757529253,\n",
       " 168164.2211108368,\n",
       " 174512.25957935574,\n",
       " 180637.35002808936,\n",
       " 186561.452896488,\n",
       " 192303.14399022845,\n",
       " 197878.30267668198,\n",
       " 203300.62998397867,\n",
       " 208582.0453288361,\n",
       " 213732.99491477365,\n",
       " 218762.69471031093,\n",
       " 223679.32420899952,\n",
       " 228490.18263433716,\n",
       " 233201.81612061,\n",
       " 237820.12220085334,\n",
       " 242350.4363629388,\n",
       " 246797.604297499,\n",
       " 251166.04262651212,\n",
       " 255459.79028085995]"
      ]
     },
     "execution_count": 12,
     "metadata": {},
     "output_type": "execute_result"
    }
   ],
   "source": [
    "# Compute the VaR enlarging the time horizon\n",
    "VaR_days = []\n",
    "horizons = range(1, 31)\n",
    "\n",
    "for k in horizons:\n",
    "    VaR_k = np.sqrt(k) * VaR_port\n",
    "    VaR_days.append(VaR_k)\n",
    "    \n",
    "VaR_days"
   ]
  },
  {
   "cell_type": "code",
   "execution_count": 13,
   "id": "0bfef0ba-1c21-4122-9e81-6af69b536289",
   "metadata": {},
   "outputs": [
    {
     "data": {
      "image/png": "[encoded data removed]",
      "text/plain": [
       "<Figure size 640x480 with 1 Axes>"
      ]
     },
     "metadata": {},
     "output_type": "display_data"
    }
   ],
   "source": [
    "# Plot VaR as a function of the horizon\n",
    "import matplotlib.pyplot as plt\n",
    "\n",
    "plt.xlabel('Horizon in days')\n",
    "plt.ylabel('VaR')\n",
    "plt.title('VaR as a function of the horizon')\n",
    "plt.plot(horizons, VaR_days, color='red')\n",
    "# Save an image in png format\n",
    "plt.savefig('VaR.png', dpi=300)"
   ]
  },
  {
   "cell_type": "code",
   "execution_count": 14,
   "id": "c82112a8-b633-4df7-95c8-f4dffcea9de8",
   "metadata": {},
   "outputs": [
    {
     "name": "stdout",
     "output_type": "stream",
     "text": [
      "[*********************100%***********************]  4 of 4 completed\n"
     ]
    },
    {
     "data": {
      "text/html": [
       "<div>\n",
       "<style scoped>\n",
       "    .dataframe tbody tr th:only-of-type {\n",
       "        vertical-align: middle;\n",
       "    }\n",
       "\n",
       "    .dataframe tbody tr th {\n",
       "        vertical-align: top;\n",
       "    }\n",
       "\n",
       "    .dataframe thead th {\n",
       "        text-align: right;\n",
       "    }\n",
       "</style>\n",
       "<table border=\"1\" class=\"dataframe\">\n",
       "  <thead>\n",
       "    <tr style=\"text-align: right;\">\n",
       "      <th></th>\n",
       "      <th>AAPL</th>\n",
       "      <th>AMZN</th>\n",
       "      <th>GOOG</th>\n",
       "      <th>TSLA</th>\n",
       "    </tr>\n",
       "    <tr>\n",
       "      <th>Date</th>\n",
       "      <th></th>\n",
       "      <th></th>\n",
       "      <th></th>\n",
       "      <th></th>\n",
       "    </tr>\n",
       "  </thead>\n",
       "  <tbody>\n",
       "    <tr>\n",
       "      <th>2024-05-01</th>\n",
       "      <td>169.300003</td>\n",
       "      <td>179.000000</td>\n",
       "      <td>165.570007</td>\n",
       "      <td>179.990005</td>\n",
       "    </tr>\n",
       "    <tr>\n",
       "      <th>2024-05-02</th>\n",
       "      <td>173.029999</td>\n",
       "      <td>184.720001</td>\n",
       "      <td>168.460007</td>\n",
       "      <td>180.009995</td>\n",
       "    </tr>\n",
       "    <tr>\n",
       "      <th>2024-05-03</th>\n",
       "      <td>183.380005</td>\n",
       "      <td>186.210007</td>\n",
       "      <td>168.990005</td>\n",
       "      <td>181.190002</td>\n",
       "    </tr>\n",
       "    <tr>\n",
       "      <th>2024-05-06</th>\n",
       "      <td>181.710007</td>\n",
       "      <td>188.699997</td>\n",
       "      <td>169.830002</td>\n",
       "      <td>184.759995</td>\n",
       "    </tr>\n",
       "    <tr>\n",
       "      <th>2024-05-07</th>\n",
       "      <td>182.399994</td>\n",
       "      <td>188.759995</td>\n",
       "      <td>172.979996</td>\n",
       "      <td>177.809998</td>\n",
       "    </tr>\n",
       "  </tbody>\n",
       "</table>\n",
       "</div>"
      ],
      "text/plain": [
       "                  AAPL        AMZN        GOOG        TSLA\n",
       "Date                                                      \n",
       "2024-05-01  169.300003  179.000000  165.570007  179.990005\n",
       "2024-05-02  173.029999  184.720001  168.460007  180.009995\n",
       "2024-05-03  183.380005  186.210007  168.990005  181.190002\n",
       "2024-05-06  181.710007  188.699997  169.830002  184.759995\n",
       "2024-05-07  182.399994  188.759995  172.979996  177.809998"
      ]
     },
     "execution_count": 14,
     "metadata": {},
     "output_type": "execute_result"
    }
   ],
   "source": [
    "# Download in a period\n",
    "tickers = ['AMZN', 'TSLA', 'AAPL', 'GOOG']\n",
    "hist_data = yf.download(tickers,\n",
    "                       start='2024-05-01',\n",
    "                       end='2024-05-08')['Close']\n",
    "hist_data"
   ]
  },
  {
   "cell_type": "code",
   "execution_count": null,
   "id": "78975f0d-98c7-422c-b89c-d08a66991193",
   "metadata": {},
   "outputs": [],
   "source": []
  }
 ],
 "metadata": {
  "kernelspec": {
   "display_name": "Python 3 (ipykernel)",
   "language": "python",
   "name": "python3"
  },
  "language_info": {
   "codemirror_mode": {
    "name": "ipython",
    "version": 3
   },
   "file_extension": ".py",
   "mimetype": "text/x-python",
   "name": "python",
   "nbconvert_exporter": "python",
   "pygments_lexer": "ipython3",
   "version": "3.10.14"
  }
 },
 "nbformat": 4,
 "nbformat_minor": 5
}
