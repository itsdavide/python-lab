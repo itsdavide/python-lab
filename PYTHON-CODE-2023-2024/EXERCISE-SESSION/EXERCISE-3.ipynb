{
 "cells": [
  {
   "cell_type": "code",
   "execution_count": 1,
   "id": "1fc1dbdd-4027-43eb-81fd-107519fd04fd",
   "metadata": {},
   "outputs": [],
   "source": [
    "# Import libraries\n",
    "import numpy as np"
   ]
  },
  {
   "cell_type": "code",
   "execution_count": 2,
   "id": "ea85c936-9b73-4068-aa4a-6c44316dc7e5",
   "metadata": {},
   "outputs": [],
   "source": [
    "# Build the market\n",
    "B1 = np.array([10, 10, 10])\n",
    "S1_1 = np.array([20, 30, 5])\n",
    "S1_2 = np.array([5, 5, 10])"
   ]
  },
  {
   "cell_type": "code",
   "execution_count": 3,
   "id": "657fef69-13d7-4a95-a0b8-490ea4aa5097",
   "metadata": {},
   "outputs": [],
   "source": [
    "M1 = np.array([B1, S1_1, S1_2]).T"
   ]
  },
  {
   "cell_type": "code",
   "execution_count": 4,
   "id": "e2b39081-0ed8-454c-90c4-fa11003c7910",
   "metadata": {},
   "outputs": [
    {
     "data": {
      "text/plain": [
       "array([[10, 20,  5],\n",
       "       [10, 30,  5],\n",
       "       [10,  5, 10]])"
      ]
     },
     "execution_count": 4,
     "metadata": {},
     "output_type": "execute_result"
    }
   ],
   "source": [
    "M1"
   ]
  },
  {
   "cell_type": "code",
   "execution_count": 5,
   "id": "989709b6-9320-4a3e-81b4-a954001a829a",
   "metadata": {},
   "outputs": [],
   "source": [
    "# Verify that the market is complete\n",
    "r = np.linalg.matrix_rank(M1)\n",
    "rows, cols = M1.shape"
   ]
  },
  {
   "cell_type": "code",
   "execution_count": 6,
   "id": "a0d2d897-3c04-44fd-9209-9ae0dfc6c762",
   "metadata": {},
   "outputs": [
    {
     "name": "stdout",
     "output_type": "stream",
     "text": [
      "The market is complete\n",
      "No redundant assets\n"
     ]
    }
   ],
   "source": [
    "if r == rows:\n",
    "    print('The market is complete')\n",
    "else:\n",
    "    print('The market is incomplete')\n",
    "\n",
    "if r == rows and r == cols:\n",
    "    print('No redundant assets')"
   ]
  },
  {
   "cell_type": "code",
   "execution_count": 7,
   "id": "c8bd134b-3764-4d6a-b055-b42a7e8ec88f",
   "metadata": {},
   "outputs": [
    {
     "data": {
      "text/plain": [
       "array([[ 0],\n",
       "       [10],\n",
       "       [ 0]])"
      ]
     },
     "execution_count": 7,
     "metadata": {},
     "output_type": "execute_result"
    }
   ],
   "source": [
    "# Payoff of the call\n",
    "K = 20\n",
    "C1 = np.maximum(S1_1 - K, 0)\n",
    "C1 = C1.reshape(3, 1)\n",
    "C1"
   ]
  },
  {
   "cell_type": "code",
   "execution_count": 8,
   "id": "0ece6a77-dca8-45b8-aba3-f22573e474fa",
   "metadata": {},
   "outputs": [
    {
     "data": {
      "text/plain": [
       "array([[-3.5],\n",
       "       [ 1. ],\n",
       "       [ 3. ]])"
      ]
     },
     "execution_count": 8,
     "metadata": {},
     "output_type": "execute_result"
    }
   ],
   "source": [
    "# Replicating portfolio\n",
    "M1inv = np.linalg.inv(M1)\n",
    "theta = M1inv @ C1\n",
    "theta"
   ]
  },
  {
   "cell_type": "code",
   "execution_count": 9,
   "id": "80459c78-7159-4c99-a1e7-c6aea84b9192",
   "metadata": {},
   "outputs": [
    {
     "data": {
      "text/plain": [
       "array([[-3.5],\n",
       "       [ 1. ],\n",
       "       [ 3. ]])"
      ]
     },
     "execution_count": 9,
     "metadata": {},
     "output_type": "execute_result"
    }
   ],
   "source": [
    "# Best hedge through OLS\n",
    "reg = np.linalg.lstsq(M1, C1, rcond=-1)\n",
    "theta_best = reg[0]\n",
    "theta_best"
   ]
  },
  {
   "cell_type": "code",
   "execution_count": 10,
   "id": "cab76ecd-b79c-4286-bf20-ff392d3d5de7",
   "metadata": {},
   "outputs": [
    {
     "data": {
      "text/plain": [
       "5.181040781584064e-16"
      ]
     },
     "execution_count": 10,
     "metadata": {},
     "output_type": "execute_result"
    }
   ],
   "source": [
    "# MAE\n",
    "MAE = (np.abs(theta - theta_best)).mean()\n",
    "MAE"
   ]
  },
  {
   "cell_type": "code",
   "execution_count": 11,
   "id": "b4c36b1d-3c10-45e2-910a-91e49a3d2531",
   "metadata": {},
   "outputs": [
    {
     "data": {
      "text/plain": [
       "0.0"
      ]
     },
     "execution_count": 11,
     "metadata": {},
     "output_type": "execute_result"
    }
   ],
   "source": [
    "# Round MAE at two decimals\n",
    "np.round(MAE, 2)"
   ]
  },
  {
   "cell_type": "code",
   "execution_count": null,
   "id": "8ac0c027-c10e-4921-a5d4-dcb62a9a48c7",
   "metadata": {},
   "outputs": [],
   "source": []
  }
 ],
 "metadata": {
  "kernelspec": {
   "display_name": "Python 3 (ipykernel)",
   "language": "python",
   "name": "python3"
  },
  "language_info": {
   "codemirror_mode": {
    "name": "ipython",
    "version": 3
   },
   "file_extension": ".py",
   "mimetype": "text/x-python",
   "name": "python",
   "nbconvert_exporter": "python",
   "pygments_lexer": "ipython3",
   "version": "3.10.11"
  }
 },
 "nbformat": 4,
 "nbformat_minor": 5
}
