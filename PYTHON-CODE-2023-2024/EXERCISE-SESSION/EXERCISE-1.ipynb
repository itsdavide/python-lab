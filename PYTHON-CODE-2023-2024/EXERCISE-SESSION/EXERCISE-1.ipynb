{
 "cells": [
  {
   "cell_type": "code",
   "execution_count": 1,
   "id": "54d56a1c-ef58-40fe-ad40-3c7aedf403e0",
   "metadata": {},
   "outputs": [],
   "source": [
    "# Import libraries\n",
    "import numpy as np\n",
    "import pandas as pd\n",
    "import yfinance as yf"
   ]
  },
  {
   "cell_type": "code",
   "execution_count": 2,
   "id": "44c24836-900a-47c3-9d6d-2d95792c92e3",
   "metadata": {},
   "outputs": [
    {
     "name": "stdout",
     "output_type": "stream",
     "text": [
      "[*********************100%***********************]  3 of 3 completed\n"
     ]
    }
   ],
   "source": [
    "# Download the closing prices\n",
    "tickers = ['GOOG', 'AMZN', 'TSLA']\n",
    "stocks = yf.Tickers(tickers)\n",
    "hist_data = stocks.history(period='1y')['Close']"
   ]
  },
  {
   "cell_type": "code",
   "execution_count": 3,
   "id": "b6997b5c-c795-401c-92ab-703096215960",
   "metadata": {},
   "outputs": [
    {
     "data": {
      "text/html": [
       "<div>\n",
       "<style scoped>\n",
       "    .dataframe tbody tr th:only-of-type {\n",
       "        vertical-align: middle;\n",
       "    }\n",
       "\n",
       "    .dataframe tbody tr th {\n",
       "        vertical-align: top;\n",
       "    }\n",
       "\n",
       "    .dataframe thead th {\n",
       "        text-align: right;\n",
       "    }\n",
       "</style>\n",
       "<table border=\"1\" class=\"dataframe\">\n",
       "  <thead>\n",
       "    <tr style=\"text-align: right;\">\n",
       "      <th></th>\n",
       "      <th>AMZN</th>\n",
       "      <th>GOOG</th>\n",
       "      <th>TSLA</th>\n",
       "    </tr>\n",
       "    <tr>\n",
       "      <th>Date</th>\n",
       "      <th></th>\n",
       "      <th></th>\n",
       "      <th></th>\n",
       "    </tr>\n",
       "  </thead>\n",
       "  <tbody>\n",
       "    <tr>\n",
       "      <th>2023-05-22</th>\n",
       "      <td>115.010002</td>\n",
       "      <td>125.870003</td>\n",
       "      <td>188.869995</td>\n",
       "    </tr>\n",
       "    <tr>\n",
       "      <th>2023-05-23</th>\n",
       "      <td>114.989998</td>\n",
       "      <td>123.290001</td>\n",
       "      <td>185.770004</td>\n",
       "    </tr>\n",
       "    <tr>\n",
       "      <th>2023-05-24</th>\n",
       "      <td>116.750000</td>\n",
       "      <td>121.639999</td>\n",
       "      <td>182.899994</td>\n",
       "    </tr>\n",
       "    <tr>\n",
       "      <th>2023-05-25</th>\n",
       "      <td>115.000000</td>\n",
       "      <td>124.349998</td>\n",
       "      <td>184.470001</td>\n",
       "    </tr>\n",
       "    <tr>\n",
       "      <th>2023-05-26</th>\n",
       "      <td>120.110001</td>\n",
       "      <td>125.430000</td>\n",
       "      <td>193.169998</td>\n",
       "    </tr>\n",
       "    <tr>\n",
       "      <th>...</th>\n",
       "      <td>...</td>\n",
       "      <td>...</td>\n",
       "      <td>...</td>\n",
       "    </tr>\n",
       "    <tr>\n",
       "      <th>2024-05-16</th>\n",
       "      <td>183.630005</td>\n",
       "      <td>175.429993</td>\n",
       "      <td>174.839996</td>\n",
       "    </tr>\n",
       "    <tr>\n",
       "      <th>2024-05-17</th>\n",
       "      <td>184.699997</td>\n",
       "      <td>177.289993</td>\n",
       "      <td>177.460007</td>\n",
       "    </tr>\n",
       "    <tr>\n",
       "      <th>2024-05-20</th>\n",
       "      <td>183.539993</td>\n",
       "      <td>178.460007</td>\n",
       "      <td>174.949997</td>\n",
       "    </tr>\n",
       "    <tr>\n",
       "      <th>2024-05-21</th>\n",
       "      <td>183.149994</td>\n",
       "      <td>179.539993</td>\n",
       "      <td>186.600006</td>\n",
       "    </tr>\n",
       "    <tr>\n",
       "      <th>2024-05-22</th>\n",
       "      <td>183.860001</td>\n",
       "      <td>177.240005</td>\n",
       "      <td>180.779999</td>\n",
       "    </tr>\n",
       "  </tbody>\n",
       "</table>\n",
       "<p>253 rows × 3 columns</p>\n",
       "</div>"
      ],
      "text/plain": [
       "                  AMZN        GOOG        TSLA\n",
       "Date                                          \n",
       "2023-05-22  115.010002  125.870003  188.869995\n",
       "2023-05-23  114.989998  123.290001  185.770004\n",
       "2023-05-24  116.750000  121.639999  182.899994\n",
       "2023-05-25  115.000000  124.349998  184.470001\n",
       "2023-05-26  120.110001  125.430000  193.169998\n",
       "...                ...         ...         ...\n",
       "2024-05-16  183.630005  175.429993  174.839996\n",
       "2024-05-17  184.699997  177.289993  177.460007\n",
       "2024-05-20  183.539993  178.460007  174.949997\n",
       "2024-05-21  183.149994  179.539993  186.600006\n",
       "2024-05-22  183.860001  177.240005  180.779999\n",
       "\n",
       "[253 rows x 3 columns]"
      ]
     },
     "execution_count": 3,
     "metadata": {},
     "output_type": "execute_result"
    }
   ],
   "source": [
    "hist_data"
   ]
  },
  {
   "cell_type": "code",
   "execution_count": 4,
   "id": "ebda9577-2955-470f-873f-311be0a49414",
   "metadata": {},
   "outputs": [],
   "source": [
    "# Set the portfolio weights (summing up to 1)\n",
    "weights = np.array([0.2, 0.3, 0.5])"
   ]
  },
  {
   "cell_type": "code",
   "execution_count": 5,
   "id": "a1c3ef8f-3562-4adf-8a7a-64173129a690",
   "metadata": {},
   "outputs": [],
   "source": [
    "# Set the initial investment\n",
    "initial_investment = 100000"
   ]
  },
  {
   "cell_type": "code",
   "execution_count": 6,
   "id": "db0b5553-69ea-4de3-bf2a-5a3c23a86e38",
   "metadata": {},
   "outputs": [
    {
     "data": {
      "text/html": [
       "<div>\n",
       "<style scoped>\n",
       "    .dataframe tbody tr th:only-of-type {\n",
       "        vertical-align: middle;\n",
       "    }\n",
       "\n",
       "    .dataframe tbody tr th {\n",
       "        vertical-align: top;\n",
       "    }\n",
       "\n",
       "    .dataframe thead th {\n",
       "        text-align: right;\n",
       "    }\n",
       "</style>\n",
       "<table border=\"1\" class=\"dataframe\">\n",
       "  <thead>\n",
       "    <tr style=\"text-align: right;\">\n",
       "      <th></th>\n",
       "      <th>AMZN</th>\n",
       "      <th>GOOG</th>\n",
       "      <th>TSLA</th>\n",
       "    </tr>\n",
       "    <tr>\n",
       "      <th>Date</th>\n",
       "      <th></th>\n",
       "      <th></th>\n",
       "      <th></th>\n",
       "    </tr>\n",
       "  </thead>\n",
       "  <tbody>\n",
       "    <tr>\n",
       "      <th>2023-05-23</th>\n",
       "      <td>-0.000174</td>\n",
       "      <td>-0.020497</td>\n",
       "      <td>-0.016413</td>\n",
       "    </tr>\n",
       "    <tr>\n",
       "      <th>2023-05-24</th>\n",
       "      <td>0.015306</td>\n",
       "      <td>-0.013383</td>\n",
       "      <td>-0.015449</td>\n",
       "    </tr>\n",
       "    <tr>\n",
       "      <th>2023-05-25</th>\n",
       "      <td>-0.014989</td>\n",
       "      <td>0.022279</td>\n",
       "      <td>0.008584</td>\n",
       "    </tr>\n",
       "    <tr>\n",
       "      <th>2023-05-26</th>\n",
       "      <td>0.044435</td>\n",
       "      <td>0.008685</td>\n",
       "      <td>0.047162</td>\n",
       "    </tr>\n",
       "    <tr>\n",
       "      <th>2023-05-30</th>\n",
       "      <td>0.012905</td>\n",
       "      <td>-0.006298</td>\n",
       "      <td>0.041363</td>\n",
       "    </tr>\n",
       "    <tr>\n",
       "      <th>...</th>\n",
       "      <td>...</td>\n",
       "      <td>...</td>\n",
       "      <td>...</td>\n",
       "    </tr>\n",
       "    <tr>\n",
       "      <th>2024-05-16</th>\n",
       "      <td>-0.012689</td>\n",
       "      <td>0.008914</td>\n",
       "      <td>0.004885</td>\n",
       "    </tr>\n",
       "    <tr>\n",
       "      <th>2024-05-17</th>\n",
       "      <td>0.005827</td>\n",
       "      <td>0.010603</td>\n",
       "      <td>0.014985</td>\n",
       "    </tr>\n",
       "    <tr>\n",
       "      <th>2024-05-20</th>\n",
       "      <td>-0.006280</td>\n",
       "      <td>0.006599</td>\n",
       "      <td>-0.014144</td>\n",
       "    </tr>\n",
       "    <tr>\n",
       "      <th>2024-05-21</th>\n",
       "      <td>-0.002125</td>\n",
       "      <td>0.006052</td>\n",
       "      <td>0.066591</td>\n",
       "    </tr>\n",
       "    <tr>\n",
       "      <th>2024-05-22</th>\n",
       "      <td>0.003877</td>\n",
       "      <td>-0.012810</td>\n",
       "      <td>-0.031190</td>\n",
       "    </tr>\n",
       "  </tbody>\n",
       "</table>\n",
       "<p>252 rows × 3 columns</p>\n",
       "</div>"
      ],
      "text/plain": [
       "                AMZN      GOOG      TSLA\n",
       "Date                                    \n",
       "2023-05-23 -0.000174 -0.020497 -0.016413\n",
       "2023-05-24  0.015306 -0.013383 -0.015449\n",
       "2023-05-25 -0.014989  0.022279  0.008584\n",
       "2023-05-26  0.044435  0.008685  0.047162\n",
       "2023-05-30  0.012905 -0.006298  0.041363\n",
       "...              ...       ...       ...\n",
       "2024-05-16 -0.012689  0.008914  0.004885\n",
       "2024-05-17  0.005827  0.010603  0.014985\n",
       "2024-05-20 -0.006280  0.006599 -0.014144\n",
       "2024-05-21 -0.002125  0.006052  0.066591\n",
       "2024-05-22  0.003877 -0.012810 -0.031190\n",
       "\n",
       "[252 rows x 3 columns]"
      ]
     },
     "execution_count": 6,
     "metadata": {},
     "output_type": "execute_result"
    }
   ],
   "source": [
    "# Compute the daily return rates\n",
    "return_rates = hist_data.pct_change()\n",
    "return_rates = return_rates.dropna()\n",
    "return_rates"
   ]
  },
  {
   "cell_type": "code",
   "execution_count": 7,
   "id": "ee632b24-fc57-4055-834a-2162cdea480d",
   "metadata": {},
   "outputs": [
    {
     "data": {
      "text/plain": [
       "AMZN    0.002022\n",
       "GOOG    0.001515\n",
       "TSLA    0.000343\n",
       "dtype: float64"
      ]
     },
     "execution_count": 7,
     "metadata": {},
     "output_type": "execute_result"
    }
   ],
   "source": [
    "# Compute the mean of return rates\n",
    "mean_return_rates = return_rates.mean()\n",
    "mean_return_rates"
   ]
  },
  {
   "cell_type": "code",
   "execution_count": 8,
   "id": "66da2655-bd44-47bc-b948-dfd7ce49824c",
   "metadata": {},
   "outputs": [
    {
     "data": {
      "text/html": [
       "<div>\n",
       "<style scoped>\n",
       "    .dataframe tbody tr th:only-of-type {\n",
       "        vertical-align: middle;\n",
       "    }\n",
       "\n",
       "    .dataframe tbody tr th {\n",
       "        vertical-align: top;\n",
       "    }\n",
       "\n",
       "    .dataframe thead th {\n",
       "        text-align: right;\n",
       "    }\n",
       "</style>\n",
       "<table border=\"1\" class=\"dataframe\">\n",
       "  <thead>\n",
       "    <tr style=\"text-align: right;\">\n",
       "      <th></th>\n",
       "      <th>AMZN</th>\n",
       "      <th>GOOG</th>\n",
       "      <th>TSLA</th>\n",
       "    </tr>\n",
       "  </thead>\n",
       "  <tbody>\n",
       "    <tr>\n",
       "      <th>AMZN</th>\n",
       "      <td>0.000321</td>\n",
       "      <td>0.000169</td>\n",
       "      <td>0.000145</td>\n",
       "    </tr>\n",
       "    <tr>\n",
       "      <th>GOOG</th>\n",
       "      <td>0.000169</td>\n",
       "      <td>0.000313</td>\n",
       "      <td>0.000102</td>\n",
       "    </tr>\n",
       "    <tr>\n",
       "      <th>TSLA</th>\n",
       "      <td>0.000145</td>\n",
       "      <td>0.000102</td>\n",
       "      <td>0.001046</td>\n",
       "    </tr>\n",
       "  </tbody>\n",
       "</table>\n",
       "</div>"
      ],
      "text/plain": [
       "          AMZN      GOOG      TSLA\n",
       "AMZN  0.000321  0.000169  0.000145\n",
       "GOOG  0.000169  0.000313  0.000102\n",
       "TSLA  0.000145  0.000102  0.001046"
      ]
     },
     "execution_count": 8,
     "metadata": {},
     "output_type": "execute_result"
    }
   ],
   "source": [
    "# Generate the variance-covariance matrix\n",
    "cov_matrix = return_rates.cov()\n",
    "cov_matrix"
   ]
  },
  {
   "cell_type": "code",
   "execution_count": 9,
   "id": "cacbefa2-45ee-4e77-8f49-fdc0a17a48ce",
   "metadata": {},
   "outputs": [
    {
     "data": {
      "text/plain": [
       "0.0010305902764093135"
      ]
     },
     "execution_count": 9,
     "metadata": {},
     "output_type": "execute_result"
    }
   ],
   "source": [
    "# Compute the mean of portfolio r.r.\n",
    "mean_port = mean_return_rates.dot(weights)\n",
    "mean_port"
   ]
  },
  {
   "cell_type": "code",
   "execution_count": 10,
   "id": "684cf616-0581-429f-81e5-415806cd4778",
   "metadata": {},
   "outputs": [
    {
     "data": {
      "text/plain": [
       "0.0195465938519163"
      ]
     },
     "execution_count": 10,
     "metadata": {},
     "output_type": "execute_result"
    }
   ],
   "source": [
    "# Compute the standard deviation of portfolio r.r.\n",
    "std_port = np.sqrt(weights.T.dot(cov_matrix).dot(weights))\n",
    "std_port"
   ]
  },
  {
   "cell_type": "code",
   "execution_count": 11,
   "id": "cff23cb3-c1ad-426d-81f7-ee19971cdd24",
   "metadata": {},
   "outputs": [
    {
     "data": {
      "text/plain": [
       "-1.6448536269514722"
      ]
     },
     "execution_count": 11,
     "metadata": {},
     "output_type": "execute_result"
    }
   ],
   "source": [
    "# Compute the z-value\n",
    "from scipy.stats import norm\n",
    "alpha = 0.95\n",
    "z_value = norm.ppf(1 - alpha)\n",
    "z_value"
   ]
  },
  {
   "cell_type": "code",
   "execution_count": 12,
   "id": "1e4d0268-d019-4c67-8213-ba4d7df8ec93",
   "metadata": {},
   "outputs": [
    {
     "data": {
      "text/plain": [
       "-0.031120695515462555"
      ]
     },
     "execution_count": 12,
     "metadata": {},
     "output_type": "execute_result"
    }
   ],
   "source": [
    "# Compute the (1 - alpha)th quantile\n",
    "quantile = mean_port + std_port * z_value\n",
    "quantile"
   ]
  },
  {
   "cell_type": "code",
   "execution_count": 13,
   "id": "96fc5796-5590-426e-81a7-ccdfd6d018fd",
   "metadata": {},
   "outputs": [
    {
     "data": {
      "text/plain": [
       "3112.0695515462553"
      ]
     },
     "execution_count": 13,
     "metadata": {},
     "output_type": "execute_result"
    }
   ],
   "source": [
    "# Compute the daily VaR of the portfolio\n",
    "VaR_port = - initial_investment * quantile\n",
    "VaR_port"
   ]
  },
  {
   "cell_type": "code",
   "execution_count": 14,
   "id": "75a73c97-e3a0-45ae-8b7b-f51ff9d33d89",
   "metadata": {},
   "outputs": [],
   "source": [
    "# Define a function to compute the value with a k-day horizon\n",
    "def VaR_days(k, VaR_port):\n",
    "    return np.sqrt(k) * VaR_port"
   ]
  },
  {
   "cell_type": "code",
   "execution_count": 15,
   "id": "eab3ebc3-5f2b-4ef7-87c1-7025876c9379",
   "metadata": {},
   "outputs": [
    {
     "data": {
      "text/plain": [
       "4401.13096684507"
      ]
     },
     "execution_count": 15,
     "metadata": {},
     "output_type": "execute_result"
    }
   ],
   "source": [
    "# Call the function to compute the VaR on a 2-day horizon\n",
    "VaR_days(2, VaR_port)"
   ]
  },
  {
   "cell_type": "code",
   "execution_count": 16,
   "id": "dd3f362a-c0e4-47b1-a484-f06fdcbd025c",
   "metadata": {},
   "outputs": [],
   "source": [
    "# Extract a subset of columns of the DataFrame\n",
    "garr = return_rates[['GOOG', 'AMZN']]"
   ]
  },
  {
   "cell_type": "code",
   "execution_count": 17,
   "id": "5a4ab3e5-dd5a-4832-a2d5-aea0fe7ac65e",
   "metadata": {},
   "outputs": [
    {
     "data": {
      "text/html": [
       "<div>\n",
       "<style scoped>\n",
       "    .dataframe tbody tr th:only-of-type {\n",
       "        vertical-align: middle;\n",
       "    }\n",
       "\n",
       "    .dataframe tbody tr th {\n",
       "        vertical-align: top;\n",
       "    }\n",
       "\n",
       "    .dataframe thead th {\n",
       "        text-align: right;\n",
       "    }\n",
       "</style>\n",
       "<table border=\"1\" class=\"dataframe\">\n",
       "  <thead>\n",
       "    <tr style=\"text-align: right;\">\n",
       "      <th></th>\n",
       "      <th>GOOG</th>\n",
       "      <th>AMZN</th>\n",
       "    </tr>\n",
       "    <tr>\n",
       "      <th>Date</th>\n",
       "      <th></th>\n",
       "      <th></th>\n",
       "    </tr>\n",
       "  </thead>\n",
       "  <tbody>\n",
       "    <tr>\n",
       "      <th>2023-05-23</th>\n",
       "      <td>-0.020497</td>\n",
       "      <td>-0.000174</td>\n",
       "    </tr>\n",
       "    <tr>\n",
       "      <th>2023-05-24</th>\n",
       "      <td>-0.013383</td>\n",
       "      <td>0.015306</td>\n",
       "    </tr>\n",
       "    <tr>\n",
       "      <th>2023-05-25</th>\n",
       "      <td>0.022279</td>\n",
       "      <td>-0.014989</td>\n",
       "    </tr>\n",
       "    <tr>\n",
       "      <th>2023-05-26</th>\n",
       "      <td>0.008685</td>\n",
       "      <td>0.044435</td>\n",
       "    </tr>\n",
       "    <tr>\n",
       "      <th>2023-05-30</th>\n",
       "      <td>-0.006298</td>\n",
       "      <td>0.012905</td>\n",
       "    </tr>\n",
       "    <tr>\n",
       "      <th>...</th>\n",
       "      <td>...</td>\n",
       "      <td>...</td>\n",
       "    </tr>\n",
       "    <tr>\n",
       "      <th>2024-05-16</th>\n",
       "      <td>0.008914</td>\n",
       "      <td>-0.012689</td>\n",
       "    </tr>\n",
       "    <tr>\n",
       "      <th>2024-05-17</th>\n",
       "      <td>0.010603</td>\n",
       "      <td>0.005827</td>\n",
       "    </tr>\n",
       "    <tr>\n",
       "      <th>2024-05-20</th>\n",
       "      <td>0.006599</td>\n",
       "      <td>-0.006280</td>\n",
       "    </tr>\n",
       "    <tr>\n",
       "      <th>2024-05-21</th>\n",
       "      <td>0.006052</td>\n",
       "      <td>-0.002125</td>\n",
       "    </tr>\n",
       "    <tr>\n",
       "      <th>2024-05-22</th>\n",
       "      <td>-0.012810</td>\n",
       "      <td>0.003877</td>\n",
       "    </tr>\n",
       "  </tbody>\n",
       "</table>\n",
       "<p>252 rows × 2 columns</p>\n",
       "</div>"
      ],
      "text/plain": [
       "                GOOG      AMZN\n",
       "Date                          \n",
       "2023-05-23 -0.020497 -0.000174\n",
       "2023-05-24 -0.013383  0.015306\n",
       "2023-05-25  0.022279 -0.014989\n",
       "2023-05-26  0.008685  0.044435\n",
       "2023-05-30 -0.006298  0.012905\n",
       "...              ...       ...\n",
       "2024-05-16  0.008914 -0.012689\n",
       "2024-05-17  0.010603  0.005827\n",
       "2024-05-20  0.006599 -0.006280\n",
       "2024-05-21  0.006052 -0.002125\n",
       "2024-05-22 -0.012810  0.003877\n",
       "\n",
       "[252 rows x 2 columns]"
      ]
     },
     "execution_count": 17,
     "metadata": {},
     "output_type": "execute_result"
    }
   ],
   "source": [
    "garr"
   ]
  },
  {
   "cell_type": "code",
   "execution_count": 18,
   "id": "570d7e44-e2d6-4f74-ae2b-6c6b68cefc7d",
   "metadata": {},
   "outputs": [],
   "source": [
    "# Save the extracted DataFrame not saving the index as a new column\n",
    "garr.to_csv('GARR.csv', index=False)"
   ]
  },
  {
   "cell_type": "code",
   "execution_count": null,
   "id": "83d61531-304a-41a1-b1ba-c654be962f1d",
   "metadata": {},
   "outputs": [],
   "source": []
  }
 ],
 "metadata": {
  "kernelspec": {
   "display_name": "Python 3 (ipykernel)",
   "language": "python",
   "name": "python3"
  },
  "language_info": {
   "codemirror_mode": {
    "name": "ipython",
    "version": 3
   },
   "file_extension": ".py",
   "mimetype": "text/x-python",
   "name": "python",
   "nbconvert_exporter": "python",
   "pygments_lexer": "ipython3",
   "version": "3.10.11"
  }
 },
 "nbformat": 4,
 "nbformat_minor": 5
}
