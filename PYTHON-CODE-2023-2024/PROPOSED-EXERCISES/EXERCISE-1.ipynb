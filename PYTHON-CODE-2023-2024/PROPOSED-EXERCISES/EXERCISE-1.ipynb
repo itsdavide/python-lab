{
 "cells": [
  {
   "cell_type": "code",
   "execution_count": 1,
   "id": "dfea2524-a4a3-45b4-a4b6-f9dc83626517",
   "metadata": {},
   "outputs": [],
   "source": [
    "# Import libraries\n",
    "import numpy as np\n",
    "from scipy.stats import norm"
   ]
  },
  {
   "cell_type": "code",
   "execution_count": 2,
   "id": "e0ae8e63-f1d0-4a70-a8b8-adeac6982daf",
   "metadata": {},
   "outputs": [],
   "source": [
    "# Point 1.\n",
    "# Function from UniStudium\n",
    "def call_BS(S0, K, T, r, sigma):\n",
    "    d1 = (np.log(S0 / K) + (r + sigma**2 / 2)*T) / (sigma * np.sqrt(T))\n",
    "    d2 = d1 - sigma * np.sqrt(T)\n",
    "    return S0 * norm.cdf(d1) - K * np.exp(-r * T) * norm.cdf(d2)"
   ]
  },
  {
   "cell_type": "code",
   "execution_count": 3,
   "id": "90ac286c-327b-4fdb-8339-4c0b5c3a55ff",
   "metadata": {},
   "outputs": [],
   "source": [
    "# Function to compute the implied volatility\n",
    "def iv_call_BS(S0, K, T, r, C0):\n",
    "    high = 20\n",
    "    low = 0\n",
    "    while high - low > 0.00001:\n",
    "        if call_BS(S0, K, T, r, (high + low) / 2) > C0:\n",
    "            high = (high + low) / 2\n",
    "        else:\n",
    "            low = (high + low) / 2\n",
    "    return (high + low) / 2"
   ]
  },
  {
   "cell_type": "code",
   "execution_count": 4,
   "id": "672c2481-0915-44b1-8eae-7871ca8dcae2",
   "metadata": {},
   "outputs": [
    {
     "data": {
      "text/plain": [
       "0.1491689682006836"
      ]
     },
     "execution_count": 4,
     "metadata": {},
     "output_type": "execute_result"
    }
   ],
   "source": [
    "# Point 2.\n",
    "S0 = 100\n",
    "K = 101\n",
    "T = 1\n",
    "r = 0.05\n",
    "C0 = 8\n",
    "\n",
    "# Compute the implied volatility\n",
    "sigma = iv_call_BS(S0, K, T, r, C0)\n",
    "sigma"
   ]
  },
  {
   "cell_type": "code",
   "execution_count": 5,
   "id": "09d1110a-b83a-4c85-9e9a-cad20b37f4e7",
   "metadata": {},
   "outputs": [
    {
     "data": {
      "text/plain": [
       "8.000084283976442"
      ]
     },
     "execution_count": 5,
     "metadata": {},
     "output_type": "execute_result"
    }
   ],
   "source": [
    "# Point 3.\n",
    "# Compute the Black-Scholes price with the compute implied volatility\n",
    "C0_BS = call_BS(S0, K, T, r, sigma)\n",
    "C0_BS"
   ]
  },
  {
   "cell_type": "code",
   "execution_count": null,
   "id": "e20942f5-6ff4-4b46-950c-c4ce849fd92c",
   "metadata": {},
   "outputs": [],
   "source": []
  }
 ],
 "metadata": {
  "kernelspec": {
   "display_name": "Python 3 (ipykernel)",
   "language": "python",
   "name": "python3"
  },
  "language_info": {
   "codemirror_mode": {
    "name": "ipython",
    "version": 3
   },
   "file_extension": ".py",
   "mimetype": "text/x-python",
   "name": "python",
   "nbconvert_exporter": "python",
   "pygments_lexer": "ipython3",
   "version": "3.10.14"
  }
 },
 "nbformat": 4,
 "nbformat_minor": 5
}
