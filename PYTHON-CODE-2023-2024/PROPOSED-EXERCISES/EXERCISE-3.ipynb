{
 "cells": [
  {
   "cell_type": "code",
   "execution_count": 1,
   "id": "03470311-c734-4313-b6ca-5c8d9e819de0",
   "metadata": {},
   "outputs": [],
   "source": [
    "# Import libraries\n",
    "import numpy as np\n",
    "import pandas as pd\n",
    "from scipy.stats import norm\n",
    "import yfinance as yf"
   ]
  },
  {
   "cell_type": "code",
   "execution_count": 2,
   "id": "0befe984-82f9-4e58-8ea4-12972a688c9f",
   "metadata": {},
   "outputs": [
    {
     "name": "stderr",
     "output_type": "stream",
     "text": [
      "[*********************100%%**********************]  2 of 2 completed\n"
     ]
    },
    {
     "data": {
      "text/html": [
       "<div>\n",
       "<style scoped>\n",
       "    .dataframe tbody tr th:only-of-type {\n",
       "        vertical-align: middle;\n",
       "    }\n",
       "\n",
       "    .dataframe tbody tr th {\n",
       "        vertical-align: top;\n",
       "    }\n",
       "\n",
       "    .dataframe thead th {\n",
       "        text-align: right;\n",
       "    }\n",
       "</style>\n",
       "<table border=\"1\" class=\"dataframe\">\n",
       "  <thead>\n",
       "    <tr style=\"text-align: right;\">\n",
       "      <th>Ticker</th>\n",
       "      <th>BTC-USD</th>\n",
       "      <th>ETH-USD</th>\n",
       "    </tr>\n",
       "    <tr>\n",
       "      <th>Date</th>\n",
       "      <th></th>\n",
       "      <th></th>\n",
       "    </tr>\n",
       "  </thead>\n",
       "  <tbody>\n",
       "    <tr>\n",
       "      <th>2023-05-27</th>\n",
       "      <td>26868.353516</td>\n",
       "      <td>1831.118286</td>\n",
       "    </tr>\n",
       "    <tr>\n",
       "      <th>2023-05-28</th>\n",
       "      <td>28085.646484</td>\n",
       "      <td>1910.914185</td>\n",
       "    </tr>\n",
       "    <tr>\n",
       "      <th>2023-05-29</th>\n",
       "      <td>27745.884766</td>\n",
       "      <td>1893.078125</td>\n",
       "    </tr>\n",
       "    <tr>\n",
       "      <th>2023-05-30</th>\n",
       "      <td>27702.349609</td>\n",
       "      <td>1901.026611</td>\n",
       "    </tr>\n",
       "    <tr>\n",
       "      <th>2023-05-31</th>\n",
       "      <td>27219.658203</td>\n",
       "      <td>1874.130493</td>\n",
       "    </tr>\n",
       "    <tr>\n",
       "      <th>...</th>\n",
       "      <td>...</td>\n",
       "      <td>...</td>\n",
       "    </tr>\n",
       "    <tr>\n",
       "      <th>2024-05-23</th>\n",
       "      <td>67929.562500</td>\n",
       "      <td>3776.927246</td>\n",
       "    </tr>\n",
       "    <tr>\n",
       "      <th>2024-05-24</th>\n",
       "      <td>68526.101562</td>\n",
       "      <td>3726.934570</td>\n",
       "    </tr>\n",
       "    <tr>\n",
       "      <th>2024-05-25</th>\n",
       "      <td>69265.945312</td>\n",
       "      <td>3749.236572</td>\n",
       "    </tr>\n",
       "    <tr>\n",
       "      <th>2024-05-26</th>\n",
       "      <td>68518.093750</td>\n",
       "      <td>3825.897461</td>\n",
       "    </tr>\n",
       "    <tr>\n",
       "      <th>2024-05-27</th>\n",
       "      <td>70346.421875</td>\n",
       "      <td>3954.444092</td>\n",
       "    </tr>\n",
       "  </tbody>\n",
       "</table>\n",
       "<p>367 rows × 2 columns</p>\n",
       "</div>"
      ],
      "text/plain": [
       "Ticker           BTC-USD      ETH-USD\n",
       "Date                                 \n",
       "2023-05-27  26868.353516  1831.118286\n",
       "2023-05-28  28085.646484  1910.914185\n",
       "2023-05-29  27745.884766  1893.078125\n",
       "2023-05-30  27702.349609  1901.026611\n",
       "2023-05-31  27219.658203  1874.130493\n",
       "...                  ...          ...\n",
       "2024-05-23  67929.562500  3776.927246\n",
       "2024-05-24  68526.101562  3726.934570\n",
       "2024-05-25  69265.945312  3749.236572\n",
       "2024-05-26  68518.093750  3825.897461\n",
       "2024-05-27  70346.421875  3954.444092\n",
       "\n",
       "[367 rows x 2 columns]"
      ]
     },
     "execution_count": 2,
     "metadata": {},
     "output_type": "execute_result"
    }
   ],
   "source": [
    "# Point 1.\n",
    "# Download the joint DataFrame\n",
    "tickers = ['BTC-USD', 'ETH-USD']\n",
    "stocks = yf.Tickers(tickers)\n",
    "hist_data = stocks.history(period='1y')['Close']\n",
    "hist_data"
   ]
  },
  {
   "cell_type": "code",
   "execution_count": 3,
   "id": "aaa7875a-d707-4d6a-81ca-1e616d9e12b7",
   "metadata": {},
   "outputs": [],
   "source": [
    "# Point 2.\n",
    "# Portfolio\n",
    "weights = np.array([0.4, 0.6])\n",
    "initial_investment = 50000"
   ]
  },
  {
   "cell_type": "code",
   "execution_count": 4,
   "id": "1629c935-3947-4de1-bd63-6a225757d147",
   "metadata": {},
   "outputs": [],
   "source": [
    "# Point 3.\n",
    "# Compute the return rates\n",
    "return_rates = hist_data.pct_change()"
   ]
  },
  {
   "cell_type": "code",
   "execution_count": 5,
   "id": "7e657ab6-68d2-4568-907e-db0c3d8db8cf",
   "metadata": {},
   "outputs": [
    {
     "data": {
      "text/html": [
       "<div>\n",
       "<style scoped>\n",
       "    .dataframe tbody tr th:only-of-type {\n",
       "        vertical-align: middle;\n",
       "    }\n",
       "\n",
       "    .dataframe tbody tr th {\n",
       "        vertical-align: top;\n",
       "    }\n",
       "\n",
       "    .dataframe thead th {\n",
       "        text-align: right;\n",
       "    }\n",
       "</style>\n",
       "<table border=\"1\" class=\"dataframe\">\n",
       "  <thead>\n",
       "    <tr style=\"text-align: right;\">\n",
       "      <th>Ticker</th>\n",
       "      <th>BTC-USD</th>\n",
       "      <th>ETH-USD</th>\n",
       "    </tr>\n",
       "    <tr>\n",
       "      <th>Date</th>\n",
       "      <th></th>\n",
       "      <th></th>\n",
       "    </tr>\n",
       "  </thead>\n",
       "  <tbody>\n",
       "    <tr>\n",
       "      <th>2023-05-27</th>\n",
       "      <td>NaN</td>\n",
       "      <td>NaN</td>\n",
       "    </tr>\n",
       "    <tr>\n",
       "      <th>2023-05-28</th>\n",
       "      <td>0.045306</td>\n",
       "      <td>0.043578</td>\n",
       "    </tr>\n",
       "    <tr>\n",
       "      <th>2023-05-29</th>\n",
       "      <td>-0.012097</td>\n",
       "      <td>-0.009334</td>\n",
       "    </tr>\n",
       "    <tr>\n",
       "      <th>2023-05-30</th>\n",
       "      <td>-0.001569</td>\n",
       "      <td>0.004199</td>\n",
       "    </tr>\n",
       "    <tr>\n",
       "      <th>2023-05-31</th>\n",
       "      <td>-0.017424</td>\n",
       "      <td>-0.014148</td>\n",
       "    </tr>\n",
       "    <tr>\n",
       "      <th>...</th>\n",
       "      <td>...</td>\n",
       "      <td>...</td>\n",
       "    </tr>\n",
       "    <tr>\n",
       "      <th>2024-05-23</th>\n",
       "      <td>-0.017256</td>\n",
       "      <td>0.010625</td>\n",
       "    </tr>\n",
       "    <tr>\n",
       "      <th>2024-05-24</th>\n",
       "      <td>0.008782</td>\n",
       "      <td>-0.013236</td>\n",
       "    </tr>\n",
       "    <tr>\n",
       "      <th>2024-05-25</th>\n",
       "      <td>0.010797</td>\n",
       "      <td>0.005984</td>\n",
       "    </tr>\n",
       "    <tr>\n",
       "      <th>2024-05-26</th>\n",
       "      <td>-0.010797</td>\n",
       "      <td>0.020447</td>\n",
       "    </tr>\n",
       "    <tr>\n",
       "      <th>2024-05-27</th>\n",
       "      <td>0.026684</td>\n",
       "      <td>0.033599</td>\n",
       "    </tr>\n",
       "  </tbody>\n",
       "</table>\n",
       "<p>367 rows × 2 columns</p>\n",
       "</div>"
      ],
      "text/plain": [
       "Ticker       BTC-USD   ETH-USD\n",
       "Date                          \n",
       "2023-05-27       NaN       NaN\n",
       "2023-05-28  0.045306  0.043578\n",
       "2023-05-29 -0.012097 -0.009334\n",
       "2023-05-30 -0.001569  0.004199\n",
       "2023-05-31 -0.017424 -0.014148\n",
       "...              ...       ...\n",
       "2024-05-23 -0.017256  0.010625\n",
       "2024-05-24  0.008782 -0.013236\n",
       "2024-05-25  0.010797  0.005984\n",
       "2024-05-26 -0.010797  0.020447\n",
       "2024-05-27  0.026684  0.033599\n",
       "\n",
       "[367 rows x 2 columns]"
      ]
     },
     "execution_count": 5,
     "metadata": {},
     "output_type": "execute_result"
    }
   ],
   "source": [
    "return_rates"
   ]
  },
  {
   "cell_type": "code",
   "execution_count": 6,
   "id": "770821f7-6810-4ab8-ae89-2e4785aa7f79",
   "metadata": {},
   "outputs": [],
   "source": [
    "# Delete the row with NaN\n",
    "return_rates = return_rates.dropna()"
   ]
  },
  {
   "cell_type": "code",
   "execution_count": 7,
   "id": "4bb153ca-1717-4e38-896c-819d06083687",
   "metadata": {},
   "outputs": [],
   "source": [
    "# Point 4.\n",
    "# Compute the linear regression\n",
    "from scipy import stats"
   ]
  },
  {
   "cell_type": "code",
   "execution_count": 8,
   "id": "85841cde-dfe6-4896-9b5f-46dbd95b0f98",
   "metadata": {},
   "outputs": [],
   "source": [
    "linear_regression = stats.linregress(\n",
    "                        x=return_rates['BTC-USD'],\n",
    "                        y=return_rates['ETH-USD'])"
   ]
  },
  {
   "cell_type": "code",
   "execution_count": 9,
   "id": "36ecfd58-f8d5-43fa-aee8-0127770147f8",
   "metadata": {},
   "outputs": [],
   "source": [
    "a = linear_regression.slope\n",
    "b = linear_regression.intercept"
   ]
  },
  {
   "cell_type": "code",
   "execution_count": 10,
   "id": "1a1df1d8-9379-4a0b-9e7a-299b49d4fc71",
   "metadata": {},
   "outputs": [
    {
     "name": "stdout",
     "output_type": "stream",
     "text": [
      "y = 0.8996662185091215 * x + -0.00014919446543048501\n"
     ]
    }
   ],
   "source": [
    "print('y =', a, '* x +', b)"
   ]
  },
  {
   "cell_type": "code",
   "execution_count": 11,
   "id": "e9a0acf6-3463-45f4-a999-f2051c378558",
   "metadata": {},
   "outputs": [],
   "source": [
    "# Plot the regression line using Seaborn library\n",
    "import seaborn as sn"
   ]
  },
  {
   "cell_type": "code",
   "execution_count": 12,
   "id": "fadc68c9-8320-418c-a077-325516bdd68a",
   "metadata": {},
   "outputs": [
    {
     "data": {
      "image/png": "[encoded data removed]",
      "text/plain": [
       "<Figure size 640x480 with 1 Axes>"
      ]
     },
     "metadata": {},
     "output_type": "display_data"
    }
   ],
   "source": [
    "axes = sn.regplot(x=return_rates['BTC-USD'],\n",
    "                  y=return_rates['ETH-USD'])"
   ]
  },
  {
   "cell_type": "code",
   "execution_count": 13,
   "id": "e248d367-9dfd-4c0c-ba64-08896dc36a83",
   "metadata": {},
   "outputs": [
    {
     "data": {
      "text/plain": [
       "Ticker\n",
       "BTC-USD    0.002950\n",
       "ETH-USD    0.002505\n",
       "dtype: float64"
      ]
     },
     "execution_count": 13,
     "metadata": {},
     "output_type": "execute_result"
    }
   ],
   "source": [
    "# Point 5.\n",
    "# Compute the mean of return rates\n",
    "mean_return_rates = return_rates.mean()\n",
    "mean_return_rates"
   ]
  },
  {
   "cell_type": "code",
   "execution_count": 14,
   "id": "c97f2cda-84ed-40fd-8773-d9794c808b8b",
   "metadata": {},
   "outputs": [
    {
     "data": {
      "text/html": [
       "<div>\n",
       "<style scoped>\n",
       "    .dataframe tbody tr th:only-of-type {\n",
       "        vertical-align: middle;\n",
       "    }\n",
       "\n",
       "    .dataframe tbody tr th {\n",
       "        vertical-align: top;\n",
       "    }\n",
       "\n",
       "    .dataframe thead th {\n",
       "        text-align: right;\n",
       "    }\n",
       "</style>\n",
       "<table border=\"1\" class=\"dataframe\">\n",
       "  <thead>\n",
       "    <tr style=\"text-align: right;\">\n",
       "      <th>Ticker</th>\n",
       "      <th>BTC-USD</th>\n",
       "      <th>ETH-USD</th>\n",
       "    </tr>\n",
       "    <tr>\n",
       "      <th>Ticker</th>\n",
       "      <th></th>\n",
       "      <th></th>\n",
       "    </tr>\n",
       "  </thead>\n",
       "  <tbody>\n",
       "    <tr>\n",
       "      <th>BTC-USD</th>\n",
       "      <td>0.000642</td>\n",
       "      <td>0.000577</td>\n",
       "    </tr>\n",
       "    <tr>\n",
       "      <th>ETH-USD</th>\n",
       "      <td>0.000577</td>\n",
       "      <td>0.000817</td>\n",
       "    </tr>\n",
       "  </tbody>\n",
       "</table>\n",
       "</div>"
      ],
      "text/plain": [
       "Ticker    BTC-USD   ETH-USD\n",
       "Ticker                     \n",
       "BTC-USD  0.000642  0.000577\n",
       "ETH-USD  0.000577  0.000817"
      ]
     },
     "execution_count": 14,
     "metadata": {},
     "output_type": "execute_result"
    }
   ],
   "source": [
    "# Generate the variance-covariance matrix\n",
    "cov_matrix = return_rates.cov()\n",
    "cov_matrix"
   ]
  },
  {
   "cell_type": "code",
   "execution_count": 15,
   "id": "2b416c4c-dde3-456d-b7b8-ebc09e548676",
   "metadata": {},
   "outputs": [
    {
     "data": {
      "text/plain": [
       "0.0026833583536949052"
      ]
     },
     "execution_count": 15,
     "metadata": {},
     "output_type": "execute_result"
    }
   ],
   "source": [
    "# Point 6.\n",
    "# Compute the mean of portfolio r.r.\n",
    "mean_port = mean_return_rates.dot(weights)\n",
    "mean_port"
   ]
  },
  {
   "cell_type": "code",
   "execution_count": 16,
   "id": "fdb0dddf-4e23-4ff2-8182-7fd50df57f1b",
   "metadata": {},
   "outputs": [
    {
     "data": {
      "text/plain": [
       "0.025956953879608634"
      ]
     },
     "execution_count": 16,
     "metadata": {},
     "output_type": "execute_result"
    }
   ],
   "source": [
    "# Compute the standard deviation of portfolio r.r.\n",
    "std_port = np.sqrt(weights.T.dot(cov_matrix).dot(weights))\n",
    "std_port"
   ]
  },
  {
   "cell_type": "code",
   "execution_count": 17,
   "id": "b4ee0a91-ec96-4ee5-be67-1705400203a0",
   "metadata": {},
   "outputs": [
    {
     "data": {
      "text/plain": [
       "-1.6448536269514722"
      ]
     },
     "execution_count": 17,
     "metadata": {},
     "output_type": "execute_result"
    }
   ],
   "source": [
    "# Point 7.\n",
    "# Compute the z-value\n",
    "alpha = 0.95\n",
    "z_value = norm.ppf(1 - alpha)\n",
    "z_value"
   ]
  },
  {
   "cell_type": "code",
   "execution_count": 18,
   "id": "9dc97ae6-c78b-4739-8bb7-64d23a626cd7",
   "metadata": {},
   "outputs": [
    {
     "data": {
      "text/plain": [
       "-0.040012031379791445"
      ]
     },
     "execution_count": 18,
     "metadata": {},
     "output_type": "execute_result"
    }
   ],
   "source": [
    "# Compute the (1 - alpha)th quantile\n",
    "quantile = mean_port + std_port * z_value\n",
    "quantile"
   ]
  },
  {
   "cell_type": "code",
   "execution_count": 19,
   "id": "08dd59b4-6df5-4ecc-8541-a45bd3b09ffa",
   "metadata": {},
   "outputs": [],
   "source": [
    "# Compute the (absolute) VaR of the portfolio for a 1 day horizon\n",
    "VaR_port = - initial_investment * quantile"
   ]
  },
  {
   "cell_type": "code",
   "execution_count": 20,
   "id": "0fcefea7-41dc-4031-b564-fe1743b84c3f",
   "metadata": {},
   "outputs": [
    {
     "name": "stdout",
     "output_type": "stream",
     "text": [
      "The VaR on a 5 days horizon is: 4473.481104153419\n"
     ]
    }
   ],
   "source": [
    "# Compute the (absolute) VaR of the portfolio for a 5 days horizon\n",
    "VaR_5 = np.sqrt(5) * VaR_port\n",
    "print('The VaR on a 5 days horizon is:', VaR_5)"
   ]
  },
  {
   "cell_type": "code",
   "execution_count": null,
   "id": "9c02d50f-a781-4295-975a-e681141dc762",
   "metadata": {},
   "outputs": [],
   "source": []
  }
 ],
 "metadata": {
  "kernelspec": {
   "display_name": "Python 3 (ipykernel)",
   "language": "python",
   "name": "python3"
  },
  "language_info": {
   "codemirror_mode": {
    "name": "ipython",
    "version": 3
   },
   "file_extension": ".py",
   "mimetype": "text/x-python",
   "name": "python",
   "nbconvert_exporter": "python",
   "pygments_lexer": "ipython3",
   "version": "3.10.14"
  }
 },
 "nbformat": 4,
 "nbformat_minor": 5
}
