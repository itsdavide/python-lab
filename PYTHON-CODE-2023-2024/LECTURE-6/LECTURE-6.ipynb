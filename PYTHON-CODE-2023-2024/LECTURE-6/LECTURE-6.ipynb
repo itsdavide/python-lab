{
 "cells": [
  {
   "cell_type": "code",
   "execution_count": 1,
   "id": "78c23a41-b395-43f1-8781-6adb60804002",
   "metadata": {},
   "outputs": [],
   "source": [
    "# Import the libraries\n",
    "import yfinance as yf"
   ]
  },
  {
   "cell_type": "code",
   "execution_count": 2,
   "id": "e7f88ad4-8f86-4fe6-a03b-123f91aa0ee2",
   "metadata": {},
   "outputs": [],
   "source": [
    "import pandas as pd\n",
    "import numpy as np"
   ]
  },
  {
   "cell_type": "code",
   "execution_count": 3,
   "id": "9339a473-47ed-4d4a-95bf-9dbfb7535449",
   "metadata": {},
   "outputs": [],
   "source": [
    "# Create an object to access AMZN stock\n",
    "stock = yf.Ticker('AMZN')"
   ]
  },
  {
   "cell_type": "code",
   "execution_count": 4,
   "id": "8ba8212c-5d9a-4d33-bcf9-c811303c215d",
   "metadata": {},
   "outputs": [
    {
     "data": {
      "text/html": [
       "<div>\n",
       "<style scoped>\n",
       "    .dataframe tbody tr th:only-of-type {\n",
       "        vertical-align: middle;\n",
       "    }\n",
       "\n",
       "    .dataframe tbody tr th {\n",
       "        vertical-align: top;\n",
       "    }\n",
       "\n",
       "    .dataframe thead th {\n",
       "        text-align: right;\n",
       "    }\n",
       "</style>\n",
       "<table border=\"1\" class=\"dataframe\">\n",
       "  <thead>\n",
       "    <tr style=\"text-align: right;\">\n",
       "      <th></th>\n",
       "      <th>Open</th>\n",
       "      <th>High</th>\n",
       "      <th>Low</th>\n",
       "      <th>Close</th>\n",
       "      <th>Volume</th>\n",
       "      <th>Dividends</th>\n",
       "      <th>Stock Splits</th>\n",
       "    </tr>\n",
       "    <tr>\n",
       "      <th>Date</th>\n",
       "      <th></th>\n",
       "      <th></th>\n",
       "      <th></th>\n",
       "      <th></th>\n",
       "      <th></th>\n",
       "      <th></th>\n",
       "      <th></th>\n",
       "    </tr>\n",
       "  </thead>\n",
       "  <tbody>\n",
       "    <tr>\n",
       "      <th>2023-05-09 00:00:00-04:00</th>\n",
       "      <td>105.480003</td>\n",
       "      <td>106.790001</td>\n",
       "      <td>105.160004</td>\n",
       "      <td>106.620003</td>\n",
       "      <td>44089400</td>\n",
       "      <td>0.0</td>\n",
       "      <td>0.0</td>\n",
       "    </tr>\n",
       "    <tr>\n",
       "      <th>2023-05-10 00:00:00-04:00</th>\n",
       "      <td>108.099998</td>\n",
       "      <td>110.669998</td>\n",
       "      <td>108.050003</td>\n",
       "      <td>110.190002</td>\n",
       "      <td>78627600</td>\n",
       "      <td>0.0</td>\n",
       "      <td>0.0</td>\n",
       "    </tr>\n",
       "    <tr>\n",
       "      <th>2023-05-11 00:00:00-04:00</th>\n",
       "      <td>111.029999</td>\n",
       "      <td>113.279999</td>\n",
       "      <td>110.489998</td>\n",
       "      <td>112.180000</td>\n",
       "      <td>74924800</td>\n",
       "      <td>0.0</td>\n",
       "      <td>0.0</td>\n",
       "    </tr>\n",
       "    <tr>\n",
       "      <th>2023-05-12 00:00:00-04:00</th>\n",
       "      <td>112.160004</td>\n",
       "      <td>112.639999</td>\n",
       "      <td>109.320000</td>\n",
       "      <td>110.260002</td>\n",
       "      <td>49810100</td>\n",
       "      <td>0.0</td>\n",
       "      <td>0.0</td>\n",
       "    </tr>\n",
       "    <tr>\n",
       "      <th>2023-05-15 00:00:00-04:00</th>\n",
       "      <td>111.150002</td>\n",
       "      <td>112.290001</td>\n",
       "      <td>109.250000</td>\n",
       "      <td>111.199997</td>\n",
       "      <td>53011100</td>\n",
       "      <td>0.0</td>\n",
       "      <td>0.0</td>\n",
       "    </tr>\n",
       "    <tr>\n",
       "      <th>...</th>\n",
       "      <td>...</td>\n",
       "      <td>...</td>\n",
       "      <td>...</td>\n",
       "      <td>...</td>\n",
       "      <td>...</td>\n",
       "      <td>...</td>\n",
       "      <td>...</td>\n",
       "    </tr>\n",
       "    <tr>\n",
       "      <th>2024-05-02 00:00:00-04:00</th>\n",
       "      <td>180.850006</td>\n",
       "      <td>185.100006</td>\n",
       "      <td>179.910004</td>\n",
       "      <td>184.720001</td>\n",
       "      <td>54303500</td>\n",
       "      <td>0.0</td>\n",
       "      <td>0.0</td>\n",
       "    </tr>\n",
       "    <tr>\n",
       "      <th>2024-05-03 00:00:00-04:00</th>\n",
       "      <td>186.990005</td>\n",
       "      <td>187.869995</td>\n",
       "      <td>185.419998</td>\n",
       "      <td>186.210007</td>\n",
       "      <td>39172000</td>\n",
       "      <td>0.0</td>\n",
       "      <td>0.0</td>\n",
       "    </tr>\n",
       "    <tr>\n",
       "      <th>2024-05-06 00:00:00-04:00</th>\n",
       "      <td>186.279999</td>\n",
       "      <td>188.750000</td>\n",
       "      <td>184.800003</td>\n",
       "      <td>188.699997</td>\n",
       "      <td>34725300</td>\n",
       "      <td>0.0</td>\n",
       "      <td>0.0</td>\n",
       "    </tr>\n",
       "    <tr>\n",
       "      <th>2024-05-07 00:00:00-04:00</th>\n",
       "      <td>188.919998</td>\n",
       "      <td>189.940002</td>\n",
       "      <td>187.309998</td>\n",
       "      <td>188.759995</td>\n",
       "      <td>34048900</td>\n",
       "      <td>0.0</td>\n",
       "      <td>0.0</td>\n",
       "    </tr>\n",
       "    <tr>\n",
       "      <th>2024-05-08 00:00:00-04:00</th>\n",
       "      <td>187.440002</td>\n",
       "      <td>188.429993</td>\n",
       "      <td>186.389999</td>\n",
       "      <td>188.000000</td>\n",
       "      <td>26115900</td>\n",
       "      <td>0.0</td>\n",
       "      <td>0.0</td>\n",
       "    </tr>\n",
       "  </tbody>\n",
       "</table>\n",
       "<p>252 rows × 7 columns</p>\n",
       "</div>"
      ],
      "text/plain": [
       "                                 Open        High         Low       Close  \\\n",
       "Date                                                                        \n",
       "2023-05-09 00:00:00-04:00  105.480003  106.790001  105.160004  106.620003   \n",
       "2023-05-10 00:00:00-04:00  108.099998  110.669998  108.050003  110.190002   \n",
       "2023-05-11 00:00:00-04:00  111.029999  113.279999  110.489998  112.180000   \n",
       "2023-05-12 00:00:00-04:00  112.160004  112.639999  109.320000  110.260002   \n",
       "2023-05-15 00:00:00-04:00  111.150002  112.290001  109.250000  111.199997   \n",
       "...                               ...         ...         ...         ...   \n",
       "2024-05-02 00:00:00-04:00  180.850006  185.100006  179.910004  184.720001   \n",
       "2024-05-03 00:00:00-04:00  186.990005  187.869995  185.419998  186.210007   \n",
       "2024-05-06 00:00:00-04:00  186.279999  188.750000  184.800003  188.699997   \n",
       "2024-05-07 00:00:00-04:00  188.919998  189.940002  187.309998  188.759995   \n",
       "2024-05-08 00:00:00-04:00  187.440002  188.429993  186.389999  188.000000   \n",
       "\n",
       "                             Volume  Dividends  Stock Splits  \n",
       "Date                                                          \n",
       "2023-05-09 00:00:00-04:00  44089400        0.0           0.0  \n",
       "2023-05-10 00:00:00-04:00  78627600        0.0           0.0  \n",
       "2023-05-11 00:00:00-04:00  74924800        0.0           0.0  \n",
       "2023-05-12 00:00:00-04:00  49810100        0.0           0.0  \n",
       "2023-05-15 00:00:00-04:00  53011100        0.0           0.0  \n",
       "...                             ...        ...           ...  \n",
       "2024-05-02 00:00:00-04:00  54303500        0.0           0.0  \n",
       "2024-05-03 00:00:00-04:00  39172000        0.0           0.0  \n",
       "2024-05-06 00:00:00-04:00  34725300        0.0           0.0  \n",
       "2024-05-07 00:00:00-04:00  34048900        0.0           0.0  \n",
       "2024-05-08 00:00:00-04:00  26115900        0.0           0.0  \n",
       "\n",
       "[252 rows x 7 columns]"
      ]
     },
     "execution_count": 4,
     "metadata": {},
     "output_type": "execute_result"
    }
   ],
   "source": [
    "# Load AMZN's historical data\n",
    "hist_data = stock.history(period='1y')\n",
    "hist_data"
   ]
  },
  {
   "cell_type": "code",
   "execution_count": 5,
   "id": "813f9666-cbf2-4928-b9f9-d5ac7dd6f27b",
   "metadata": {},
   "outputs": [
    {
     "data": {
      "text/plain": [
       "Date\n",
       "2023-05-09 00:00:00-04:00    106.620003\n",
       "2023-05-10 00:00:00-04:00    110.190002\n",
       "2023-05-11 00:00:00-04:00    112.180000\n",
       "2023-05-12 00:00:00-04:00    110.260002\n",
       "2023-05-15 00:00:00-04:00    111.199997\n",
       "                                ...    \n",
       "2024-05-02 00:00:00-04:00    184.720001\n",
       "2024-05-03 00:00:00-04:00    186.210007\n",
       "2024-05-06 00:00:00-04:00    188.699997\n",
       "2024-05-07 00:00:00-04:00    188.759995\n",
       "2024-05-08 00:00:00-04:00    188.000000\n",
       "Name: Close, Length: 252, dtype: float64"
      ]
     },
     "execution_count": 5,
     "metadata": {},
     "output_type": "execute_result"
    }
   ],
   "source": [
    "# Extract closing prices\n",
    "prices = hist_data['Close']\n",
    "prices"
   ]
  },
  {
   "cell_type": "code",
   "execution_count": 6,
   "id": "631a9a89-0e37-46a6-822d-42d838012d06",
   "metadata": {},
   "outputs": [
    {
     "data": {
      "text/plain": [
       "Date\n",
       "2023-05-09 00:00:00-04:00         NaN\n",
       "2023-05-10 00:00:00-04:00    0.032935\n",
       "2023-05-11 00:00:00-04:00    0.017899\n",
       "2023-05-12 00:00:00-04:00   -0.017263\n",
       "2023-05-15 00:00:00-04:00    0.008489\n",
       "                               ...   \n",
       "2024-05-02 00:00:00-04:00    0.031455\n",
       "2024-05-03 00:00:00-04:00    0.008034\n",
       "2024-05-06 00:00:00-04:00    0.013283\n",
       "2024-05-07 00:00:00-04:00    0.000318\n",
       "2024-05-08 00:00:00-04:00   -0.004034\n",
       "Name: Close, Length: 252, dtype: float64"
      ]
     },
     "execution_count": 6,
     "metadata": {},
     "output_type": "execute_result"
    }
   ],
   "source": [
    "# Compute the log-returns\n",
    "log_rets = np.log(prices / prices.shift(1))\n",
    "log_rets"
   ]
  },
  {
   "cell_type": "code",
   "execution_count": 7,
   "id": "790ea5ed-6d32-4dba-9c44-eb6f20b44b7f",
   "metadata": {},
   "outputs": [
    {
     "data": {
      "text/plain": [
       "Date\n",
       "2023-05-10 00:00:00-04:00    0.032935\n",
       "2023-05-11 00:00:00-04:00    0.017899\n",
       "2023-05-12 00:00:00-04:00   -0.017263\n",
       "2023-05-15 00:00:00-04:00    0.008489\n",
       "2023-05-16 00:00:00-04:00    0.019591\n",
       "                               ...   \n",
       "2024-05-02 00:00:00-04:00    0.031455\n",
       "2024-05-03 00:00:00-04:00    0.008034\n",
       "2024-05-06 00:00:00-04:00    0.013283\n",
       "2024-05-07 00:00:00-04:00    0.000318\n",
       "2024-05-08 00:00:00-04:00   -0.004034\n",
       "Name: Close, Length: 251, dtype: float64"
      ]
     },
     "execution_count": 7,
     "metadata": {},
     "output_type": "execute_result"
    }
   ],
   "source": [
    "log_rets = log_rets.dropna()\n",
    "log_rets"
   ]
  },
  {
   "cell_type": "code",
   "execution_count": 8,
   "id": "0936978d-bb61-4ae9-9815-f9546709cafe",
   "metadata": {},
   "outputs": [
    {
     "data": {
      "text/plain": [
       "Text(0.5, 1.0, 'Log-return distribution of AMZN')"
      ]
     },
     "execution_count": 8,
     "metadata": {},
     "output_type": "execute_result"
    },
    {
     "data": {
      "image/png": "[encoded data removed]",
      "text/plain": [
       "<Figure size 1000x600 with 1 Axes>"
      ]
     },
     "metadata": {},
     "output_type": "display_data"
    }
   ],
   "source": [
    "# Plot the histogram of log-returns\n",
    "import matplotlib.pyplot as plt\n",
    "\n",
    "plt.figure(figsize=(10,6))\n",
    "plt.hist(log_rets, bins=50, color='red')\n",
    "\n",
    "plt.xlabel('Log-returns of stock price')\n",
    "plt.ylabel('Frequency')\n",
    "plt.title('Log-return distribution of AMZN')"
   ]
  },
  {
   "cell_type": "code",
   "execution_count": 9,
   "id": "b71f8eab-6624-44e6-914c-0c2d754f64c5",
   "metadata": {},
   "outputs": [
    {
     "data": {
      "text/plain": [
       "Text(0.5, 1.0, 'Q-Q plots')"
      ]
     },
     "execution_count": 9,
     "metadata": {},
     "output_type": "execute_result"
    },
    {
     "data": {
      "image/png": "[encoded data removed]",
      "text/plain": [
       "<Figure size 640x480 with 1 Axes>"
      ]
     },
     "metadata": {},
     "output_type": "display_data"
    }
   ],
   "source": [
    "# Plot the Q-Q plot\n",
    "import statsmodels.api as sm\n",
    "\n",
    "fig = sm.qqplot(log_rets, line='s', alpha=0.5)\n",
    "plt.title('Q-Q plots')"
   ]
  },
  {
   "cell_type": "code",
   "execution_count": 10,
   "id": "fc988e53-0072-4f1f-b827-962f46afcb30",
   "metadata": {},
   "outputs": [
    {
     "data": {
      "text/plain": [
       "0.4237582066695758"
      ]
     },
     "execution_count": 10,
     "metadata": {},
     "output_type": "execute_result"
    }
   ],
   "source": [
    "# Compute skew and kurtosis\n",
    "import scipy.stats as scs\n",
    "\n",
    "skew = scs.skew(log_rets)\n",
    "skew"
   ]
  },
  {
   "cell_type": "code",
   "execution_count": 11,
   "id": "59fa7a7d-cd49-4145-868f-350825d097c1",
   "metadata": {},
   "outputs": [
    {
     "data": {
      "text/plain": [
       "2.392335405352944"
      ]
     },
     "execution_count": 11,
     "metadata": {},
     "output_type": "execute_result"
    }
   ],
   "source": [
    "kurtosis = scs.kurtosis(log_rets)\n",
    "kurtosis"
   ]
  },
  {
   "cell_type": "code",
   "execution_count": 12,
   "id": "c1aa95b7-5af2-4fb9-ab71-4901d6aecd8a",
   "metadata": {},
   "outputs": [
    {
     "name": "stdout",
     "output_type": "stream",
     "text": [
      "Skew of sample log-returns 0.423758\n"
     ]
    }
   ],
   "source": [
    "print(f'Skew of sample log-returns {skew:.6f}')"
   ]
  },
  {
   "cell_type": "code",
   "execution_count": 13,
   "id": "279de341-4919-4f5d-a6e7-33eb144fc181",
   "metadata": {},
   "outputs": [
    {
     "name": "stdout",
     "output_type": "stream",
     "text": [
      "Kurtosis of sample log-returns 2.392335\n"
     ]
    }
   ],
   "source": [
    "print(f'Kurtosis of sample log-returns {kurtosis:.6f}')"
   ]
  },
  {
   "cell_type": "code",
   "execution_count": 14,
   "id": "55506514-1246-47be-9a1b-acd3b7b4a936",
   "metadata": {},
   "outputs": [
    {
     "name": "stdout",
     "output_type": "stream",
     "text": [
      "Skew Normal test 0.006673\n"
     ]
    }
   ],
   "source": [
    "# Execute the skew test\n",
    "p_value = scs.skewtest(log_rets)[1]\n",
    "print(f'Skew Normal test {p_value:.6f}')"
   ]
  },
  {
   "cell_type": "code",
   "execution_count": 15,
   "id": "758731ee-15c7-483f-baf3-13948e4a343e",
   "metadata": {},
   "outputs": [
    {
     "name": "stdout",
     "output_type": "stream",
     "text": [
      "Kurtosis Normal test 0.000019\n"
     ]
    }
   ],
   "source": [
    "# Execute the kurtosis test\n",
    "p_value = scs.kurtosistest(log_rets)[1]\n",
    "print(f'Kurtosis Normal test {p_value:.6f}')"
   ]
  },
  {
   "cell_type": "code",
   "execution_count": 16,
   "id": "0208d7e3-b3c1-4628-aa64-56b9f7c5ee2f",
   "metadata": {},
   "outputs": [
    {
     "name": "stdout",
     "output_type": "stream",
     "text": [
      "Normal test 0.000003\n"
     ]
    }
   ],
   "source": [
    "# Execute the normal test\n",
    "p_value = scs.normaltest(log_rets)[1]\n",
    "print(f'Normal test {p_value:.6f}')"
   ]
  },
  {
   "cell_type": "code",
   "execution_count": null,
   "id": "40745190-244d-431f-a844-a62549b28adf",
   "metadata": {},
   "outputs": [],
   "source": []
  }
 ],
 "metadata": {
  "kernelspec": {
   "display_name": "Python 3 (ipykernel)",
   "language": "python",
   "name": "python3"
  },
  "language_info": {
   "codemirror_mode": {
    "name": "ipython",
    "version": 3
   },
   "file_extension": ".py",
   "mimetype": "text/x-python",
   "name": "python",
   "nbconvert_exporter": "python",
   "pygments_lexer": "ipython3",
   "version": "3.10.11"
  }
 },
 "nbformat": 4,
 "nbformat_minor": 5
}
