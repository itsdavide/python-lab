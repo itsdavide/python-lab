{
 "cells": [
  {
   "cell_type": "code",
   "execution_count": 1,
   "id": "cc2a3aa3-f5c7-4b4a-8a3c-56d249865998",
   "metadata": {},
   "outputs": [],
   "source": [
    "# Import the libraries\n",
    "import yfinance as yf\n",
    "import numpy as np\n",
    "import pandas as pd"
   ]
  },
  {
   "cell_type": "code",
   "execution_count": 2,
   "id": "e82dca5c-02ce-47b1-908e-46e1fd4adee2",
   "metadata": {},
   "outputs": [
    {
     "data": {
      "text/plain": [
       "Date\n",
       "2021-05-10 00:00:00-04:00    159.524506\n",
       "2021-05-11 00:00:00-04:00    161.195496\n",
       "2021-05-12 00:00:00-04:00    157.597000\n",
       "2021-05-13 00:00:00-04:00    158.073502\n",
       "2021-05-14 00:00:00-04:00    161.145004\n",
       "                                ...    \n",
       "2024-05-02 00:00:00-04:00    184.720001\n",
       "2024-05-03 00:00:00-04:00    186.210007\n",
       "2024-05-06 00:00:00-04:00    188.699997\n",
       "2024-05-07 00:00:00-04:00    188.759995\n",
       "2024-05-08 00:00:00-04:00    188.000000\n",
       "Name: Close, Length: 755, dtype: float64"
      ]
     },
     "execution_count": 2,
     "metadata": {},
     "output_type": "execute_result"
    }
   ],
   "source": [
    "# Load the last 3 years of data for AMZN\n",
    "ticker = 'AMZN'\n",
    "stock = yf.Ticker(ticker)\n",
    "hist_data = stock.history(period='3y')\n",
    "\n",
    "prices = hist_data['Close']\n",
    "prices"
   ]
  },
  {
   "cell_type": "code",
   "execution_count": 3,
   "id": "081286ef-710d-4907-8964-89886238daa6",
   "metadata": {},
   "outputs": [],
   "source": [
    "# Fix the parameters for the risk analysis\n",
    "alpha = 0.99\n",
    "num_shares = 5000\n",
    "on_date = '2024-05-08'\n",
    "share_price = prices[on_date]"
   ]
  },
  {
   "cell_type": "code",
   "execution_count": 4,
   "id": "a930efd2-974f-4dce-9ec7-6de745758d32",
   "metadata": {},
   "outputs": [
    {
     "data": {
      "text/plain": [
       "Date\n",
       "2021-05-10 00:00:00-04:00         NaN\n",
       "2021-05-11 00:00:00-04:00    0.010475\n",
       "2021-05-12 00:00:00-04:00   -0.022324\n",
       "2021-05-13 00:00:00-04:00    0.003024\n",
       "2021-05-14 00:00:00-04:00    0.019431\n",
       "                               ...   \n",
       "2024-05-02 00:00:00-04:00    0.031955\n",
       "2024-05-03 00:00:00-04:00    0.008066\n",
       "2024-05-06 00:00:00-04:00    0.013372\n",
       "2024-05-07 00:00:00-04:00    0.000318\n",
       "2024-05-08 00:00:00-04:00   -0.004026\n",
       "Name: Close, Length: 755, dtype: float64"
      ]
     },
     "execution_count": 4,
     "metadata": {},
     "output_type": "execute_result"
    }
   ],
   "source": [
    "# Compute the return rates\n",
    "return_rates = prices.pct_change()\n",
    "return_rates"
   ]
  },
  {
   "cell_type": "code",
   "execution_count": 5,
   "id": "b3c817c8-6f5d-4710-8a3f-c61f5510d3b7",
   "metadata": {},
   "outputs": [
    {
     "data": {
      "text/plain": [
       "Date\n",
       "2021-05-11 00:00:00-04:00    0.010475\n",
       "2021-05-12 00:00:00-04:00   -0.022324\n",
       "2021-05-13 00:00:00-04:00    0.003024\n",
       "2021-05-14 00:00:00-04:00    0.019431\n",
       "2021-05-17 00:00:00-04:00    0.014735\n",
       "                               ...   \n",
       "2024-05-02 00:00:00-04:00    0.031955\n",
       "2024-05-03 00:00:00-04:00    0.008066\n",
       "2024-05-06 00:00:00-04:00    0.013372\n",
       "2024-05-07 00:00:00-04:00    0.000318\n",
       "2024-05-08 00:00:00-04:00   -0.004026\n",
       "Name: Close, Length: 754, dtype: float64"
      ]
     },
     "execution_count": 5,
     "metadata": {},
     "output_type": "execute_result"
    }
   ],
   "source": [
    "# Delete the NaN\n",
    "return_rates = return_rates.dropna()\n",
    "return_rates"
   ]
  },
  {
   "cell_type": "code",
   "execution_count": 6,
   "id": "46d77ebf-fadb-4765-a209-328a890b20f5",
   "metadata": {},
   "outputs": [
    {
     "data": {
      "text/plain": [
       "-0.06804249715805744"
      ]
     },
     "execution_count": 6,
     "metadata": {},
     "output_type": "execute_result"
    }
   ],
   "source": [
    "# Get the quantile\n",
    "quantile = np.quantile(return_rates, q=1-alpha,\n",
    "                      method='inverted_cdf')\n",
    "quantile"
   ]
  },
  {
   "cell_type": "code",
   "execution_count": 7,
   "id": "edc6834d-9dbd-48f0-949c-ab01420ded87",
   "metadata": {},
   "outputs": [
    {
     "data": {
      "text/plain": [
       "0.0004960944005615992"
      ]
     },
     "execution_count": 7,
     "metadata": {},
     "output_type": "execute_result"
    }
   ],
   "source": [
    "# Compute the mean of return rates\n",
    "mean_return_rate = return_rates.mean()\n",
    "mean_return_rate"
   ]
  },
  {
   "cell_type": "code",
   "execution_count": 8,
   "id": "6766b311-8475-456b-a945-c057b355f862",
   "metadata": {},
   "outputs": [
    {
     "name": "stdout",
     "output_type": "stream",
     "text": [
      "The n.p. VaR is: 64426.27606510189\n"
     ]
    }
   ],
   "source": [
    "# Compute the non-parametric VaR\n",
    "VaR_np = num_shares * share_price * (mean_return_rate - quantile)\n",
    "print('The n.p. VaR is:', VaR_np)"
   ]
  },
  {
   "cell_type": "code",
   "execution_count": 9,
   "id": "8636de60-95ad-43f2-b3fd-1966babc907e",
   "metadata": {},
   "outputs": [],
   "source": [
    "# VaR PARAMETRIC VERSION\n",
    "from scipy.stats import norm\n",
    "\n",
    "# Normal return assumption\n",
    "# Use the z-value, mean and variance to calculate VaR\n",
    "z_value = norm.ppf(1 - alpha)"
   ]
  },
  {
   "cell_type": "code",
   "execution_count": 10,
   "id": "76cec0fc-6ecb-4557-98bd-16f9b3a0d062",
   "metadata": {},
   "outputs": [],
   "source": [
    "# Mean and standard deviation of return rates\n",
    "mean_return_rate = return_rates.mean()\n",
    "std_return_rate = return_rates.std()"
   ]
  },
  {
   "cell_type": "code",
   "execution_count": 11,
   "id": "be05c83a-acdc-474e-87e2-c472b7a070fd",
   "metadata": {},
   "outputs": [
    {
     "data": {
      "text/plain": [
       "0.0004960944005615992"
      ]
     },
     "execution_count": 11,
     "metadata": {},
     "output_type": "execute_result"
    }
   ],
   "source": [
    "mean_return_rate"
   ]
  },
  {
   "cell_type": "code",
   "execution_count": 12,
   "id": "b264fa14-d9db-473e-a446-c236c304d8ff",
   "metadata": {},
   "outputs": [
    {
     "data": {
      "text/plain": [
       "0.023608084948699298"
      ]
     },
     "execution_count": 12,
     "metadata": {},
     "output_type": "execute_result"
    }
   ],
   "source": [
    "std_return_rate"
   ]
  },
  {
   "cell_type": "code",
   "execution_count": 13,
   "id": "c3e672c8-d5aa-4cbe-b8ec-0001c75afabf",
   "metadata": {},
   "outputs": [
    {
     "data": {
      "text/plain": [
       "-0.05442452383002058"
      ]
     },
     "execution_count": 13,
     "metadata": {},
     "output_type": "execute_result"
    }
   ],
   "source": [
    "# Compute the (1-alpha)-th quantile\n",
    "quantile = mean_return_rate + std_return_rate * z_value\n",
    "quantile"
   ]
  },
  {
   "cell_type": "code",
   "execution_count": 14,
   "id": "f0ae4d27-7c9b-4d67-b3b0-ad2c0c894d20",
   "metadata": {},
   "outputs": [],
   "source": [
    "# Compute the VaR under normality\n",
    "VaR_normal = num_shares * share_price * (mean_return_rate - quantile)"
   ]
  },
  {
   "cell_type": "code",
   "execution_count": 15,
   "id": "ffdde25d-ba58-4bdb-a3ec-a0958250fa8c",
   "metadata": {},
   "outputs": [
    {
     "name": "stdout",
     "output_type": "stream",
     "text": [
      "The normal VaR is: 51625.38113674725\n"
     ]
    }
   ],
   "source": [
    "print('The normal VaR is:', VaR_normal)"
   ]
  },
  {
   "cell_type": "code",
   "execution_count": 16,
   "id": "cc559472-2a03-4703-ac87-857c64b13a96",
   "metadata": {},
   "outputs": [
    {
     "data": {
      "text/plain": [
       "940000.0"
      ]
     },
     "execution_count": 16,
     "metadata": {},
     "output_type": "execute_result"
    }
   ],
   "source": [
    "# Total investment\n",
    "num_shares * share_price"
   ]
  },
  {
   "cell_type": "code",
   "execution_count": 17,
   "id": "27dd2086-4fce-4db0-ae39-d472828e40d0",
   "metadata": {},
   "outputs": [
    {
     "name": "stdout",
     "output_type": "stream",
     "text": [
      "The absoulte VaR is: 51159.05240021935\n"
     ]
    }
   ],
   "source": [
    "# Compute the absolute VaR\n",
    "VaR_normal_abs = num_shares * share_price * (0 - quantile)\n",
    "print('The absoulte VaR is:', VaR_normal_abs)"
   ]
  },
  {
   "cell_type": "code",
   "execution_count": null,
   "id": "6f7d84d8-8a04-4576-b8fe-a985a747db06",
   "metadata": {},
   "outputs": [],
   "source": []
  }
 ],
 "metadata": {
  "kernelspec": {
   "display_name": "Python 3 (ipykernel)",
   "language": "python",
   "name": "python3"
  },
  "language_info": {
   "codemirror_mode": {
    "name": "ipython",
    "version": 3
   },
   "file_extension": ".py",
   "mimetype": "text/x-python",
   "name": "python",
   "nbconvert_exporter": "python",
   "pygments_lexer": "ipython3",
   "version": "3.10.11"
  }
 },
 "nbformat": 4,
 "nbformat_minor": 5
}
