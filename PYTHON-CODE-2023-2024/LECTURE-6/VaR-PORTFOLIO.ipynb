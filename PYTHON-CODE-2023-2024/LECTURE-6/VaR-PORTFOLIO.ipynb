{
 "cells": [
  {
   "cell_type": "code",
   "execution_count": 1,
   "id": "fc968d30-f2ca-4d80-85ae-b76b059fb622",
   "metadata": {},
   "outputs": [],
   "source": [
    "# Import the libraries\n",
    "import numpy as np\n",
    "import pandas as pd\n",
    "import yfinance as yf\n",
    "from scipy.stats import norm"
   ]
  },
  {
   "cell_type": "code",
   "execution_count": 2,
   "id": "494322b9-58b4-44ec-8c41-65d803e10f8c",
   "metadata": {},
   "outputs": [],
   "source": [
    "# Create a portfolio of equities\n",
    "tickers = ['AMZN', 'TSLA', 'AAPL', 'GOOG']"
   ]
  },
  {
   "cell_type": "code",
   "execution_count": 3,
   "id": "98b18ade-3ca8-4518-b555-063470429888",
   "metadata": {},
   "outputs": [],
   "source": [
    "# Set the portfolio weights (summing up to 1)\n",
    "weights = np.array([0.25, 0.3, 0.15, 0.3])"
   ]
  },
  {
   "cell_type": "code",
   "execution_count": 4,
   "id": "38d96411-ffe4-4ee2-896e-517f805f82df",
   "metadata": {},
   "outputs": [],
   "source": [
    "# Set the initial investment\n",
    "initial_investment = 1000000"
   ]
  },
  {
   "cell_type": "code",
   "execution_count": 5,
   "id": "540546ba-e16d-4d43-83d3-12538797a92a",
   "metadata": {},
   "outputs": [
    {
     "name": "stdout",
     "output_type": "stream",
     "text": [
      "[*********************100%***********************]  4 of 4 completed\n"
     ]
    },
    {
     "data": {
      "text/html": [
       "<div>\n",
       "<style scoped>\n",
       "    .dataframe tbody tr th:only-of-type {\n",
       "        vertical-align: middle;\n",
       "    }\n",
       "\n",
       "    .dataframe tbody tr th {\n",
       "        vertical-align: top;\n",
       "    }\n",
       "\n",
       "    .dataframe thead th {\n",
       "        text-align: right;\n",
       "    }\n",
       "</style>\n",
       "<table border=\"1\" class=\"dataframe\">\n",
       "  <thead>\n",
       "    <tr style=\"text-align: right;\">\n",
       "      <th></th>\n",
       "      <th>AAPL</th>\n",
       "      <th>AMZN</th>\n",
       "      <th>GOOG</th>\n",
       "      <th>TSLA</th>\n",
       "    </tr>\n",
       "    <tr>\n",
       "      <th>Date</th>\n",
       "      <th></th>\n",
       "      <th></th>\n",
       "      <th></th>\n",
       "      <th></th>\n",
       "    </tr>\n",
       "  </thead>\n",
       "  <tbody>\n",
       "    <tr>\n",
       "      <th>2021-05-10</th>\n",
       "      <td>124.887520</td>\n",
       "      <td>159.524506</td>\n",
       "      <td>117.083000</td>\n",
       "      <td>209.679993</td>\n",
       "    </tr>\n",
       "    <tr>\n",
       "      <th>2021-05-11</th>\n",
       "      <td>123.962067</td>\n",
       "      <td>161.195496</td>\n",
       "      <td>115.438004</td>\n",
       "      <td>205.733337</td>\n",
       "    </tr>\n",
       "    <tr>\n",
       "      <th>2021-05-12</th>\n",
       "      <td>120.870651</td>\n",
       "      <td>157.597000</td>\n",
       "      <td>111.954002</td>\n",
       "      <td>196.630005</td>\n",
       "    </tr>\n",
       "    <tr>\n",
       "      <th>2021-05-13</th>\n",
       "      <td>123.036621</td>\n",
       "      <td>158.073502</td>\n",
       "      <td>113.098503</td>\n",
       "      <td>190.563339</td>\n",
       "    </tr>\n",
       "    <tr>\n",
       "      <th>2021-05-14</th>\n",
       "      <td>125.478249</td>\n",
       "      <td>161.145004</td>\n",
       "      <td>115.807999</td>\n",
       "      <td>196.580002</td>\n",
       "    </tr>\n",
       "    <tr>\n",
       "      <th>...</th>\n",
       "      <td>...</td>\n",
       "      <td>...</td>\n",
       "      <td>...</td>\n",
       "      <td>...</td>\n",
       "    </tr>\n",
       "    <tr>\n",
       "      <th>2024-05-02</th>\n",
       "      <td>173.029999</td>\n",
       "      <td>184.720001</td>\n",
       "      <td>168.460007</td>\n",
       "      <td>180.009995</td>\n",
       "    </tr>\n",
       "    <tr>\n",
       "      <th>2024-05-03</th>\n",
       "      <td>183.380005</td>\n",
       "      <td>186.210007</td>\n",
       "      <td>168.990005</td>\n",
       "      <td>181.190002</td>\n",
       "    </tr>\n",
       "    <tr>\n",
       "      <th>2024-05-06</th>\n",
       "      <td>181.710007</td>\n",
       "      <td>188.699997</td>\n",
       "      <td>169.830002</td>\n",
       "      <td>184.759995</td>\n",
       "    </tr>\n",
       "    <tr>\n",
       "      <th>2024-05-07</th>\n",
       "      <td>182.399994</td>\n",
       "      <td>188.759995</td>\n",
       "      <td>172.979996</td>\n",
       "      <td>177.809998</td>\n",
       "    </tr>\n",
       "    <tr>\n",
       "      <th>2024-05-08</th>\n",
       "      <td>182.119995</td>\n",
       "      <td>187.880005</td>\n",
       "      <td>171.645004</td>\n",
       "      <td>174.470001</td>\n",
       "    </tr>\n",
       "  </tbody>\n",
       "</table>\n",
       "<p>755 rows × 4 columns</p>\n",
       "</div>"
      ],
      "text/plain": [
       "                  AAPL        AMZN        GOOG        TSLA\n",
       "Date                                                      \n",
       "2021-05-10  124.887520  159.524506  117.083000  209.679993\n",
       "2021-05-11  123.962067  161.195496  115.438004  205.733337\n",
       "2021-05-12  120.870651  157.597000  111.954002  196.630005\n",
       "2021-05-13  123.036621  158.073502  113.098503  190.563339\n",
       "2021-05-14  125.478249  161.145004  115.807999  196.580002\n",
       "...                ...         ...         ...         ...\n",
       "2024-05-02  173.029999  184.720001  168.460007  180.009995\n",
       "2024-05-03  183.380005  186.210007  168.990005  181.190002\n",
       "2024-05-06  181.710007  188.699997  169.830002  184.759995\n",
       "2024-05-07  182.399994  188.759995  172.979996  177.809998\n",
       "2024-05-08  182.119995  187.880005  171.645004  174.470001\n",
       "\n",
       "[755 rows x 4 columns]"
      ]
     },
     "execution_count": 5,
     "metadata": {},
     "output_type": "execute_result"
    }
   ],
   "source": [
    "# Read all the tickers at once\n",
    "stocks = yf.Tickers(tickers)\n",
    "hist_data = stocks.history(period='3y')['Close']\n",
    "hist_data"
   ]
  },
  {
   "cell_type": "code",
   "execution_count": null,
   "id": "c1ba21e7-ddbd-4552-b81a-930fd89f6f66",
   "metadata": {},
   "outputs": [],
   "source": []
  }
 ],
 "metadata": {
  "kernelspec": {
   "display_name": "Python 3 (ipykernel)",
   "language": "python",
   "name": "python3"
  },
  "language_info": {
   "codemirror_mode": {
    "name": "ipython",
    "version": 3
   },
   "file_extension": ".py",
   "mimetype": "text/x-python",
   "name": "python",
   "nbconvert_exporter": "python",
   "pygments_lexer": "ipython3",
   "version": "3.10.11"
  }
 },
 "nbformat": 4,
 "nbformat_minor": 5
}
