{
 "cells": [
  {
   "cell_type": "code",
   "execution_count": 1,
   "id": "16b392e5-a376-4f9d-af25-d4fab8f0fc17",
   "metadata": {},
   "outputs": [],
   "source": [
    "# Import the libraries\n",
    "import yfinance as yf"
   ]
  },
  {
   "cell_type": "code",
   "execution_count": 2,
   "id": "09af7cf6-1060-4e59-a16c-d0bdbe02312e",
   "metadata": {},
   "outputs": [],
   "source": [
    "import pandas as pd\n",
    "import numpy as np"
   ]
  },
  {
   "cell_type": "code",
   "execution_count": 3,
   "id": "e2dad713-67ac-4e47-99d8-1a53779b9bf6",
   "metadata": {},
   "outputs": [],
   "source": [
    "# Create an object to access AMZN stock\n",
    "stock = yf.Ticker('AMZN')"
   ]
  },
  {
   "cell_type": "code",
   "execution_count": 4,
   "id": "e19d8323-9fe9-4577-9598-28aa0084de47",
   "metadata": {},
   "outputs": [
    {
     "data": {
      "text/html": [
       "<div>\n",
       "<style scoped>\n",
       "    .dataframe tbody tr th:only-of-type {\n",
       "        vertical-align: middle;\n",
       "    }\n",
       "\n",
       "    .dataframe tbody tr th {\n",
       "        vertical-align: top;\n",
       "    }\n",
       "\n",
       "    .dataframe thead th {\n",
       "        text-align: right;\n",
       "    }\n",
       "</style>\n",
       "<table border=\"1\" class=\"dataframe\">\n",
       "  <thead>\n",
       "    <tr style=\"text-align: right;\">\n",
       "      <th></th>\n",
       "      <th>Open</th>\n",
       "      <th>High</th>\n",
       "      <th>Low</th>\n",
       "      <th>Close</th>\n",
       "      <th>Volume</th>\n",
       "      <th>Dividends</th>\n",
       "      <th>Stock Splits</th>\n",
       "    </tr>\n",
       "    <tr>\n",
       "      <th>Date</th>\n",
       "      <th></th>\n",
       "      <th></th>\n",
       "      <th></th>\n",
       "      <th></th>\n",
       "      <th></th>\n",
       "      <th></th>\n",
       "      <th></th>\n",
       "    </tr>\n",
       "  </thead>\n",
       "  <tbody>\n",
       "    <tr>\n",
       "      <th>2023-04-25 00:00:00-04:00</th>\n",
       "      <td>104.910004</td>\n",
       "      <td>105.449997</td>\n",
       "      <td>102.449997</td>\n",
       "      <td>102.570000</td>\n",
       "      <td>65026800</td>\n",
       "      <td>0.0</td>\n",
       "      <td>0.0</td>\n",
       "    </tr>\n",
       "    <tr>\n",
       "      <th>2023-04-26 00:00:00-04:00</th>\n",
       "      <td>105.040001</td>\n",
       "      <td>106.620003</td>\n",
       "      <td>104.099998</td>\n",
       "      <td>104.980003</td>\n",
       "      <td>73803800</td>\n",
       "      <td>0.0</td>\n",
       "      <td>0.0</td>\n",
       "    </tr>\n",
       "    <tr>\n",
       "      <th>2023-04-27 00:00:00-04:00</th>\n",
       "      <td>108.160004</td>\n",
       "      <td>110.860001</td>\n",
       "      <td>106.800003</td>\n",
       "      <td>109.820000</td>\n",
       "      <td>149961200</td>\n",
       "      <td>0.0</td>\n",
       "      <td>0.0</td>\n",
       "    </tr>\n",
       "    <tr>\n",
       "      <th>2023-04-28 00:00:00-04:00</th>\n",
       "      <td>107.730003</td>\n",
       "      <td>109.480003</td>\n",
       "      <td>104.330002</td>\n",
       "      <td>105.449997</td>\n",
       "      <td>130565000</td>\n",
       "      <td>0.0</td>\n",
       "      <td>0.0</td>\n",
       "    </tr>\n",
       "    <tr>\n",
       "      <th>2023-05-01 00:00:00-04:00</th>\n",
       "      <td>104.949997</td>\n",
       "      <td>105.230003</td>\n",
       "      <td>101.820000</td>\n",
       "      <td>102.050003</td>\n",
       "      <td>74728100</td>\n",
       "      <td>0.0</td>\n",
       "      <td>0.0</td>\n",
       "    </tr>\n",
       "    <tr>\n",
       "      <th>...</th>\n",
       "      <td>...</td>\n",
       "      <td>...</td>\n",
       "      <td>...</td>\n",
       "      <td>...</td>\n",
       "      <td>...</td>\n",
       "      <td>...</td>\n",
       "      <td>...</td>\n",
       "    </tr>\n",
       "    <tr>\n",
       "      <th>2024-04-18 00:00:00-04:00</th>\n",
       "      <td>181.470001</td>\n",
       "      <td>182.389999</td>\n",
       "      <td>178.649994</td>\n",
       "      <td>179.220001</td>\n",
       "      <td>30723800</td>\n",
       "      <td>0.0</td>\n",
       "      <td>0.0</td>\n",
       "    </tr>\n",
       "    <tr>\n",
       "      <th>2024-04-19 00:00:00-04:00</th>\n",
       "      <td>178.740005</td>\n",
       "      <td>179.000000</td>\n",
       "      <td>173.440002</td>\n",
       "      <td>174.630005</td>\n",
       "      <td>55950000</td>\n",
       "      <td>0.0</td>\n",
       "      <td>0.0</td>\n",
       "    </tr>\n",
       "    <tr>\n",
       "      <th>2024-04-22 00:00:00-04:00</th>\n",
       "      <td>176.940002</td>\n",
       "      <td>178.869995</td>\n",
       "      <td>174.559998</td>\n",
       "      <td>177.229996</td>\n",
       "      <td>37924900</td>\n",
       "      <td>0.0</td>\n",
       "      <td>0.0</td>\n",
       "    </tr>\n",
       "    <tr>\n",
       "      <th>2024-04-23 00:00:00-04:00</th>\n",
       "      <td>178.080002</td>\n",
       "      <td>179.929993</td>\n",
       "      <td>175.979996</td>\n",
       "      <td>179.539993</td>\n",
       "      <td>37046500</td>\n",
       "      <td>0.0</td>\n",
       "      <td>0.0</td>\n",
       "    </tr>\n",
       "    <tr>\n",
       "      <th>2024-04-24 00:00:00-04:00</th>\n",
       "      <td>179.940002</td>\n",
       "      <td>180.320007</td>\n",
       "      <td>176.179993</td>\n",
       "      <td>176.589996</td>\n",
       "      <td>34010800</td>\n",
       "      <td>0.0</td>\n",
       "      <td>0.0</td>\n",
       "    </tr>\n",
       "  </tbody>\n",
       "</table>\n",
       "<p>252 rows × 7 columns</p>\n",
       "</div>"
      ],
      "text/plain": [
       "                                 Open        High         Low       Close  \\\n",
       "Date                                                                        \n",
       "2023-04-25 00:00:00-04:00  104.910004  105.449997  102.449997  102.570000   \n",
       "2023-04-26 00:00:00-04:00  105.040001  106.620003  104.099998  104.980003   \n",
       "2023-04-27 00:00:00-04:00  108.160004  110.860001  106.800003  109.820000   \n",
       "2023-04-28 00:00:00-04:00  107.730003  109.480003  104.330002  105.449997   \n",
       "2023-05-01 00:00:00-04:00  104.949997  105.230003  101.820000  102.050003   \n",
       "...                               ...         ...         ...         ...   \n",
       "2024-04-18 00:00:00-04:00  181.470001  182.389999  178.649994  179.220001   \n",
       "2024-04-19 00:00:00-04:00  178.740005  179.000000  173.440002  174.630005   \n",
       "2024-04-22 00:00:00-04:00  176.940002  178.869995  174.559998  177.229996   \n",
       "2024-04-23 00:00:00-04:00  178.080002  179.929993  175.979996  179.539993   \n",
       "2024-04-24 00:00:00-04:00  179.940002  180.320007  176.179993  176.589996   \n",
       "\n",
       "                              Volume  Dividends  Stock Splits  \n",
       "Date                                                           \n",
       "2023-04-25 00:00:00-04:00   65026800        0.0           0.0  \n",
       "2023-04-26 00:00:00-04:00   73803800        0.0           0.0  \n",
       "2023-04-27 00:00:00-04:00  149961200        0.0           0.0  \n",
       "2023-04-28 00:00:00-04:00  130565000        0.0           0.0  \n",
       "2023-05-01 00:00:00-04:00   74728100        0.0           0.0  \n",
       "...                              ...        ...           ...  \n",
       "2024-04-18 00:00:00-04:00   30723800        0.0           0.0  \n",
       "2024-04-19 00:00:00-04:00   55950000        0.0           0.0  \n",
       "2024-04-22 00:00:00-04:00   37924900        0.0           0.0  \n",
       "2024-04-23 00:00:00-04:00   37046500        0.0           0.0  \n",
       "2024-04-24 00:00:00-04:00   34010800        0.0           0.0  \n",
       "\n",
       "[252 rows x 7 columns]"
      ]
     },
     "execution_count": 4,
     "metadata": {},
     "output_type": "execute_result"
    }
   ],
   "source": [
    "# Load AMZN's historical data\n",
    "hist_data = stock.history(period='1y')\n",
    "hist_data"
   ]
  },
  {
   "cell_type": "code",
   "execution_count": 5,
   "id": "e4a05a86-d5d8-4862-830d-1aa8320f3171",
   "metadata": {},
   "outputs": [
    {
     "data": {
      "text/plain": [
       "Date\n",
       "2023-04-25 00:00:00-04:00    102.570000\n",
       "2023-04-26 00:00:00-04:00    104.980003\n",
       "2023-04-27 00:00:00-04:00    109.820000\n",
       "2023-04-28 00:00:00-04:00    105.449997\n",
       "2023-05-01 00:00:00-04:00    102.050003\n",
       "                                ...    \n",
       "2024-04-18 00:00:00-04:00    179.220001\n",
       "2024-04-19 00:00:00-04:00    174.630005\n",
       "2024-04-22 00:00:00-04:00    177.229996\n",
       "2024-04-23 00:00:00-04:00    179.539993\n",
       "2024-04-24 00:00:00-04:00    176.589996\n",
       "Name: Close, Length: 252, dtype: float64"
      ]
     },
     "execution_count": 5,
     "metadata": {},
     "output_type": "execute_result"
    }
   ],
   "source": [
    "# Extract closing prices as a Series\n",
    "prices = hist_data['Close']\n",
    "prices"
   ]
  },
  {
   "cell_type": "code",
   "execution_count": 6,
   "id": "62f326e1-2d33-43e0-bc9e-05884f4ef681",
   "metadata": {},
   "outputs": [
    {
     "data": {
      "text/plain": [
       "Date\n",
       "2023-04-25 00:00:00-04:00         NaN\n",
       "2023-04-26 00:00:00-04:00    0.023224\n",
       "2023-04-27 00:00:00-04:00    0.045073\n",
       "2023-04-28 00:00:00-04:00   -0.040606\n",
       "2023-05-01 00:00:00-04:00   -0.032774\n",
       "                               ...   \n",
       "2024-04-18 00:00:00-04:00   -0.011429\n",
       "2024-04-19 00:00:00-04:00   -0.025945\n",
       "2024-04-22 00:00:00-04:00    0.014779\n",
       "2024-04-23 00:00:00-04:00    0.012950\n",
       "2024-04-24 00:00:00-04:00   -0.016567\n",
       "Name: Close, Length: 252, dtype: float64"
      ]
     },
     "execution_count": 6,
     "metadata": {},
     "output_type": "execute_result"
    }
   ],
   "source": [
    "# Compute the log-returns (daily)\n",
    "log_rets = np.log(prices / prices.shift(1))\n",
    "log_rets"
   ]
  },
  {
   "cell_type": "code",
   "execution_count": 7,
   "id": "0633c97d-bb71-4601-86ca-8526b3c37b19",
   "metadata": {},
   "outputs": [
    {
     "data": {
      "text/plain": [
       "Date\n",
       "2023-04-26 00:00:00-04:00    0.023224\n",
       "2023-04-27 00:00:00-04:00    0.045073\n",
       "2023-04-28 00:00:00-04:00   -0.040606\n",
       "2023-05-01 00:00:00-04:00   -0.032774\n",
       "2023-05-02 00:00:00-04:00    0.015364\n",
       "                               ...   \n",
       "2024-04-18 00:00:00-04:00   -0.011429\n",
       "2024-04-19 00:00:00-04:00   -0.025945\n",
       "2024-04-22 00:00:00-04:00    0.014779\n",
       "2024-04-23 00:00:00-04:00    0.012950\n",
       "2024-04-24 00:00:00-04:00   -0.016567\n",
       "Name: Close, Length: 251, dtype: float64"
      ]
     },
     "execution_count": 7,
     "metadata": {},
     "output_type": "execute_result"
    }
   ],
   "source": [
    "# Delete the first NaN row\n",
    "log_rets = log_rets.dropna()\n",
    "log_rets"
   ]
  },
  {
   "cell_type": "code",
   "execution_count": 8,
   "id": "75f0a24b-ea50-45d8-a53f-3de22b62651b",
   "metadata": {},
   "outputs": [
    {
     "data": {
      "text/plain": [
       "<Axes: xlabel='Date'>"
      ]
     },
     "execution_count": 8,
     "metadata": {},
     "output_type": "execute_result"
    },
    {
     "data": {
      "image/png": "[encoded data removed]",
      "text/plain": [
       "<Figure size 640x480 with 1 Axes>"
      ]
     },
     "metadata": {},
     "output_type": "display_data"
    }
   ],
   "source": [
    "# Plot of log-returns\n",
    "log_rets.plot()"
   ]
  },
  {
   "cell_type": "code",
   "execution_count": 9,
   "id": "54e87cec-3c9e-4bb1-93c5-76630ff13385",
   "metadata": {},
   "outputs": [
    {
     "name": "stdout",
     "output_type": "stream",
     "text": [
      "Historical volatility of AMZN = 0.2901218194069458\n"
     ]
    }
   ],
   "source": [
    "# Compute the historical volatility\n",
    "import statistics as stat\n",
    "\n",
    "vol_day = stat.stdev(log_rets)\n",
    "vol_year = vol_day * np.sqrt(252)\n",
    "\n",
    "print('Historical volatility of AMZN =', vol_year)"
   ]
  },
  {
   "cell_type": "code",
   "execution_count": null,
   "id": "f0d94196-7552-431b-98f9-e350d6c4903f",
   "metadata": {},
   "outputs": [],
   "source": []
  }
 ],
 "metadata": {
  "kernelspec": {
   "display_name": "Python 3 (ipykernel)",
   "language": "python",
   "name": "python3"
  },
  "language_info": {
   "codemirror_mode": {
    "name": "ipython",
    "version": 3
   },
   "file_extension": ".py",
   "mimetype": "text/x-python",
   "name": "python",
   "nbconvert_exporter": "python",
   "pygments_lexer": "ipython3",
   "version": "3.10.11"
  }
 },
 "nbformat": 4,
 "nbformat_minor": 5
}
