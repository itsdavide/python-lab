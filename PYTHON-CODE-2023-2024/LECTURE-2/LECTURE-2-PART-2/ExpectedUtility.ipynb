{
 "cells": [
  {
   "cell_type": "code",
   "execution_count": 1,
   "id": "a6a29093-60f5-4252-9429-baf6e66ec2c3",
   "metadata": {},
   "outputs": [],
   "source": [
    "# Import the libraries\n",
    "import numpy as np\n",
    "from scipy.stats import norm\n",
    "from scipy.integrate import quad"
   ]
  },
  {
   "cell_type": "code",
   "execution_count": 2,
   "id": "41483a63-5d2e-413d-b518-9ef6d04b2f54",
   "metadata": {},
   "outputs": [],
   "source": [
    "# Generic normal density function\n",
    "def f(x, mu, sigma):\n",
    "    return norm.pdf(x, mu, sigma)"
   ]
  },
  {
   "cell_type": "code",
   "execution_count": 3,
   "id": "efd41a8f-d05f-4369-b414-e9a3da6c2537",
   "metadata": {},
   "outputs": [],
   "source": [
    "# Exponential utility function\n",
    "def u(x, a):\n",
    "    return - np.exp(-a * x)"
   ]
  },
  {
   "cell_type": "code",
   "execution_count": 4,
   "id": "4eaeaa37-20a3-4eaf-a5d5-31b3a6e7c24d",
   "metadata": {},
   "outputs": [],
   "source": [
    "# Expected utility integrand\n",
    "def f_eu(x, mu, sigma, a):\n",
    "    return u(x, a) * f(x, mu, sigma)"
   ]
  },
  {
   "cell_type": "code",
   "execution_count": 5,
   "id": "6afadff6-72fc-49fd-bd1b-449ea46ffeec",
   "metadata": {},
   "outputs": [],
   "source": [
    "# Expected utility\n",
    "def expected_utility(mu, sigma, a):\n",
    "    I, err = quad(f_eu, -np.infty, +np.infty, args=(mu, sigma, a))\n",
    "    \n",
    "    return I"
   ]
  },
  {
   "cell_type": "code",
   "execution_count": 6,
   "id": "77b2eff8-e8f2-4f4f-b741-4d7a0b6d3616",
   "metadata": {},
   "outputs": [],
   "source": [
    "# Set the parameter of the exponential utility\n",
    "a = 0.1"
   ]
  },
  {
   "cell_type": "code",
   "execution_count": 7,
   "id": "4a45fef8-9d77-4c8e-8451-bb04bdf368c2",
   "metadata": {},
   "outputs": [
    {
     "data": {
      "text/plain": [
       "-0.3690585409369097"
      ]
     },
     "execution_count": 7,
     "metadata": {},
     "output_type": "execute_result"
    }
   ],
   "source": [
    "expected_utility(10, 0.8, a)"
   ]
  },
  {
   "cell_type": "code",
   "execution_count": 8,
   "id": "caeb2c9e-085f-43b4-9eaf-5e4f8991eb77",
   "metadata": {},
   "outputs": [
    {
     "data": {
      "text/plain": [
       "-0.40675265725894194"
      ]
     },
     "execution_count": 8,
     "metadata": {},
     "output_type": "execute_result"
    }
   ],
   "source": [
    "expected_utility(9, 0.3, a)"
   ]
  },
  {
   "cell_type": "code",
   "execution_count": 9,
   "id": "3a5ed433-61b3-46e7-be70-2a6bae4e749e",
   "metadata": {},
   "outputs": [
    {
     "data": {
      "text/plain": [
       "-0.4068950456053837"
      ]
     },
     "execution_count": 9,
     "metadata": {},
     "output_type": "execute_result"
    }
   ],
   "source": [
    "expected_utility(9, 0.4, a)"
   ]
  },
  {
   "cell_type": "code",
   "execution_count": 10,
   "id": "7b9c862c-0e89-4dad-98c5-58c8005d5526",
   "metadata": {},
   "outputs": [
    {
     "data": {
      "text/plain": [
       "-0.3683395779992368"
      ]
     },
     "execution_count": 10,
     "metadata": {},
     "output_type": "execute_result"
    }
   ],
   "source": [
    "expected_utility(10, 0.5, a)"
   ]
  },
  {
   "cell_type": "code",
   "execution_count": 11,
   "id": "4af70e43-bc91-4b11-9edb-fa0d62edcdc3",
   "metadata": {},
   "outputs": [
    {
     "data": {
      "text/plain": [
       "-0.33347079122364953"
      ]
     },
     "execution_count": 11,
     "metadata": {},
     "output_type": "execute_result"
    }
   ],
   "source": [
    "expected_utility(11, 0.6, a)"
   ]
  },
  {
   "cell_type": "code",
   "execution_count": 12,
   "id": "d7bcc489-4a33-4631-9c0d-5dae3c58eca8",
   "metadata": {},
   "outputs": [],
   "source": [
    "parameters = [(10, 0.8), (9, 0.3), (9, 0.4), (10, 0.5), (11, 0.6)]"
   ]
  },
  {
   "cell_type": "code",
   "execution_count": 13,
   "id": "c5391395-6a50-4fb1-bcba-6d6bb37fa3e1",
   "metadata": {},
   "outputs": [
    {
     "name": "stdout",
     "output_type": "stream",
     "text": [
      "Maximum eu: 11 ,  0.6\n"
     ]
    }
   ],
   "source": [
    "max_eu = -np.infty\n",
    "max_mu = 0\n",
    "max_sigma = 0\n",
    "for mu, sigma in parameters:\n",
    "    eu = expected_utility(mu, sigma, a)\n",
    "    if eu >= max_eu:\n",
    "        max_eu = eu\n",
    "        max_mu = mu\n",
    "        max_sigma = sigma\n",
    "        \n",
    "print('Maximum eu:', max_mu, ', ', max_sigma)"
   ]
  },
  {
   "cell_type": "code",
   "execution_count": 14,
   "id": "65535f4a-986f-4857-9bfa-4b8f306daccf",
   "metadata": {},
   "outputs": [],
   "source": [
    "# Plot the utility function\n",
    "x = np.linspace(-10, 10, 100)\n",
    "y = u(x, a)"
   ]
  },
  {
   "cell_type": "code",
   "execution_count": 15,
   "id": "3c617e03-906d-4ca0-9777-e6e2bbef373c",
   "metadata": {},
   "outputs": [
    {
     "data": {
      "text/plain": [
       "[<matplotlib.lines.Line2D at 0x7fb930619120>]"
      ]
     },
     "execution_count": 15,
     "metadata": {},
     "output_type": "execute_result"
    },
    {
     "data": {
      "image/png": "[encoded data removed]",
      "text/plain": [
       "<Figure size 640x480 with 1 Axes>"
      ]
     },
     "metadata": {},
     "output_type": "display_data"
    }
   ],
   "source": [
    "import matplotlib.pyplot as plt\n",
    "\n",
    "plt.title('Utility function')\n",
    "plt.xlabel('$x$')\n",
    "plt.ylabel('$u(x)$')\n",
    "plt.plot(x, y)"
   ]
  },
  {
   "cell_type": "code",
   "execution_count": null,
   "id": "d01bfbe2-be6b-4bda-b0c6-c7079d868e0a",
   "metadata": {},
   "outputs": [],
   "source": []
  }
 ],
 "metadata": {
  "kernelspec": {
   "display_name": "Python 3 (ipykernel)",
   "language": "python",
   "name": "python3"
  },
  "language_info": {
   "codemirror_mode": {
    "name": "ipython",
    "version": 3
   },
   "file_extension": ".py",
   "mimetype": "text/x-python",
   "name": "python",
   "nbconvert_exporter": "python",
   "pygments_lexer": "ipython3",
   "version": "3.10.11"
  }
 },
 "nbformat": 4,
 "nbformat_minor": 5
}
