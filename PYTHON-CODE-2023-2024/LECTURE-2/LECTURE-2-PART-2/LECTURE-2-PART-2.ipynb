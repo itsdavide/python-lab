{
 "cells": [
  {
   "cell_type": "code",
   "execution_count": 1,
   "id": "6625bd7b-fb8e-4f98-bba3-3b61c89efacc",
   "metadata": {},
   "outputs": [],
   "source": [
    "# Define a function to compute the square of a number\n",
    "def square(number):\n",
    "    return number**2"
   ]
  },
  {
   "cell_type": "code",
   "execution_count": 2,
   "id": "bc11588b-5d50-47fc-a7ae-0d20e4b81a48",
   "metadata": {},
   "outputs": [
    {
     "data": {
      "text/plain": [
       "49"
      ]
     },
     "execution_count": 2,
     "metadata": {},
     "output_type": "execute_result"
    }
   ],
   "source": [
    "square(7)"
   ]
  },
  {
   "cell_type": "code",
   "execution_count": 3,
   "id": "672a39c7-4806-430b-b474-627508a8ffc0",
   "metadata": {},
   "outputs": [
    {
     "data": {
      "text/plain": [
       "49"
      ]
     },
     "execution_count": 3,
     "metadata": {},
     "output_type": "execute_result"
    }
   ],
   "source": [
    "a = square(7)\n",
    "a"
   ]
  },
  {
   "cell_type": "code",
   "execution_count": 4,
   "id": "f2428fbe-1661-4fba-b9c9-4257865ba0b5",
   "metadata": {},
   "outputs": [
    {
     "data": {
      "text/plain": [
       "6.25"
      ]
     },
     "execution_count": 4,
     "metadata": {},
     "output_type": "execute_result"
    }
   ],
   "source": [
    "square(2.5)"
   ]
  },
  {
   "cell_type": "code",
   "execution_count": 5,
   "id": "bff60e2b-a34b-40a7-975d-5506f7e332cf",
   "metadata": {},
   "outputs": [],
   "source": [
    "# Global variable\n",
    "a = 10"
   ]
  },
  {
   "cell_type": "code",
   "execution_count": 6,
   "id": "d245e318-1334-4252-bc35-c6cb4d4942f3",
   "metadata": {},
   "outputs": [],
   "source": [
    "# Define a function\n",
    "def example1(x):\n",
    "    # Local variable\n",
    "    b = 10\n",
    "    print('Inside a=', a)\n",
    "    \n",
    "    return x * a * b"
   ]
  },
  {
   "cell_type": "code",
   "execution_count": 7,
   "id": "68b372ca-7767-4297-835f-fa4dcf409fdb",
   "metadata": {},
   "outputs": [
    {
     "name": "stdout",
     "output_type": "stream",
     "text": [
      "Inside a= 10\n"
     ]
    },
    {
     "data": {
      "text/plain": [
       "200"
      ]
     },
     "execution_count": 7,
     "metadata": {},
     "output_type": "execute_result"
    }
   ],
   "source": [
    "example1(2)"
   ]
  },
  {
   "cell_type": "code",
   "execution_count": 8,
   "id": "fc7ee4f6-1d3d-447f-9020-d59ddbc704d6",
   "metadata": {},
   "outputs": [
    {
     "ename": "NameError",
     "evalue": "name 'b' is not defined",
     "output_type": "error",
     "traceback": [
      "\u001b[0;31m---------------------------------------------------------------------------\u001b[0m",
      "\u001b[0;31mNameError\u001b[0m                                 Traceback (most recent call last)",
      "Cell \u001b[0;32mIn[8], line 1\u001b[0m\n\u001b[0;32m----> 1\u001b[0m \u001b[38;5;28mprint\u001b[39m(\u001b[38;5;124m'\u001b[39m\u001b[38;5;124mOutside b =\u001b[39m\u001b[38;5;124m'\u001b[39m, \u001b[43mb\u001b[49m)\n",
      "\u001b[0;31mNameError\u001b[0m: name 'b' is not defined"
     ]
    }
   ],
   "source": [
    "print('Outside b =', b)"
   ]
  },
  {
   "cell_type": "code",
   "execution_count": 9,
   "id": "9cba8b1e-388a-43c3-bc55-895d5dfb10ef",
   "metadata": {},
   "outputs": [],
   "source": [
    "# Import libraries\n",
    "import numpy as np\n",
    "import matplotlib.pyplot as plt\n",
    "from scipy.integrate import quad"
   ]
  },
  {
   "cell_type": "code",
   "execution_count": 10,
   "id": "98a86fe2-041b-41c3-a066-d5f4eb128d9e",
   "metadata": {},
   "outputs": [],
   "source": [
    "# Define the standard normal density\n",
    "def f(x):\n",
    "    return (1 / np.sqrt(2 * np.pi)) * np.exp(- x**2 / 2)"
   ]
  },
  {
   "cell_type": "code",
   "execution_count": 11,
   "id": "043813c3-c84c-466f-9c14-85bacf98cf15",
   "metadata": {},
   "outputs": [
    {
     "data": {
      "text/plain": [
       "0.3989422804014327"
      ]
     },
     "execution_count": 11,
     "metadata": {},
     "output_type": "execute_result"
    }
   ],
   "source": [
    "f(0)"
   ]
  },
  {
   "cell_type": "code",
   "execution_count": 12,
   "id": "d66af58d-0451-42a0-b69b-699cdf492332",
   "metadata": {},
   "outputs": [],
   "source": [
    "# Compute the integral\n",
    "I, err = quad(f, -np.infty, np.infty)"
   ]
  },
  {
   "cell_type": "code",
   "execution_count": 13,
   "id": "494565d9-dd03-4808-874f-05b438eb6c3f",
   "metadata": {},
   "outputs": [
    {
     "name": "stdout",
     "output_type": "stream",
     "text": [
      "The integral is: 1.0\n"
     ]
    }
   ],
   "source": [
    "print('The integral is:', round(I, 2))"
   ]
  },
  {
   "cell_type": "code",
   "execution_count": 14,
   "id": "626d6516-006f-4e5f-be9f-ac93206f020b",
   "metadata": {},
   "outputs": [
    {
     "data": {
      "text/plain": [
       "array([-5.        , -4.8989899 , -4.7979798 , -4.6969697 , -4.5959596 ,\n",
       "       -4.49494949, -4.39393939, -4.29292929, -4.19191919, -4.09090909,\n",
       "       -3.98989899, -3.88888889, -3.78787879, -3.68686869, -3.58585859,\n",
       "       -3.48484848, -3.38383838, -3.28282828, -3.18181818, -3.08080808,\n",
       "       -2.97979798, -2.87878788, -2.77777778, -2.67676768, -2.57575758,\n",
       "       -2.47474747, -2.37373737, -2.27272727, -2.17171717, -2.07070707,\n",
       "       -1.96969697, -1.86868687, -1.76767677, -1.66666667, -1.56565657,\n",
       "       -1.46464646, -1.36363636, -1.26262626, -1.16161616, -1.06060606,\n",
       "       -0.95959596, -0.85858586, -0.75757576, -0.65656566, -0.55555556,\n",
       "       -0.45454545, -0.35353535, -0.25252525, -0.15151515, -0.05050505,\n",
       "        0.05050505,  0.15151515,  0.25252525,  0.35353535,  0.45454545,\n",
       "        0.55555556,  0.65656566,  0.75757576,  0.85858586,  0.95959596,\n",
       "        1.06060606,  1.16161616,  1.26262626,  1.36363636,  1.46464646,\n",
       "        1.56565657,  1.66666667,  1.76767677,  1.86868687,  1.96969697,\n",
       "        2.07070707,  2.17171717,  2.27272727,  2.37373737,  2.47474747,\n",
       "        2.57575758,  2.67676768,  2.77777778,  2.87878788,  2.97979798,\n",
       "        3.08080808,  3.18181818,  3.28282828,  3.38383838,  3.48484848,\n",
       "        3.58585859,  3.68686869,  3.78787879,  3.88888889,  3.98989899,\n",
       "        4.09090909,  4.19191919,  4.29292929,  4.39393939,  4.49494949,\n",
       "        4.5959596 ,  4.6969697 ,  4.7979798 ,  4.8989899 ,  5.        ])"
      ]
     },
     "execution_count": 14,
     "metadata": {},
     "output_type": "execute_result"
    }
   ],
   "source": [
    "# Sample some coordinates\n",
    "x = np.linspace(-5, 5, 100)\n",
    "x"
   ]
  },
  {
   "cell_type": "code",
   "execution_count": 15,
   "id": "ed0bd7ce-5221-40d0-8181-b0d68898cf57",
   "metadata": {},
   "outputs": [
    {
     "data": {
      "text/plain": [
       "array([1.48671951e-06, 2.45106104e-06, 3.99989037e-06, 6.46116639e-06,\n",
       "       1.03310066e-05, 1.63509589e-05, 2.56160812e-05, 3.97238224e-05,\n",
       "       6.09759040e-05, 9.26476353e-05, 1.39341123e-04, 2.07440309e-04,\n",
       "       3.05686225e-04, 4.45889725e-04, 6.43795498e-04, 9.20104770e-04,\n",
       "       1.30165384e-03, 1.82273110e-03, 2.52649578e-03, 3.46643792e-03,\n",
       "       4.70779076e-03, 6.32877643e-03, 8.42153448e-03, 1.10925548e-02,\n",
       "       1.44624148e-02, 1.86646099e-02, 2.38432745e-02, 3.01496139e-02,\n",
       "       3.77369231e-02, 4.67541424e-02, 5.73380051e-02, 6.96039584e-02,\n",
       "       8.36361772e-02, 9.94771388e-02, 1.17117360e-01, 1.36486009e-01,\n",
       "       1.57443188e-01, 1.79774665e-01, 2.03189836e-01, 2.27323506e-01,\n",
       "       2.51741947e-01, 2.75953371e-01, 2.99422683e-01, 3.21590023e-01,\n",
       "       3.41892294e-01, 3.59786558e-01, 3.74773979e-01, 3.86422853e-01,\n",
       "       3.94389234e-01, 3.98433802e-01, 3.98433802e-01, 3.94389234e-01,\n",
       "       3.86422853e-01, 3.74773979e-01, 3.59786558e-01, 3.41892294e-01,\n",
       "       3.21590023e-01, 2.99422683e-01, 2.75953371e-01, 2.51741947e-01,\n",
       "       2.27323506e-01, 2.03189836e-01, 1.79774665e-01, 1.57443188e-01,\n",
       "       1.36486009e-01, 1.17117360e-01, 9.94771388e-02, 8.36361772e-02,\n",
       "       6.96039584e-02, 5.73380051e-02, 4.67541424e-02, 3.77369231e-02,\n",
       "       3.01496139e-02, 2.38432745e-02, 1.86646099e-02, 1.44624148e-02,\n",
       "       1.10925548e-02, 8.42153448e-03, 6.32877643e-03, 4.70779076e-03,\n",
       "       3.46643792e-03, 2.52649578e-03, 1.82273110e-03, 1.30165384e-03,\n",
       "       9.20104770e-04, 6.43795498e-04, 4.45889725e-04, 3.05686225e-04,\n",
       "       2.07440309e-04, 1.39341123e-04, 9.26476353e-05, 6.09759040e-05,\n",
       "       3.97238224e-05, 2.56160812e-05, 1.63509589e-05, 1.03310066e-05,\n",
       "       6.46116639e-06, 3.99989037e-06, 2.45106104e-06, 1.48671951e-06])"
      ]
     },
     "execution_count": 15,
     "metadata": {},
     "output_type": "execute_result"
    }
   ],
   "source": [
    "y = f(x)\n",
    "y"
   ]
  },
  {
   "cell_type": "code",
   "execution_count": 16,
   "id": "1901daa4-e83a-47cd-a53e-1bda34e2077d",
   "metadata": {},
   "outputs": [
    {
     "data": {
      "text/plain": [
       "[<matplotlib.lines.Line2D at 0x7f7a3d319b70>]"
      ]
     },
     "execution_count": 16,
     "metadata": {},
     "output_type": "execute_result"
    },
    {
     "data": {
      "image/png": "[encoded data removed]",
      "text/plain": [
       "<Figure size 640x480 with 1 Axes>"
      ]
     },
     "metadata": {},
     "output_type": "display_data"
    }
   ],
   "source": [
    "# Plot the graph\n",
    "plt.title('Standard normal density')\n",
    "plt.xlabel('$x$')\n",
    "plt.ylabel('$f(x)$')\n",
    "plt.plot(x, y)"
   ]
  },
  {
   "cell_type": "code",
   "execution_count": null,
   "id": "13eb1179-31f6-448e-871c-617bcb8f376c",
   "metadata": {},
   "outputs": [],
   "source": []
  }
 ],
 "metadata": {
  "kernelspec": {
   "display_name": "Python 3 (ipykernel)",
   "language": "python",
   "name": "python3"
  },
  "language_info": {
   "codemirror_mode": {
    "name": "ipython",
    "version": 3
   },
   "file_extension": ".py",
   "mimetype": "text/x-python",
   "name": "python",
   "nbconvert_exporter": "python",
   "pygments_lexer": "ipython3",
   "version": "3.10.11"
  }
 },
 "nbformat": 4,
 "nbformat_minor": 5
}
