{
 "cells": [
  {
   "cell_type": "code",
   "execution_count": 1,
   "id": "5b640487-0537-41b8-8f1f-e52e57c56722",
   "metadata": {},
   "outputs": [],
   "source": [
    "import statistics as stat"
   ]
  },
  {
   "cell_type": "code",
   "execution_count": 2,
   "id": "ea3bb7a9-e698-4075-b5ea-3fa792155430",
   "metadata": {},
   "outputs": [],
   "source": [
    "# List of marks of student\n",
    "marks = [26, 28, 27, 30]"
   ]
  },
  {
   "cell_type": "code",
   "execution_count": 3,
   "id": "309b275c-9e1a-47c7-aadb-e15fc8d07241",
   "metadata": {},
   "outputs": [
    {
     "name": "stdout",
     "output_type": "stream",
     "text": [
      "Mean = 27.75\n"
     ]
    }
   ],
   "source": [
    "print('Mean =', stat.mean(marks))"
   ]
  },
  {
   "cell_type": "code",
   "execution_count": 4,
   "id": "0b7ce33f-49db-4276-b2f2-0bdcc7b1f469",
   "metadata": {},
   "outputs": [
    {
     "name": "stdout",
     "output_type": "stream",
     "text": [
      "Variance (pop) = 2.1875\n",
      "Variance (samp) = 2.9166666666666665\n"
     ]
    }
   ],
   "source": [
    "print('Variance (pop) =', stat.pvariance(marks))\n",
    "print('Variance (samp) =', stat.variance(marks))"
   ]
  },
  {
   "cell_type": "code",
   "execution_count": 5,
   "id": "a46f29d9-34db-49a7-a581-d9b4c6de4810",
   "metadata": {},
   "outputs": [
    {
     "name": "stdout",
     "output_type": "stream",
     "text": [
      "Mode = 26\n",
      "Median = 27.5\n",
      "Quantiles = [26.25, 27.5, 29.5]\n"
     ]
    }
   ],
   "source": [
    "print('Mode =', stat.mode(marks))\n",
    "print('Median =', stat.median(marks))\n",
    "print('Quantiles =', stat.quantiles(marks))"
   ]
  },
  {
   "cell_type": "code",
   "execution_count": 6,
   "id": "6990367a-48ce-49d7-b3a8-3f7ae95fb4f5",
   "metadata": {},
   "outputs": [
    {
     "name": "stdout",
     "output_type": "stream",
     "text": [
      "Minimum = 26\n",
      "Maximum = 30\n"
     ]
    }
   ],
   "source": [
    "print('Minimum =', min(marks))\n",
    "print('Maximum =', max(marks))"
   ]
  },
  {
   "cell_type": "code",
   "execution_count": 7,
   "id": "21ffc120-b4da-42e5-b036-1f97cefedd92",
   "metadata": {},
   "outputs": [
    {
     "name": "stdout",
     "output_type": "stream",
     "text": [
      "5\n",
      "2\n",
      "6\n",
      "1\n",
      "4\n",
      "3\n",
      "2\n",
      "2\n",
      "1\n",
      "4\n"
     ]
    }
   ],
   "source": [
    "import random\n",
    "\n",
    "for k in range(10): # k = 0, 1, ..., 9\n",
    "    print(random.randrange(1, 7))   "
   ]
  },
  {
   "cell_type": "code",
   "execution_count": 8,
   "id": "d26252c9-bef3-4857-ac31-a3cb853d78af",
   "metadata": {},
   "outputs": [
    {
     "name": "stdout",
     "output_type": "stream",
     "text": [
      "3\n",
      "3\n",
      "4\n",
      "4\n",
      "2\n",
      "6\n",
      "6\n",
      "4\n",
      "6\n",
      "1\n"
     ]
    }
   ],
   "source": [
    "for k in range(10): # k = 0, 1, ..., 9\n",
    "    print(random.randrange(1, 7))"
   ]
  },
  {
   "cell_type": "code",
   "execution_count": 9,
   "id": "6ffac46c-43fe-477e-bab3-1ff60679f389",
   "metadata": {},
   "outputs": [
    {
     "name": "stdout",
     "output_type": "stream",
     "text": [
      "1\n",
      "2\n",
      "2\n",
      "3\n",
      "6\n",
      "2\n",
      "4\n",
      "1\n",
      "6\n",
      "1\n"
     ]
    }
   ],
   "source": [
    "# Fix the seed\n",
    "random.seed(32)\n",
    "\n",
    "for k in range(10): # k = 0, 1, ..., 9\n",
    "    print(random.randrange(1, 7))"
   ]
  },
  {
   "cell_type": "code",
   "execution_count": 10,
   "id": "492813e5-55ca-46f8-bb95-b0a5a581f1b2",
   "metadata": {},
   "outputs": [
    {
     "name": "stdout",
     "output_type": "stream",
     "text": [
      "1\n",
      "2\n",
      "2\n",
      "3\n",
      "6\n",
      "2\n",
      "4\n",
      "1\n",
      "6\n",
      "1\n"
     ]
    }
   ],
   "source": [
    "# Fix the seed\n",
    "random.seed(32)\n",
    "\n",
    "for k in range(10): # k = 0, 1, ..., 9\n",
    "    print(random.randrange(1, 7))"
   ]
  },
  {
   "cell_type": "code",
   "execution_count": 11,
   "id": "58d85e2c-1858-4fed-b55f-fc417fec69e7",
   "metadata": {},
   "outputs": [
    {
     "data": {
      "text/plain": [
       "[8, 9, 6, 7]"
      ]
     },
     "execution_count": 11,
     "metadata": {},
     "output_type": "execute_result"
    }
   ],
   "source": [
    "# Create a list\n",
    "l = [8, 9, 6 ,7]\n",
    "l"
   ]
  },
  {
   "cell_type": "code",
   "execution_count": 12,
   "id": "5a244796-da5a-46e1-a4ff-04bb527c10f6",
   "metadata": {},
   "outputs": [
    {
     "data": {
      "text/plain": [
       "[8, 5, 6, 7]"
      ]
     },
     "execution_count": 12,
     "metadata": {},
     "output_type": "execute_result"
    }
   ],
   "source": [
    "l[1] = 5\n",
    "l"
   ]
  },
  {
   "cell_type": "code",
   "execution_count": 13,
   "id": "63d3f262-1851-4f46-8d22-3a446655c68b",
   "metadata": {},
   "outputs": [
    {
     "name": "stdout",
     "output_type": "stream",
     "text": [
      "8\n",
      "5\n",
      "6\n",
      "7\n"
     ]
    }
   ],
   "source": [
    "# Visit the list iterating its elements\n",
    "for element in l:\n",
    "    print(element)"
   ]
  },
  {
   "cell_type": "code",
   "execution_count": 14,
   "id": "47834124-8a41-4ee0-aa1f-4bce9483f9c5",
   "metadata": {},
   "outputs": [
    {
     "name": "stdout",
     "output_type": "stream",
     "text": [
      "8\n",
      "5\n",
      "6\n",
      "7\n"
     ]
    }
   ],
   "source": [
    "# Visit the list through the indices\n",
    "for k in range(len(l)):\n",
    "    print(l[k])"
   ]
  },
  {
   "cell_type": "code",
   "execution_count": 15,
   "id": "8b0d0aa2-e312-444d-8ce4-11397dd6bf30",
   "metadata": {},
   "outputs": [
    {
     "name": "stdout",
     "output_type": "stream",
     "text": [
      "List a: [0]\n",
      "List a: [0, 1]\n",
      "List a: [0, 1, 4]\n",
      "List a: [0, 1, 4, 9]\n",
      "List a: [0, 1, 4, 9, 16]\n",
      "List a: [0, 1, 4, 9, 16, 25]\n",
      "List a: [0, 1, 4, 9, 16, 25, 36]\n",
      "List a: [0, 1, 4, 9, 16, 25, 36, 49]\n",
      "List a: [0, 1, 4, 9, 16, 25, 36, 49, 64]\n",
      "List a: [0, 1, 4, 9, 16, 25, 36, 49, 64, 81]\n"
     ]
    }
   ],
   "source": [
    "# Create an empty list\n",
    "a = []\n",
    "\n",
    "# Add to the list all the squares of numbers from 0 to 9\n",
    "for i in range(10):\n",
    "    a.append(i**2)\n",
    "    \n",
    "    print('List a:', a)\n",
    "    "
   ]
  },
  {
   "cell_type": "code",
   "execution_count": 16,
   "id": "5c6a646e-7276-428b-b04d-5149489526d9",
   "metadata": {},
   "outputs": [
    {
     "data": {
      "text/plain": [
       "tuple"
      ]
     },
     "execution_count": 16,
     "metadata": {},
     "output_type": "execute_result"
    }
   ],
   "source": [
    "# Create a tuple\n",
    "t = (10, 'hello', 3.3)\n",
    "type(t)"
   ]
  },
  {
   "cell_type": "code",
   "execution_count": 17,
   "id": "bef6f837-23a8-4bf2-9e50-0492f35c7a4e",
   "metadata": {},
   "outputs": [
    {
     "ename": "TypeError",
     "evalue": "'tuple' object does not support item assignment",
     "output_type": "error",
     "traceback": [
      "\u001b[0;31m---------------------------------------------------------------------------\u001b[0m",
      "\u001b[0;31mTypeError\u001b[0m                                 Traceback (most recent call last)",
      "Cell \u001b[0;32mIn[17], line 2\u001b[0m\n\u001b[1;32m      1\u001b[0m \u001b[38;5;66;03m# We should get an error\u001b[39;00m\n\u001b[0;32m----> 2\u001b[0m t[\u001b[38;5;241m0\u001b[39m] \u001b[38;5;241m=\u001b[39m \u001b[38;5;241m11\u001b[39m\n",
      "\u001b[0;31mTypeError\u001b[0m: 'tuple' object does not support item assignment"
     ]
    }
   ],
   "source": [
    "# We should get an error\n",
    "t[0] = 11"
   ]
  },
  {
   "cell_type": "code",
   "execution_count": 18,
   "id": "a90f6f6c-5414-4b7d-be75-950843e23d70",
   "metadata": {},
   "outputs": [],
   "source": [
    "# Unpacking a tuple\n",
    "first, second, third = t"
   ]
  },
  {
   "cell_type": "code",
   "execution_count": 19,
   "id": "f517719a-f0ae-47b7-a827-db3f9de0cfbc",
   "metadata": {},
   "outputs": [
    {
     "data": {
      "text/plain": [
       "10"
      ]
     },
     "execution_count": 19,
     "metadata": {},
     "output_type": "execute_result"
    }
   ],
   "source": [
    "first"
   ]
  },
  {
   "cell_type": "code",
   "execution_count": 20,
   "id": "0a02b5bb-1730-48bd-9f1d-bb7bf48edead",
   "metadata": {},
   "outputs": [
    {
     "data": {
      "text/plain": [
       "'hello'"
      ]
     },
     "execution_count": 20,
     "metadata": {},
     "output_type": "execute_result"
    }
   ],
   "source": [
    "second"
   ]
  },
  {
   "cell_type": "code",
   "execution_count": 21,
   "id": "6a9b2276-09db-4200-8eb0-45092e7fa3d8",
   "metadata": {},
   "outputs": [
    {
     "data": {
      "text/plain": [
       "3.3"
      ]
     },
     "execution_count": 21,
     "metadata": {},
     "output_type": "execute_result"
    }
   ],
   "source": [
    "third"
   ]
  },
  {
   "cell_type": "code",
   "execution_count": 22,
   "id": "882b1123-d17d-44c2-bda5-5417d91c6a4c",
   "metadata": {},
   "outputs": [
    {
     "data": {
      "text/plain": [
       "('hello', 10, 3.3)"
      ]
     },
     "execution_count": 22,
     "metadata": {},
     "output_type": "execute_result"
    }
   ],
   "source": [
    "# Packing\n",
    "s = (second, first, third)\n",
    "s"
   ]
  },
  {
   "cell_type": "code",
   "execution_count": null,
   "id": "ffee81a4-978d-4558-a394-d4f383f0cee1",
   "metadata": {},
   "outputs": [],
   "source": []
  }
 ],
 "metadata": {
  "kernelspec": {
   "display_name": "Python 3 (ipykernel)",
   "language": "python",
   "name": "python3"
  },
  "language_info": {
   "codemirror_mode": {
    "name": "ipython",
    "version": 3
   },
   "file_extension": ".py",
   "mimetype": "text/x-python",
   "name": "python",
   "nbconvert_exporter": "python",
   "pygments_lexer": "ipython3",
   "version": "3.10.11"
  }
 },
 "nbformat": 4,
 "nbformat_minor": 5
}
