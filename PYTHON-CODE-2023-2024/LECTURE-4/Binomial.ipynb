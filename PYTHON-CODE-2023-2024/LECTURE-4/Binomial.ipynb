{
 "cells": [
  {
   "cell_type": "code",
   "execution_count": 1,
   "id": "55f9535c-db75-4f85-8d43-ea9bc4b2d9b4",
   "metadata": {},
   "outputs": [],
   "source": [
    "# Import the libraries\n",
    "import numpy as np"
   ]
  },
  {
   "cell_type": "code",
   "execution_count": 2,
   "id": "eb6714a9-3f07-4c72-98c1-35280bbe5042",
   "metadata": {},
   "outputs": [],
   "source": [
    "# Build the market\n",
    "# Bond\n",
    "B1 = np.array([11, 11]) # Payoff\n",
    "B0 = 10 # Price\n",
    "# Stock\n",
    "S1 = np.array([20, 5]) # Payoff\n",
    "S0 = 10 # Price"
   ]
  },
  {
   "cell_type": "code",
   "execution_count": 3,
   "id": "af30e915-30ad-49ce-a52b-5748e76efa7b",
   "metadata": {},
   "outputs": [
    {
     "data": {
      "text/plain": [
       "array([[11, 20],\n",
       "       [11,  5]])"
      ]
     },
     "execution_count": 3,
     "metadata": {},
     "output_type": "execute_result"
    }
   ],
   "source": [
    "# Payoffs at time T = 1\n",
    "M1 = np.array([B1, S1]).T\n",
    "M1"
   ]
  },
  {
   "cell_type": "code",
   "execution_count": 4,
   "id": "e0087a03-45c0-4124-a7ea-2dfaebde2963",
   "metadata": {},
   "outputs": [
    {
     "data": {
      "text/plain": [
       "array([[10, 10]])"
      ]
     },
     "execution_count": 4,
     "metadata": {},
     "output_type": "execute_result"
    }
   ],
   "source": [
    "# Prices at time t = 0\n",
    "M0 = np.array([B0, S0]).reshape(1, 2)\n",
    "M0"
   ]
  },
  {
   "cell_type": "code",
   "execution_count": 5,
   "id": "5c1c1308-6320-4baa-88dc-28fa1f51e921",
   "metadata": {},
   "outputs": [
    {
     "data": {
      "text/plain": [
       "array([[10],\n",
       "       [ 0]])"
      ]
     },
     "execution_count": 5,
     "metadata": {},
     "output_type": "execute_result"
    }
   ],
   "source": [
    "# Payoff of the call option at time T = 1\n",
    "K = 10 # Strike price\n",
    "C1 = np.maximum(S1 - K, 0)\n",
    "C1 = C1.reshape(2, 1)\n",
    "C1"
   ]
  },
  {
   "cell_type": "code",
   "execution_count": 6,
   "id": "e39b9069-0b3a-439e-97a8-571396a088c6",
   "metadata": {},
   "outputs": [],
   "source": [
    "# Plot the payoff of the call\n",
    "import matplotlib.pyplot as plt"
   ]
  },
  {
   "cell_type": "code",
   "execution_count": 7,
   "id": "015e5cf8-b31e-4219-bbaa-81707bdabae0",
   "metadata": {},
   "outputs": [],
   "source": [
    "# Tabulate the function for x = 0, 1, ..., 20\n",
    "x = np.arange(21)\n",
    "y = np.maximum(x - K, 0)"
   ]
  },
  {
   "cell_type": "code",
   "execution_count": 8,
   "id": "6cf23986-187c-420f-9d16-1daf01faafac",
   "metadata": {},
   "outputs": [
    {
     "data": {
      "text/plain": [
       "[<matplotlib.lines.Line2D at 0x7f97db09aaa0>]"
      ]
     },
     "execution_count": 8,
     "metadata": {},
     "output_type": "execute_result"
    },
    {
     "data": {
      "image/png": "[encoded data removed]",
      "text/plain": [
       "<Figure size 640x480 with 1 Axes>"
      ]
     },
     "metadata": {},
     "output_type": "display_data"
    }
   ],
   "source": [
    "plt.title('Payoff of the call option')\n",
    "plt.xlabel('$S_1$')\n",
    "plt.ylabel('$C_1$')\n",
    "plt.plot(x, y)"
   ]
  },
  {
   "cell_type": "code",
   "execution_count": 9,
   "id": "1c013bef-0248-4ccb-b8bc-435a1003ad19",
   "metadata": {},
   "outputs": [],
   "source": [
    "# Verify that this is a complete market\n",
    "r = np.linalg.matrix_rank(M1)\n",
    "rows, cols = M1.shape"
   ]
  },
  {
   "cell_type": "code",
   "execution_count": 10,
   "id": "9237773d-222f-498e-940b-da9326938693",
   "metadata": {},
   "outputs": [
    {
     "name": "stdout",
     "output_type": "stream",
     "text": [
      "The market is complete\n"
     ]
    }
   ],
   "source": [
    "if r == rows:\n",
    "    print('The market is complete')\n",
    "else:\n",
    "    print('The market is incomplete')"
   ]
  },
  {
   "cell_type": "code",
   "execution_count": 11,
   "id": "4db40f22-765c-44a3-a277-68d4e57f11bc",
   "metadata": {},
   "outputs": [
    {
     "name": "stdout",
     "output_type": "stream",
     "text": [
      "No redundant assets\n"
     ]
    }
   ],
   "source": [
    "if r == rows and r == cols:\n",
    "    print('No redundant assets')"
   ]
  },
  {
   "cell_type": "code",
   "execution_count": 12,
   "id": "3e1e855e-37a4-4f2d-a635-7358a28af707",
   "metadata": {},
   "outputs": [
    {
     "data": {
      "text/plain": [
       "array([[-0.3030303 ],\n",
       "       [ 0.66666667]])"
      ]
     },
     "execution_count": 12,
     "metadata": {},
     "output_type": "execute_result"
    }
   ],
   "source": [
    "# Replication of the payoff of the call\n",
    "M1inv = np.linalg.inv(M1)\n",
    "theta = M1inv @ C1\n",
    "theta"
   ]
  },
  {
   "cell_type": "code",
   "execution_count": 13,
   "id": "7c6e44b1-69c1-429e-a930-99f1af48845a",
   "metadata": {},
   "outputs": [
    {
     "data": {
      "text/plain": [
       "array([[10.],\n",
       "       [ 0.]])"
      ]
     },
     "execution_count": 13,
     "metadata": {},
     "output_type": "execute_result"
    }
   ],
   "source": [
    "# Proof of replication\n",
    "M1 @ theta"
   ]
  },
  {
   "cell_type": "code",
   "execution_count": 14,
   "id": "2bfcff93-8610-4815-80b5-515654983e48",
   "metadata": {},
   "outputs": [
    {
     "data": {
      "text/plain": [
       "3.6363636363636362"
      ]
     },
     "execution_count": 14,
     "metadata": {},
     "output_type": "execute_result"
    }
   ],
   "source": [
    "# No-arbitrage price of the call\n",
    "C0 = M0 @ theta\n",
    "C0 = C0[0, 0]\n",
    "C0"
   ]
  },
  {
   "cell_type": "code",
   "execution_count": 15,
   "id": "1645d91e-ce69-487f-9a81-6bdffdc998ba",
   "metadata": {},
   "outputs": [
    {
     "data": {
      "text/plain": [
       "3.6363636363636362"
      ]
     },
     "execution_count": 15,
     "metadata": {},
     "output_type": "execute_result"
    }
   ],
   "source": [
    "# Otherwise we use the dot product\n",
    "C0 = M0.dot(theta)\n",
    "C0 = C0[0, 0]\n",
    "C0"
   ]
  },
  {
   "cell_type": "code",
   "execution_count": 16,
   "id": "7127cd22-8365-4397-9cb4-b66258bb3826",
   "metadata": {},
   "outputs": [],
   "source": [
    "# Create the random generator with NumPy\n",
    "from numpy.random import default_rng"
   ]
  },
  {
   "cell_type": "code",
   "execution_count": 17,
   "id": "9f22c644-a19e-44fa-93d8-a2111fb89fb3",
   "metadata": {},
   "outputs": [],
   "source": [
    "# Set the seed (for reproducibility)\n",
    "rng = default_rng(100)"
   ]
  },
  {
   "cell_type": "code",
   "execution_count": 18,
   "id": "4326b20d-305b-4b02-ae8e-cf48942466c0",
   "metadata": {},
   "outputs": [],
   "source": [
    "# Generate 1000 random portfolios\n",
    "n = 1000\n",
    "b = rng.uniform(low=-2, high=2, size=n)\n",
    "a = rng.uniform(low=-2, high=2, size=n)"
   ]
  },
  {
   "cell_type": "code",
   "execution_count": 19,
   "id": "399a7f59-73b6-4b43-bd0d-c88e4dcc4476",
   "metadata": {},
   "outputs": [
    {
     "data": {
      "text/plain": [
       "array([[ 17.44928301,  15.41671456],\n",
       "       [ 43.43184736,  14.04424473],\n",
       "       [-15.40243263, -10.81812118],\n",
       "       ...,\n",
       "       [  8.78823461,  13.08449426],\n",
       "       [-39.31237027, -25.37855948],\n",
       "       [  4.74643848, -10.01064966]])"
      ]
     },
     "execution_count": 19,
     "metadata": {},
     "output_type": "execute_result"
    }
   ],
   "source": [
    "# Create a list of payoffs (of portfolios)\n",
    "payoffs = []\n",
    "\n",
    "for i in range(n):\n",
    "    payoffs.append(b[i] * B1 + a[i] * S1)\n",
    "\n",
    "# Transform the list in an array\n",
    "payoffs = np.array(payoffs)\n",
    "payoffs"
   ]
  },
  {
   "cell_type": "code",
   "execution_count": 20,
   "id": "5c65fe37-1685-4cad-a3e1-3ef1f79e7e24",
   "metadata": {},
   "outputs": [
    {
     "data": {
      "text/plain": [
       "<matplotlib.collections.PathCollection at 0x7f97db2d1c60>"
      ]
     },
     "execution_count": 20,
     "metadata": {},
     "output_type": "execute_result"
    },
    {
     "data": {
      "image/png": "[encoded data removed]",
      "text/plain": [
       "<Figure size 640x480 with 1 Axes>"
      ]
     },
     "metadata": {},
     "output_type": "display_data"
    }
   ],
   "source": [
    "# Plot the portfolio payoffs (as points in the plain)\n",
    "plt.clf()\n",
    "plt.title('Random portfolio payoffs')\n",
    "plt.xlabel('u state')\n",
    "plt.ylabel('d state')\n",
    "plt.scatter(payoffs[:, 0], payoffs[:, 1], c='red')"
   ]
  },
  {
   "cell_type": "code",
   "execution_count": null,
   "id": "399e8636-0d32-48e0-9a7b-82d2d1d14cc1",
   "metadata": {},
   "outputs": [],
   "source": []
  }
 ],
 "metadata": {
  "kernelspec": {
   "display_name": "Python 3 (ipykernel)",
   "language": "python",
   "name": "python3"
  },
  "language_info": {
   "codemirror_mode": {
    "name": "ipython",
    "version": 3
   },
   "file_extension": ".py",
   "mimetype": "text/x-python",
   "name": "python",
   "nbconvert_exporter": "python",
   "pygments_lexer": "ipython3",
   "version": "3.10.11"
  }
 },
 "nbformat": 4,
 "nbformat_minor": 5
}
