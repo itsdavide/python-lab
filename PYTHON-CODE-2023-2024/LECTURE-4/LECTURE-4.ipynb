{
 "cells": [
  {
   "cell_type": "code",
   "execution_count": 1,
   "id": "0b00e125-8a89-41ab-ba7f-627ad1587fc0",
   "metadata": {},
   "outputs": [],
   "source": [
    "# Import the libraries\n",
    "import numpy as np"
   ]
  },
  {
   "cell_type": "code",
   "execution_count": 2,
   "id": "69d3d480-9e69-41db-a39b-bd8e26dadd4c",
   "metadata": {},
   "outputs": [
    {
     "data": {
      "text/plain": [
       "array([[ 87,  96,  70],\n",
       "       [100,  87,  90],\n",
       "       [ 94,  77,  90],\n",
       "       [100,  81,  82]])"
      ]
     },
     "execution_count": 2,
     "metadata": {},
     "output_type": "execute_result"
    }
   ],
   "source": [
    "# Create a coefficient matrix\n",
    "A = np.array([[87, 96, 70], [100, 87, 90], [94, 77, 90], [100, 81, 82]])\n",
    "A"
   ]
  },
  {
   "cell_type": "code",
   "execution_count": 3,
   "id": "2a34ff0d-7811-4926-918c-c8851c968bde",
   "metadata": {},
   "outputs": [
    {
     "data": {
      "text/plain": [
       "array([[10],\n",
       "       [ 2],\n",
       "       [50],\n",
       "       [ 3]])"
      ]
     },
     "execution_count": 3,
     "metadata": {},
     "output_type": "execute_result"
    }
   ],
   "source": [
    "# Create a known term vector\n",
    "b = np.array([10, 2, 50, 3])\n",
    "b = b.reshape(4, 1)\n",
    "b"
   ]
  },
  {
   "cell_type": "code",
   "execution_count": 4,
   "id": "6ba0e44c-f687-4b43-a2fe-1216f07d5004",
   "metadata": {},
   "outputs": [
    {
     "data": {
      "text/plain": [
       "array([[ 87,  96,  70,  10],\n",
       "       [100,  87,  90,   2],\n",
       "       [ 94,  77,  90,  50],\n",
       "       [100,  81,  82,   3]])"
      ]
     },
     "execution_count": 4,
     "metadata": {},
     "output_type": "execute_result"
    }
   ],
   "source": [
    "# Create the complete matrix\n",
    "Ab = np.concatenate((A, b), axis=1)\n",
    "Ab"
   ]
  },
  {
   "cell_type": "code",
   "execution_count": 5,
   "id": "76f51701-3f6a-4ebb-9548-2e28c1ba2afe",
   "metadata": {},
   "outputs": [
    {
     "data": {
      "text/plain": [
       "3"
      ]
     },
     "execution_count": 5,
     "metadata": {},
     "output_type": "execute_result"
    }
   ],
   "source": [
    "# Compute the ranks\n",
    "rA = np.linalg.matrix_rank(A)\n",
    "rA"
   ]
  },
  {
   "cell_type": "code",
   "execution_count": 6,
   "id": "f88bb38d-b679-4580-b5a1-572c698f6ffc",
   "metadata": {},
   "outputs": [
    {
     "data": {
      "text/plain": [
       "4"
      ]
     },
     "execution_count": 6,
     "metadata": {},
     "output_type": "execute_result"
    }
   ],
   "source": [
    "rAb = np.linalg.matrix_rank(Ab)\n",
    "rAb"
   ]
  },
  {
   "cell_type": "code",
   "execution_count": 7,
   "id": "7506cd4f-ef71-411b-884b-024bf4bd278a",
   "metadata": {},
   "outputs": [
    {
     "data": {
      "text/plain": [
       "array([[1, 0, 1],\n",
       "       [0, 1, 1],\n",
       "       [1, 2, 2]])"
      ]
     },
     "execution_count": 7,
     "metadata": {},
     "output_type": "execute_result"
    }
   ],
   "source": [
    "# A new coefficient matrix\n",
    "A = np.array([[1, 0, 1], [0, 1, 1], [1, 2, 2]])\n",
    "A"
   ]
  },
  {
   "cell_type": "code",
   "execution_count": 8,
   "id": "559329bc-61f4-4bb5-bcb6-c6aa08e7bece",
   "metadata": {},
   "outputs": [
    {
     "data": {
      "text/plain": [
       "array([[4],\n",
       "       [5],\n",
       "       [1]])"
      ]
     },
     "execution_count": 8,
     "metadata": {},
     "output_type": "execute_result"
    }
   ],
   "source": [
    "# A new known term vector\n",
    "b = np.array([4, 5, 1])\n",
    "b = b.reshape(3, 1)\n",
    "b"
   ]
  },
  {
   "cell_type": "code",
   "execution_count": 9,
   "id": "8edfd1ea-cf77-4d95-a77c-72755d1436d9",
   "metadata": {},
   "outputs": [
    {
     "data": {
      "text/plain": [
       "array([[1, 0, 1, 4],\n",
       "       [0, 1, 1, 5],\n",
       "       [1, 2, 2, 1]])"
      ]
     },
     "execution_count": 9,
     "metadata": {},
     "output_type": "execute_result"
    }
   ],
   "source": [
    "# A new complete matrix\n",
    "Ab = np.concatenate((A, b), axis=1)\n",
    "Ab"
   ]
  },
  {
   "cell_type": "code",
   "execution_count": 10,
   "id": "3c13a4a8-0c4d-4c36-b860-5e5ada2ddd36",
   "metadata": {},
   "outputs": [
    {
     "data": {
      "text/plain": [
       "3"
      ]
     },
     "execution_count": 10,
     "metadata": {},
     "output_type": "execute_result"
    }
   ],
   "source": [
    "# Compute the new ranks\n",
    "rA = np.linalg.matrix_rank(A)\n",
    "rA"
   ]
  },
  {
   "cell_type": "code",
   "execution_count": 11,
   "id": "46e6098b-f634-40e1-9291-119dd336ce75",
   "metadata": {},
   "outputs": [
    {
     "data": {
      "text/plain": [
       "3"
      ]
     },
     "execution_count": 11,
     "metadata": {},
     "output_type": "execute_result"
    }
   ],
   "source": [
    "rAb = np.linalg.matrix_rank(Ab)\n",
    "rAb"
   ]
  },
  {
   "cell_type": "code",
   "execution_count": 12,
   "id": "60d9de04-c559-4ffe-ba65-dac2b572a292",
   "metadata": {},
   "outputs": [
    {
     "data": {
      "text/plain": [
       "array([[-9.],\n",
       "       [-8.],\n",
       "       [13.]])"
      ]
     },
     "execution_count": 12,
     "metadata": {},
     "output_type": "execute_result"
    }
   ],
   "source": [
    "# Solve the system\n",
    "Ainv = np.linalg.inv(A)\n",
    "x = Ainv @ b\n",
    "x"
   ]
  },
  {
   "cell_type": "code",
   "execution_count": null,
   "id": "0b6ffe53-f4db-4b74-bfc2-a961e5b3461d",
   "metadata": {},
   "outputs": [],
   "source": []
  }
 ],
 "metadata": {
  "kernelspec": {
   "display_name": "Python 3 (ipykernel)",
   "language": "python",
   "name": "python3"
  },
  "language_info": {
   "codemirror_mode": {
    "name": "ipython",
    "version": 3
   },
   "file_extension": ".py",
   "mimetype": "text/x-python",
   "name": "python",
   "nbconvert_exporter": "python",
   "pygments_lexer": "ipython3",
   "version": "3.10.11"
  }
 },
 "nbformat": 4,
 "nbformat_minor": 5
}
