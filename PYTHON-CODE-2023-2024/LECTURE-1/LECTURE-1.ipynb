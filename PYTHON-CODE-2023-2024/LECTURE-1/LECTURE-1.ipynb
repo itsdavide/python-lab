{
 "cells": [
  {
   "cell_type": "code",
   "execution_count": 1,
   "id": "1da866af-b026-4ab5-8abf-1f980fca44ce",
   "metadata": {},
   "outputs": [
    {
     "data": {
      "text/plain": [
       "496053"
      ]
     },
     "execution_count": 1,
     "metadata": {},
     "output_type": "execute_result"
    }
   ],
   "source": [
    "45 + 72 * (5 + 78)**2"
   ]
  },
  {
   "cell_type": "code",
   "execution_count": 2,
   "id": "557243b4-fa88-4ae2-bb28-b0b9a5827a42",
   "metadata": {},
   "outputs": [],
   "source": [
    "x = 3\n",
    "y = 5\n",
    "total = x + y"
   ]
  },
  {
   "cell_type": "code",
   "execution_count": 3,
   "id": "c98fefc3-fc00-4434-987b-a397bf7d7027",
   "metadata": {},
   "outputs": [
    {
     "data": {
      "text/plain": [
       "8"
      ]
     },
     "execution_count": 3,
     "metadata": {},
     "output_type": "execute_result"
    }
   ],
   "source": [
    "total"
   ]
  },
  {
   "cell_type": "code",
   "execution_count": 4,
   "id": "8e0732c2-2923-4d86-838a-0f45ba86456d",
   "metadata": {},
   "outputs": [
    {
     "data": {
      "text/plain": [
       "int"
      ]
     },
     "execution_count": 4,
     "metadata": {},
     "output_type": "execute_result"
    }
   ],
   "source": [
    "a = -10\n",
    "type(a)"
   ]
  },
  {
   "cell_type": "code",
   "execution_count": 5,
   "id": "e2e12007-aeba-4671-9963-d33b0b69173a",
   "metadata": {},
   "outputs": [
    {
     "data": {
      "text/plain": [
       "float"
      ]
     },
     "execution_count": 5,
     "metadata": {},
     "output_type": "execute_result"
    }
   ],
   "source": [
    "a = 1.2\n",
    "type(a)"
   ]
  },
  {
   "cell_type": "code",
   "execution_count": 6,
   "id": "b81be3f2-a1d7-45ce-acc4-ed246da876c6",
   "metadata": {},
   "outputs": [
    {
     "data": {
      "text/plain": [
       "str"
      ]
     },
     "execution_count": 6,
     "metadata": {},
     "output_type": "execute_result"
    }
   ],
   "source": [
    "a = 'hello'\n",
    "type(a)"
   ]
  },
  {
   "cell_type": "code",
   "execution_count": 7,
   "id": "19e00694-094a-4307-ba01-c6fcfdbb4366",
   "metadata": {},
   "outputs": [
    {
     "data": {
      "text/plain": [
       "bool"
      ]
     },
     "execution_count": 7,
     "metadata": {},
     "output_type": "execute_result"
    }
   ],
   "source": [
    "a = True\n",
    "type(a)"
   ]
  },
  {
   "cell_type": "code",
   "execution_count": 8,
   "id": "35bae7d0-04b7-468f-b2b9-8384124ed3c3",
   "metadata": {},
   "outputs": [
    {
     "name": "stdin",
     "output_type": "stream",
     "text": [
      "Insert a number > 56\n"
     ]
    }
   ],
   "source": [
    "b = input('Insert a number >')"
   ]
  },
  {
   "cell_type": "code",
   "execution_count": 9,
   "id": "bc2d8ef1-ef1e-4db6-abca-bcb384d2cdcb",
   "metadata": {},
   "outputs": [
    {
     "data": {
      "text/plain": [
       "str"
      ]
     },
     "execution_count": 9,
     "metadata": {},
     "output_type": "execute_result"
    }
   ],
   "source": [
    "type(b)"
   ]
  },
  {
   "cell_type": "code",
   "execution_count": 10,
   "id": "3fbb914b-a274-41d5-a4b1-a264282a5584",
   "metadata": {},
   "outputs": [
    {
     "data": {
      "text/plain": [
       "int"
      ]
     },
     "execution_count": 10,
     "metadata": {},
     "output_type": "execute_result"
    }
   ],
   "source": [
    "b = int(b)\n",
    "type(b)"
   ]
  },
  {
   "cell_type": "code",
   "execution_count": 11,
   "id": "66daa66b-4336-49a6-816b-6779c2b69599",
   "metadata": {},
   "outputs": [
    {
     "data": {
      "text/plain": [
       "56"
      ]
     },
     "execution_count": 11,
     "metadata": {},
     "output_type": "execute_result"
    }
   ],
   "source": [
    "b"
   ]
  },
  {
   "cell_type": "code",
   "execution_count": 12,
   "id": "d7e3619d-ee21-4fba-909f-4e23a5c92873",
   "metadata": {},
   "outputs": [],
   "source": [
    "if b < 50:\n",
    "    print('The number is less than 50')"
   ]
  },
  {
   "cell_type": "code",
   "execution_count": 13,
   "id": "4cec6b31-4481-4ab3-8ca4-6f4e8d34631b",
   "metadata": {},
   "outputs": [
    {
     "name": "stdout",
     "output_type": "stream",
     "text": [
      "The number is greater than 50\n"
     ]
    }
   ],
   "source": [
    "if b > 50:\n",
    "    print('The number is greater than 50')\n",
    "else:\n",
    "    print('The number is less than or equal to 50')"
   ]
  },
  {
   "cell_type": "code",
   "execution_count": 14,
   "id": "f866d23d-cb00-4af0-af06-e43a783a691c",
   "metadata": {},
   "outputs": [
    {
     "name": "stdout",
     "output_type": "stream",
     "text": [
      "The number is greater than 50\n"
     ]
    }
   ],
   "source": [
    "if b > 50:\n",
    "    print('The number is greater than 50')\n",
    "elif b < 50:\n",
    "    print('The number is less than 50')\n",
    "else:\n",
    "    print('The number is equal to 50')"
   ]
  },
  {
   "cell_type": "code",
   "execution_count": 15,
   "id": "c401c6c6-432c-40b5-a4e3-335c2b51c033",
   "metadata": {},
   "outputs": [
    {
     "name": "stdout",
     "output_type": "stream",
     "text": [
      "The result is: 243\n"
     ]
    }
   ],
   "source": [
    "product = 3\n",
    "\n",
    "while product <= 100:\n",
    "    product *= 3\n",
    "    \n",
    "print('The result is:', product)"
   ]
  },
  {
   "cell_type": "code",
   "execution_count": 16,
   "id": "89b62698-ba2e-4c3e-afb5-538b583692c7",
   "metadata": {},
   "outputs": [
    {
     "name": "stdout",
     "output_type": "stream",
     "text": [
      "The result is: 81\n"
     ]
    }
   ],
   "source": [
    "product = 3\n",
    "\n",
    "while product * 3 <= 100:\n",
    "    product *= 3\n",
    "    \n",
    "print('The result is:', product)"
   ]
  },
  {
   "cell_type": "code",
   "execution_count": 17,
   "id": "61943bb3-7ddf-4ca2-b131-b511d9aa5ea4",
   "metadata": {},
   "outputs": [
    {
     "name": "stdout",
     "output_type": "stream",
     "text": [
      "The current index is: 0\n",
      "The current index is: 1\n",
      "The current index is: 2\n",
      "The current index is: 3\n",
      "The current index is: 4\n"
     ]
    }
   ],
   "source": [
    "for k in range(0, 5):\n",
    "    print('The current index is:', k)"
   ]
  },
  {
   "cell_type": "code",
   "execution_count": 18,
   "id": "f59f6d80-9f4c-4354-b19b-4c8b237a3bd1",
   "metadata": {},
   "outputs": [
    {
     "name": "stdout",
     "output_type": "stream",
     "text": [
      "The current index is: 4\n",
      "The square of the current index is: 16\n",
      "The current index is: 3\n",
      "The square of the current index is: 9\n",
      "The current index is: 2\n",
      "The square of the current index is: 4\n",
      "The current index is: 1\n",
      "The square of the current index is: 1\n",
      "The current index is: 0\n",
      "The square of the current index is: 0\n"
     ]
    }
   ],
   "source": [
    "for k in range(4, -1, -1):\n",
    "    print('The current index is:', k)\n",
    "    print('The square of the current index is:', k**2)"
   ]
  },
  {
   "cell_type": "code",
   "execution_count": 19,
   "id": "38340324-8e2f-4bbc-821b-0ffdb3e8f3a1",
   "metadata": {},
   "outputs": [
    {
     "data": {
      "text/plain": [
       "list"
      ]
     },
     "execution_count": 19,
     "metadata": {},
     "output_type": "execute_result"
    }
   ],
   "source": [
    "items = [10, 20, 30, 40]\n",
    "type(items)"
   ]
  },
  {
   "cell_type": "code",
   "execution_count": 20,
   "id": "20a7f3fe-3f6f-4151-b4ab-f83f032420bf",
   "metadata": {},
   "outputs": [
    {
     "name": "stdout",
     "output_type": "stream",
     "text": [
      "The item is: 10\n",
      "The item is: 20\n",
      "The item is: 30\n",
      "The item is: 40\n"
     ]
    }
   ],
   "source": [
    "for i in items:\n",
    "    print('The item is:', i)"
   ]
  },
  {
   "cell_type": "code",
   "execution_count": 21,
   "id": "96558a66-ab9e-4f9c-b037-c66dfeaee057",
   "metadata": {},
   "outputs": [
    {
     "name": "stdout",
     "output_type": "stream",
     "text": [
      "The item is: 10\n",
      "The item is: 20\n",
      "The item is: 30\n",
      "The item is: 40\n"
     ]
    }
   ],
   "source": [
    "n = len(items)\n",
    "\n",
    "for k in range(0, n):\n",
    "    print('The item is:', items[k])"
   ]
  },
  {
   "cell_type": "code",
   "execution_count": 22,
   "id": "705bc481-667c-4bf2-92f2-25f32cb55995",
   "metadata": {},
   "outputs": [],
   "source": [
    "# This is a comment\n",
    "# This is another comment\n",
    "g = 15\n",
    "\n",
    "if g > 15:\n",
    "    # print('This is g:', g)\n",
    "    g += 2 # g = g + 2"
   ]
  },
  {
   "cell_type": "code",
   "execution_count": 23,
   "id": "634c6ba6-be36-4851-bf47-38c01c387e36",
   "metadata": {},
   "outputs": [
    {
     "data": {
      "text/plain": [
       "15"
      ]
     },
     "execution_count": 23,
     "metadata": {},
     "output_type": "execute_result"
    }
   ],
   "source": [
    "g"
   ]
  },
  {
   "cell_type": "code",
   "execution_count": 24,
   "id": "2b25443c-acf5-46a3-8bc7-ce498fb03a85",
   "metadata": {},
   "outputs": [
    {
     "name": "stdin",
     "output_type": "stream",
     "text": [
      "Insert a number: 5\n",
      "Insert a number: 3\n",
      "Insert a number: 7\n",
      "Insert a number: 8\n",
      "Insert a number: 9\n",
      "Insert a number: 10\n",
      "Insert a number: 100\n",
      "Insert a number: 3\n",
      "Insert a number: -1\n"
     ]
    },
    {
     "name": "stdout",
     "output_type": "stream",
     "text": [
      "The total is: 145\n"
     ]
    }
   ],
   "source": [
    "# Store partial sum\n",
    "tot = 0\n",
    "\n",
    "# Read a number from the keyboard\n",
    "n = int(input('Insert a number:'))\n",
    "\n",
    "# Sum the numbers in input until -1 is inserted\n",
    "while n != -1:\n",
    "    tot += n # This means tot = tot + n\n",
    "    n = int(input('Insert a number:'))\n",
    "    \n",
    "print('The total is:', tot)"
   ]
  },
  {
   "cell_type": "code",
   "execution_count": 25,
   "id": "683e30ed-425e-474e-852f-8f69a181bcd6",
   "metadata": {},
   "outputs": [
    {
     "name": "stdin",
     "output_type": "stream",
     "text": [
      "Insert a number: 4\n"
     ]
    },
    {
     "name": "stdout",
     "output_type": "stream",
     "text": [
      "Factorial = 24\n"
     ]
    }
   ],
   "source": [
    "# Read a number from the keyboard\n",
    "n = int(input('Insert a number:'))\n",
    "\n",
    "factorial = 1\n",
    "\n",
    "if n == 0 or n == 1:\n",
    "    factorial = 1\n",
    "else:\n",
    "    for k in range(n, 0, -1): # k = n, n-1, ..., 1\n",
    "        factorial *= k\n",
    "        \n",
    "print('Factorial =', factorial)"
   ]
  },
  {
   "cell_type": "code",
   "execution_count": null,
   "id": "36d104cd-a629-489b-8561-5b4e0f9c4391",
   "metadata": {},
   "outputs": [],
   "source": []
  }
 ],
 "metadata": {
  "kernelspec": {
   "display_name": "Python 3 (ipykernel)",
   "language": "python",
   "name": "python3"
  },
  "language_info": {
   "codemirror_mode": {
    "name": "ipython",
    "version": 3
   },
   "file_extension": ".py",
   "mimetype": "text/x-python",
   "name": "python",
   "nbconvert_exporter": "python",
   "pygments_lexer": "ipython3",
   "version": "3.10.11"
  }
 },
 "nbformat": 4,
 "nbformat_minor": 5
}
